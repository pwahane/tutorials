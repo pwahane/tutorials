{
  "nbformat": 4,
  "nbformat_minor": 0,
  "metadata": {
    "colab": {
      "name": "numpy.ipynb",
      "provenance": []
    },
    "kernelspec": {
      "name": "python3",
      "display_name": "Python 3"
    },
    "language_info": {
      "name": "python"
    }
  },
  "cells": [
    {
      "cell_type": "markdown",
      "metadata": {
        "id": "tV6bJWfYA4PX"
      },
      "source": [
        "# Numerical Python (NumPy)\n",
        "\n",
        "Allows to work on multidimensional array\n",
        "\n",
        "Website: [NumPy](https://numpy.org)\n",
        "\n"
      ]
    },
    {
      "cell_type": "markdown",
      "metadata": {
        "id": "p2-CyHNqB4Bp"
      },
      "source": [
        "### Install numpy library"
      ]
    },
    {
      "cell_type": "code",
      "metadata": {
        "colab": {
          "base_uri": "https://localhost:8080/"
        },
        "id": "f2caQAOCBult",
        "outputId": "c0ce5efb-5b24-4d6d-9c5d-585ab2919c39"
      },
      "source": [
        "! pip install numpy "
      ],
      "execution_count": null,
      "outputs": [
        {
          "output_type": "stream",
          "text": [
            "Requirement already satisfied: numpy in /usr/local/lib/python3.7/dist-packages (1.19.5)\n"
          ],
          "name": "stdout"
        }
      ]
    },
    {
      "cell_type": "markdown",
      "metadata": {
        "id": "929Y3bZtCJgp"
      },
      "source": [
        "### Importing library in the notebook"
      ]
    },
    {
      "cell_type": "code",
      "metadata": {
        "id": "h9fBHTQzBQlA"
      },
      "source": [
        "import numpy as np # Way to import the numpy library "
      ],
      "execution_count": null,
      "outputs": []
    },
    {
      "cell_type": "markdown",
      "metadata": {
        "id": "tdGl35ZFClvb"
      },
      "source": [
        "### Convering a list into a numpy array"
      ]
    },
    {
      "cell_type": "code",
      "metadata": {
        "colab": {
          "base_uri": "https://localhost:8080/"
        },
        "id": "ZTjzqd8xBUTE",
        "outputId": "65bd3ed9-d04c-49ab-8444-d9f83509a760"
      },
      "source": [
        "myList = [1,2,3]\n",
        "myArray = np.array(myList)\n",
        "\n",
        "print('myArray',myArray)\n",
        "\n",
        "print('Type of myArray',type(myArray))"
      ],
      "execution_count": null,
      "outputs": [
        {
          "output_type": "stream",
          "text": [
            "myArray [1 2 3]\n",
            "Type of myArray <class 'numpy.ndarray'>\n"
          ],
          "name": "stdout"
        }
      ]
    },
    {
      "cell_type": "markdown",
      "metadata": {
        "id": "cRWjqXrjDyUs"
      },
      "source": [
        "### Multidimensional arrays"
      ]
    },
    {
      "cell_type": "code",
      "metadata": {
        "colab": {
          "base_uri": "https://localhost:8080/"
        },
        "id": "0_YI9XE0Cj_d",
        "outputId": "83313351-b405-4ded-bcf2-9ba14c282857"
      },
      "source": [
        "list_of_lists = np.array([[1,2,4],[4,6,7]])\n",
        "\n",
        "print('Shape',list_of_lists.shape)"
      ],
      "execution_count": null,
      "outputs": [
        {
          "output_type": "stream",
          "text": [
            "Shape (2, 3)\n"
          ],
          "name": "stdout"
        }
      ]
    },
    {
      "cell_type": "markdown",
      "metadata": {
        "id": "dkgZO68JEEmT"
      },
      "source": [
        "### Creating Range"
      ]
    },
    {
      "cell_type": "code",
      "metadata": {
        "colab": {
          "base_uri": "https://localhost:8080/"
        },
        "id": "gFGt0lsZDr-M",
        "outputId": "2174707a-9290-4efd-ee1d-669d31c07680"
      },
      "source": [
        "np.arange(0,10000)"
      ],
      "execution_count": null,
      "outputs": [
        {
          "output_type": "execute_result",
          "data": {
            "text/plain": [
              "array([   0,    1,    2, ..., 9997, 9998, 9999])"
            ]
          },
          "metadata": {
            "tags": []
          },
          "execution_count": 7
        }
      ]
    },
    {
      "cell_type": "markdown",
      "metadata": {
        "id": "KdbjoXkHEwv-"
      },
      "source": [
        "Range with intervals"
      ]
    },
    {
      "cell_type": "code",
      "metadata": {
        "colab": {
          "base_uri": "https://localhost:8080/"
        },
        "id": "aTLk9PBuEDMr",
        "outputId": "66b3e991-5189-4411-9b52-7bbd1de62b72"
      },
      "source": [
        "np.arange(0,100,5)"
      ],
      "execution_count": null,
      "outputs": [
        {
          "output_type": "execute_result",
          "data": {
            "text/plain": [
              "array([ 0,  5, 10, 15, 20, 25, 30, 35, 40, 45, 50, 55, 60, 65, 70, 75, 80,\n",
              "       85, 90, 95])"
            ]
          },
          "metadata": {
            "tags": []
          },
          "execution_count": 8
        }
      ]
    },
    {
      "cell_type": "markdown",
      "metadata": {
        "id": "1lSCyidvFRvE"
      },
      "source": [
        "### Generate array with zeros"
      ]
    },
    {
      "cell_type": "code",
      "metadata": {
        "colab": {
          "base_uri": "https://localhost:8080/"
        },
        "id": "3n4G1hDsEmJC",
        "outputId": "3f8bb8d3-6447-4fe5-ca95-249e9ea71ffc"
      },
      "source": [
        "np.zeros(100)"
      ],
      "execution_count": null,
      "outputs": [
        {
          "output_type": "execute_result",
          "data": {
            "text/plain": [
              "array([0., 0., 0., 0., 0., 0., 0., 0., 0., 0., 0., 0., 0., 0., 0., 0., 0.,\n",
              "       0., 0., 0., 0., 0., 0., 0., 0., 0., 0., 0., 0., 0., 0., 0., 0., 0.,\n",
              "       0., 0., 0., 0., 0., 0., 0., 0., 0., 0., 0., 0., 0., 0., 0., 0., 0.,\n",
              "       0., 0., 0., 0., 0., 0., 0., 0., 0., 0., 0., 0., 0., 0., 0., 0., 0.,\n",
              "       0., 0., 0., 0., 0., 0., 0., 0., 0., 0., 0., 0., 0., 0., 0., 0., 0.,\n",
              "       0., 0., 0., 0., 0., 0., 0., 0., 0., 0., 0., 0., 0., 0., 0.])"
            ]
          },
          "metadata": {
            "tags": []
          },
          "execution_count": 9
        }
      ]
    },
    {
      "cell_type": "markdown",
      "metadata": {
        "id": "2ZMVkV2_FfHR"
      },
      "source": [
        "### A three by three array of ones"
      ]
    },
    {
      "cell_type": "code",
      "metadata": {
        "colab": {
          "base_uri": "https://localhost:8080/"
        },
        "id": "vT_rUS_wFQJ9",
        "outputId": "1d7b73e8-ef12-474c-a260-450cfdc20bf1"
      },
      "source": [
        "np.ones((3,3))"
      ],
      "execution_count": null,
      "outputs": [
        {
          "output_type": "execute_result",
          "data": {
            "text/plain": [
              "array([[1., 1., 1.],\n",
              "       [1., 1., 1.],\n",
              "       [1., 1., 1.]])"
            ]
          },
          "metadata": {
            "tags": []
          },
          "execution_count": 10
        }
      ]
    },
    {
      "cell_type": "markdown",
      "metadata": {
        "id": "nSQ5n4dMFoeE"
      },
      "source": [
        "### Diagonally one"
      ]
    },
    {
      "cell_type": "code",
      "metadata": {
        "colab": {
          "base_uri": "https://localhost:8080/"
        },
        "id": "NJngPD1LFeEJ",
        "outputId": "bd17e826-9e0b-41fd-a99a-02620ac94a51"
      },
      "source": [
        "np.eye(10)"
      ],
      "execution_count": null,
      "outputs": [
        {
          "output_type": "execute_result",
          "data": {
            "text/plain": [
              "array([[1., 0., 0., 0., 0., 0., 0., 0., 0., 0.],\n",
              "       [0., 1., 0., 0., 0., 0., 0., 0., 0., 0.],\n",
              "       [0., 0., 1., 0., 0., 0., 0., 0., 0., 0.],\n",
              "       [0., 0., 0., 1., 0., 0., 0., 0., 0., 0.],\n",
              "       [0., 0., 0., 0., 1., 0., 0., 0., 0., 0.],\n",
              "       [0., 0., 0., 0., 0., 1., 0., 0., 0., 0.],\n",
              "       [0., 0., 0., 0., 0., 0., 1., 0., 0., 0.],\n",
              "       [0., 0., 0., 0., 0., 0., 0., 1., 0., 0.],\n",
              "       [0., 0., 0., 0., 0., 0., 0., 0., 1., 0.],\n",
              "       [0., 0., 0., 0., 0., 0., 0., 0., 0., 1.]])"
            ]
          },
          "metadata": {
            "tags": []
          },
          "execution_count": 11
        }
      ]
    },
    {
      "cell_type": "markdown",
      "metadata": {
        "id": "_9NAJCwIOnRZ"
      },
      "source": [
        "### Reshaping the array (Change dimensions)"
      ]
    },
    {
      "cell_type": "markdown",
      "metadata": {
        "id": "sqA5asjaQrCI"
      },
      "source": [
        "* The multiplication of dimensions should be equal to the number of elements in array. \n",
        "* The orignal array is retained\n",
        "\n"
      ]
    },
    {
      "cell_type": "code",
      "metadata": {
        "colab": {
          "base_uri": "https://localhost:8080/"
        },
        "id": "BXqcxBckFmT1",
        "outputId": "fa8767ef-09fa-4150-c6b7-4f1ddbfc67b0"
      },
      "source": [
        "mn = np.arange(0,50)\n",
        "\n",
        "mn.reshape(5,10)"
      ],
      "execution_count": null,
      "outputs": [
        {
          "output_type": "execute_result",
          "data": {
            "text/plain": [
              "array([[ 0,  1,  2,  3,  4,  5,  6,  7,  8,  9],\n",
              "       [10, 11, 12, 13, 14, 15, 16, 17, 18, 19],\n",
              "       [20, 21, 22, 23, 24, 25, 26, 27, 28, 29],\n",
              "       [30, 31, 32, 33, 34, 35, 36, 37, 38, 39],\n",
              "       [40, 41, 42, 43, 44, 45, 46, 47, 48, 49]])"
            ]
          },
          "metadata": {
            "tags": []
          },
          "execution_count": 12
        }
      ]
    },
    {
      "cell_type": "markdown",
      "metadata": {
        "id": "XmfXjcEcRrW7"
      },
      "source": [
        "### Resizing the array\n",
        "\n",
        "* Changes the orignal array"
      ]
    },
    {
      "cell_type": "code",
      "metadata": {
        "colab": {
          "base_uri": "https://localhost:8080/"
        },
        "id": "tFdZiyN7QEw0",
        "outputId": "6e080f62-b58a-4eb7-81e6-01c6e654d086"
      },
      "source": [
        "o = np.arange(0,50)\n",
        "o.resize(10,5)\n",
        "o"
      ],
      "execution_count": null,
      "outputs": [
        {
          "output_type": "execute_result",
          "data": {
            "text/plain": [
              "array([[ 0,  1,  2,  3,  4],\n",
              "       [ 5,  6,  7,  8,  9],\n",
              "       [10, 11, 12, 13, 14],\n",
              "       [15, 16, 17, 18, 19],\n",
              "       [20, 21, 22, 23, 24],\n",
              "       [25, 26, 27, 28, 29],\n",
              "       [30, 31, 32, 33, 34],\n",
              "       [35, 36, 37, 38, 39],\n",
              "       [40, 41, 42, 43, 44],\n",
              "       [45, 46, 47, 48, 49]])"
            ]
          },
          "metadata": {
            "tags": []
          },
          "execution_count": 13
        }
      ]
    },
    {
      "cell_type": "code",
      "metadata": {
        "id": "PMLnoZaWRorG"
      },
      "source": [
        ""
      ],
      "execution_count": null,
      "outputs": []
    },
    {
      "cell_type": "markdown",
      "metadata": {
        "id": "ZRoVhH9sP8dG"
      },
      "source": [
        "### Return evenly spaced values in a range"
      ]
    },
    {
      "cell_type": "code",
      "metadata": {
        "colab": {
          "base_uri": "https://localhost:8080/"
        },
        "id": "JnqeYC7eOmAb",
        "outputId": "cf2e6d2b-c3eb-4353-e3f9-bb6810616ad3"
      },
      "source": [
        "np.linspace(0,7,5)"
      ],
      "execution_count": null,
      "outputs": [
        {
          "output_type": "execute_result",
          "data": {
            "text/plain": [
              "array([0.  , 1.75, 3.5 , 5.25, 7.  ])"
            ]
          },
          "metadata": {
            "tags": []
          },
          "execution_count": 14
        }
      ]
    },
    {
      "cell_type": "markdown",
      "metadata": {
        "id": "G-f52J61SUA-"
      },
      "source": [
        "### Generate random numbers between 0 & 1\n",
        "\n",
        "* The arguments should provide the dimensions for array\n",
        "* Returns numbers from uniform distribution"
      ]
    },
    {
      "cell_type": "code",
      "metadata": {
        "colab": {
          "base_uri": "https://localhost:8080/"
        },
        "id": "UyUrW_TkSLVB",
        "outputId": "fef9b319-1fbf-4156-db61-a8d92a72e036"
      },
      "source": [
        "np.random.rand(3,2)"
      ],
      "execution_count": null,
      "outputs": [
        {
          "output_type": "execute_result",
          "data": {
            "text/plain": [
              "array([[0.672147  , 0.20104477],\n",
              "       [0.33984072, 0.74450758],\n",
              "       [0.98861337, 0.2473649 ]])"
            ]
          },
          "metadata": {
            "tags": []
          },
          "execution_count": 15
        }
      ]
    },
    {
      "cell_type": "markdown",
      "metadata": {
        "id": "LzGi_lOklltN"
      },
      "source": [
        "#### Return random numbers from standard normal distribution"
      ]
    },
    {
      "cell_type": "code",
      "metadata": {
        "id": "aeCSczw7SRCl",
        "colab": {
          "base_uri": "https://localhost:8080/"
        },
        "outputId": "b6a302e1-3afb-4167-ece6-16290818c04c"
      },
      "source": [
        "np.random.randn(3,2)"
      ],
      "execution_count": null,
      "outputs": [
        {
          "output_type": "execute_result",
          "data": {
            "text/plain": [
              "array([[-1.17026719,  0.00649464],\n",
              "       [-0.71203465,  0.48072499],\n",
              "       [-0.57141432, -0.03048345]])"
            ]
          },
          "metadata": {
            "tags": []
          },
          "execution_count": 16
        }
      ]
    },
    {
      "cell_type": "markdown",
      "metadata": {
        "id": "Wv_Byt2mmD1C"
      },
      "source": [
        "#### Return random integers from low(inclusive) and high (exclusive)"
      ]
    },
    {
      "cell_type": "code",
      "metadata": {
        "colab": {
          "base_uri": "https://localhost:8080/"
        },
        "id": "l4pCCIQilH56",
        "outputId": "a8481451-1198-4f97-9bae-5d992fe87bc2"
      },
      "source": [
        "np.random.randint(4,15,10) # generate 10 random numbers between 4 and 15"
      ],
      "execution_count": null,
      "outputs": [
        {
          "output_type": "execute_result",
          "data": {
            "text/plain": [
              "array([14,  8,  9,  8,  9,  6,  8, 13,  4,  8])"
            ]
          },
          "metadata": {
            "tags": []
          },
          "execution_count": 17
        }
      ]
    },
    {
      "cell_type": "markdown",
      "metadata": {
        "id": "nRfGgy-vm4ei"
      },
      "source": [
        "# Indexing and Slicing"
      ]
    },
    {
      "cell_type": "code",
      "metadata": {
        "colab": {
          "base_uri": "https://localhost:8080/"
        },
        "id": "OLJ5W36lmdJ-",
        "outputId": "76cea3b6-1b6b-4915-8a08-d6a05d68f81e"
      },
      "source": [
        " mn = np.random.randint(4,15,10)\n",
        " print('Array',mn)\n",
        " print('Index 1',mn[1])\n",
        " print('Negative Index',mn[-4])\n",
        " print('Range',mn[3:6])\n",
        " print('Range from',mn[3:])\n",
        " print('Negative index in range',mn[3:-2])"
      ],
      "execution_count": null,
      "outputs": [
        {
          "output_type": "stream",
          "text": [
            "Array [10  5  6 11  6  9 13 10  4  4]\n",
            "Index 1 5\n",
            "Negative Index 13\n",
            "Range [11  6  9]\n",
            "Range from [11  6  9 13 10  4  4]\n",
            "Negative index in range [11  6  9 13 10]\n"
          ],
          "name": "stdout"
        }
      ]
    },
    {
      "cell_type": "code",
      "metadata": {
        "colab": {
          "base_uri": "https://localhost:8080/"
        },
        "id": "kAsgIPC3nPzr",
        "outputId": "575cb6c1-c6f0-4f67-8bd8-c4cce5788bd0"
      },
      "source": [
        "mn"
      ],
      "execution_count": null,
      "outputs": [
        {
          "output_type": "execute_result",
          "data": {
            "text/plain": [
              "array([10,  5,  6, 11,  6,  9, 13, 10,  4,  4])"
            ]
          },
          "metadata": {
            "tags": []
          },
          "execution_count": 19
        }
      ]
    },
    {
      "cell_type": "code",
      "metadata": {
        "id": "LNRgc0vP5JQl"
      },
      "source": [
        ""
      ],
      "execution_count": null,
      "outputs": []
    }
  ]
}