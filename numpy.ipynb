{
  "nbformat": 4,
  "nbformat_minor": 0,
  "metadata": {
    "colab": {
      "name": "numpy.ipynb",
      "provenance": []
    },
    "kernelspec": {
      "name": "python3",
      "display_name": "Python 3"
    },
    "language_info": {
      "name": "python"
    }
  },
  "cells": [
    {
      "cell_type": "markdown",
      "metadata": {
        "id": "tV6bJWfYA4PX"
      },
      "source": [
        "# Numerical Python (NumPy)\n",
        "\n",
        "Allows to work on multidimensional array\n",
        "\n",
        "Website: [NumPy](https://numpy.org)\n",
        "\n"
      ]
    },
    {
      "cell_type": "markdown",
      "metadata": {
        "id": "p2-CyHNqB4Bp"
      },
      "source": [
        "### Install numpy library"
      ]
    },
    {
      "cell_type": "code",
      "metadata": {
        "colab": {
          "base_uri": "https://localhost:8080/"
        },
        "id": "f2caQAOCBult",
        "outputId": "ccd2fb91-1fe3-44a8-a00c-1739835cc76a"
      },
      "source": [
        "! pip install numpy "
      ],
      "execution_count": 4,
      "outputs": [
        {
          "output_type": "stream",
          "text": [
            "Requirement already satisfied: numpy in /usr/local/lib/python3.7/dist-packages (1.19.5)\n"
          ],
          "name": "stdout"
        }
      ]
    },
    {
      "cell_type": "markdown",
      "metadata": {
        "id": "929Y3bZtCJgp"
      },
      "source": [
        "### Importing library in the notebook"
      ]
    },
    {
      "cell_type": "code",
      "metadata": {
        "id": "h9fBHTQzBQlA"
      },
      "source": [
        "import numpy as np # Way to import the numpy library "
      ],
      "execution_count": 5,
      "outputs": []
    },
    {
      "cell_type": "markdown",
      "metadata": {
        "id": "tdGl35ZFClvb"
      },
      "source": [
        "### Convering a list into a numpy array"
      ]
    },
    {
      "cell_type": "code",
      "metadata": {
        "colab": {
          "base_uri": "https://localhost:8080/"
        },
        "id": "ZTjzqd8xBUTE",
        "outputId": "9ea64cc1-95b5-42be-d9ca-538996b343fc"
      },
      "source": [
        "myList = [1,2,3]\n",
        "myArray = np.array(myList)\n",
        "\n",
        "print('myArray',myArray)\n",
        "\n",
        "print('Type of myArray',type(myArray))"
      ],
      "execution_count": 6,
      "outputs": [
        {
          "output_type": "stream",
          "text": [
            "myArray [1 2 3]\n",
            "Type of myArray <class 'numpy.ndarray'>\n"
          ],
          "name": "stdout"
        }
      ]
    },
    {
      "cell_type": "markdown",
      "metadata": {
        "id": "cRWjqXrjDyUs"
      },
      "source": [
        "### Multidimensional arrays"
      ]
    },
    {
      "cell_type": "code",
      "metadata": {
        "colab": {
          "base_uri": "https://localhost:8080/"
        },
        "id": "0_YI9XE0Cj_d",
        "outputId": "f4d3b6a3-e67c-4037-fcb1-7bc17c8f2595"
      },
      "source": [
        "list_of_lists = np.array([[1,2,4],[4,6,7]])\n",
        "\n",
        "print('Shape',list_of_lists.shape)"
      ],
      "execution_count": 7,
      "outputs": [
        {
          "output_type": "stream",
          "text": [
            "Shape (2, 3)\n"
          ],
          "name": "stdout"
        }
      ]
    },
    {
      "cell_type": "markdown",
      "metadata": {
        "id": "dkgZO68JEEmT"
      },
      "source": [
        "### Creating Range"
      ]
    },
    {
      "cell_type": "code",
      "metadata": {
        "colab": {
          "base_uri": "https://localhost:8080/"
        },
        "id": "gFGt0lsZDr-M",
        "outputId": "876e0312-b156-46af-aeb4-d36eb516c03c"
      },
      "source": [
        "np.arange(0,10000)"
      ],
      "execution_count": 8,
      "outputs": [
        {
          "output_type": "execute_result",
          "data": {
            "text/plain": [
              "array([   0,    1,    2, ..., 9997, 9998, 9999])"
            ]
          },
          "metadata": {
            "tags": []
          },
          "execution_count": 8
        }
      ]
    },
    {
      "cell_type": "markdown",
      "metadata": {
        "id": "KdbjoXkHEwv-"
      },
      "source": [
        "Range with intervals"
      ]
    },
    {
      "cell_type": "code",
      "metadata": {
        "colab": {
          "base_uri": "https://localhost:8080/"
        },
        "id": "aTLk9PBuEDMr",
        "outputId": "8bcf93c3-5c47-4857-835a-764e414f23bb"
      },
      "source": [
        "np.arange(0,100,5)"
      ],
      "execution_count": 9,
      "outputs": [
        {
          "output_type": "execute_result",
          "data": {
            "text/plain": [
              "array([ 0,  5, 10, 15, 20, 25, 30, 35, 40, 45, 50, 55, 60, 65, 70, 75, 80,\n",
              "       85, 90, 95])"
            ]
          },
          "metadata": {
            "tags": []
          },
          "execution_count": 9
        }
      ]
    },
    {
      "cell_type": "markdown",
      "metadata": {
        "id": "1lSCyidvFRvE"
      },
      "source": [
        "### Generate array with zeros"
      ]
    },
    {
      "cell_type": "code",
      "metadata": {
        "colab": {
          "base_uri": "https://localhost:8080/"
        },
        "id": "3n4G1hDsEmJC",
        "outputId": "19338090-388d-4833-c15e-961ac69260dd"
      },
      "source": [
        "np.zeros(100)"
      ],
      "execution_count": 10,
      "outputs": [
        {
          "output_type": "execute_result",
          "data": {
            "text/plain": [
              "array([0., 0., 0., 0., 0., 0., 0., 0., 0., 0., 0., 0., 0., 0., 0., 0., 0.,\n",
              "       0., 0., 0., 0., 0., 0., 0., 0., 0., 0., 0., 0., 0., 0., 0., 0., 0.,\n",
              "       0., 0., 0., 0., 0., 0., 0., 0., 0., 0., 0., 0., 0., 0., 0., 0., 0.,\n",
              "       0., 0., 0., 0., 0., 0., 0., 0., 0., 0., 0., 0., 0., 0., 0., 0., 0.,\n",
              "       0., 0., 0., 0., 0., 0., 0., 0., 0., 0., 0., 0., 0., 0., 0., 0., 0.,\n",
              "       0., 0., 0., 0., 0., 0., 0., 0., 0., 0., 0., 0., 0., 0., 0.])"
            ]
          },
          "metadata": {
            "tags": []
          },
          "execution_count": 10
        }
      ]
    },
    {
      "cell_type": "markdown",
      "metadata": {
        "id": "2ZMVkV2_FfHR"
      },
      "source": [
        "### A three by three array of ones"
      ]
    },
    {
      "cell_type": "code",
      "metadata": {
        "colab": {
          "base_uri": "https://localhost:8080/"
        },
        "id": "vT_rUS_wFQJ9",
        "outputId": "b8566144-5491-4e2a-e629-5a67a42e00e8"
      },
      "source": [
        "np.ones((3,3))"
      ],
      "execution_count": 11,
      "outputs": [
        {
          "output_type": "execute_result",
          "data": {
            "text/plain": [
              "array([[1., 1., 1.],\n",
              "       [1., 1., 1.],\n",
              "       [1., 1., 1.]])"
            ]
          },
          "metadata": {
            "tags": []
          },
          "execution_count": 11
        }
      ]
    },
    {
      "cell_type": "markdown",
      "metadata": {
        "id": "nSQ5n4dMFoeE"
      },
      "source": [
        "### Diagonally one"
      ]
    },
    {
      "cell_type": "code",
      "metadata": {
        "colab": {
          "base_uri": "https://localhost:8080/"
        },
        "id": "NJngPD1LFeEJ",
        "outputId": "c59b6127-b7b4-4f4f-96bc-74b1fa546327"
      },
      "source": [
        "np.eye(10)"
      ],
      "execution_count": 12,
      "outputs": [
        {
          "output_type": "execute_result",
          "data": {
            "text/plain": [
              "array([[1., 0., 0., 0., 0., 0., 0., 0., 0., 0.],\n",
              "       [0., 1., 0., 0., 0., 0., 0., 0., 0., 0.],\n",
              "       [0., 0., 1., 0., 0., 0., 0., 0., 0., 0.],\n",
              "       [0., 0., 0., 1., 0., 0., 0., 0., 0., 0.],\n",
              "       [0., 0., 0., 0., 1., 0., 0., 0., 0., 0.],\n",
              "       [0., 0., 0., 0., 0., 1., 0., 0., 0., 0.],\n",
              "       [0., 0., 0., 0., 0., 0., 1., 0., 0., 0.],\n",
              "       [0., 0., 0., 0., 0., 0., 0., 1., 0., 0.],\n",
              "       [0., 0., 0., 0., 0., 0., 0., 0., 1., 0.],\n",
              "       [0., 0., 0., 0., 0., 0., 0., 0., 0., 1.]])"
            ]
          },
          "metadata": {
            "tags": []
          },
          "execution_count": 12
        }
      ]
    },
    {
      "cell_type": "markdown",
      "metadata": {
        "id": "_9NAJCwIOnRZ"
      },
      "source": [
        "### Reshaping the array (Change dimensions)"
      ]
    },
    {
      "cell_type": "markdown",
      "metadata": {
        "id": "sqA5asjaQrCI"
      },
      "source": [
        "* The multiplication of dimensions should be equal to the number of elements in array. \n",
        "* The orignal array is retained\n",
        "\n"
      ]
    },
    {
      "cell_type": "code",
      "metadata": {
        "colab": {
          "base_uri": "https://localhost:8080/"
        },
        "id": "BXqcxBckFmT1",
        "outputId": "0a0a33bb-84a4-4b26-faff-bae641db4019"
      },
      "source": [
        "mn = np.arange(0,50)\n",
        "\n",
        "mn.reshape(5,10)"
      ],
      "execution_count": 13,
      "outputs": [
        {
          "output_type": "execute_result",
          "data": {
            "text/plain": [
              "array([[ 0,  1,  2,  3,  4,  5,  6,  7,  8,  9],\n",
              "       [10, 11, 12, 13, 14, 15, 16, 17, 18, 19],\n",
              "       [20, 21, 22, 23, 24, 25, 26, 27, 28, 29],\n",
              "       [30, 31, 32, 33, 34, 35, 36, 37, 38, 39],\n",
              "       [40, 41, 42, 43, 44, 45, 46, 47, 48, 49]])"
            ]
          },
          "metadata": {
            "tags": []
          },
          "execution_count": 13
        }
      ]
    },
    {
      "cell_type": "markdown",
      "metadata": {
        "id": "XmfXjcEcRrW7"
      },
      "source": [
        "### Resizing the array\n",
        "\n",
        "* Changes the orignal array"
      ]
    },
    {
      "cell_type": "code",
      "metadata": {
        "colab": {
          "base_uri": "https://localhost:8080/"
        },
        "id": "tFdZiyN7QEw0",
        "outputId": "0666dc15-6a77-4d5d-bad1-fe08692c1ff6"
      },
      "source": [
        "o = np.arange(0,50)\n",
        "o.resize(10,5)\n",
        "o"
      ],
      "execution_count": 14,
      "outputs": [
        {
          "output_type": "execute_result",
          "data": {
            "text/plain": [
              "array([[ 0,  1,  2,  3,  4],\n",
              "       [ 5,  6,  7,  8,  9],\n",
              "       [10, 11, 12, 13, 14],\n",
              "       [15, 16, 17, 18, 19],\n",
              "       [20, 21, 22, 23, 24],\n",
              "       [25, 26, 27, 28, 29],\n",
              "       [30, 31, 32, 33, 34],\n",
              "       [35, 36, 37, 38, 39],\n",
              "       [40, 41, 42, 43, 44],\n",
              "       [45, 46, 47, 48, 49]])"
            ]
          },
          "metadata": {
            "tags": []
          },
          "execution_count": 14
        }
      ]
    },
    {
      "cell_type": "code",
      "metadata": {
        "id": "PMLnoZaWRorG"
      },
      "source": [
        ""
      ],
      "execution_count": 14,
      "outputs": []
    },
    {
      "cell_type": "markdown",
      "metadata": {
        "id": "ZRoVhH9sP8dG"
      },
      "source": [
        "### Return evenly spaced values in a range"
      ]
    },
    {
      "cell_type": "code",
      "metadata": {
        "colab": {
          "base_uri": "https://localhost:8080/"
        },
        "id": "JnqeYC7eOmAb",
        "outputId": "08c4d945-cae3-4a6e-a4d6-213a2a387057"
      },
      "source": [
        "np.linspace(0,7,5)"
      ],
      "execution_count": 15,
      "outputs": [
        {
          "output_type": "execute_result",
          "data": {
            "text/plain": [
              "array([0.  , 1.75, 3.5 , 5.25, 7.  ])"
            ]
          },
          "metadata": {
            "tags": []
          },
          "execution_count": 15
        }
      ]
    },
    {
      "cell_type": "markdown",
      "metadata": {
        "id": "G-f52J61SUA-"
      },
      "source": [
        "### Generate random numbers between 0 & 1\n",
        "\n",
        "* The arguments should provide the dimensions for array\n",
        "* Returns numbers from uniform distribution"
      ]
    },
    {
      "cell_type": "code",
      "metadata": {
        "colab": {
          "base_uri": "https://localhost:8080/"
        },
        "id": "UyUrW_TkSLVB",
        "outputId": "6a7870cb-eaa2-42fd-dcb3-eeebe235236a"
      },
      "source": [
        "np.random.rand(3,2)"
      ],
      "execution_count": 16,
      "outputs": [
        {
          "output_type": "execute_result",
          "data": {
            "text/plain": [
              "array([[0.76553778, 0.29191328],\n",
              "       [0.37607993, 0.53541071],\n",
              "       [0.46573453, 0.8247619 ]])"
            ]
          },
          "metadata": {
            "tags": []
          },
          "execution_count": 16
        }
      ]
    },
    {
      "cell_type": "markdown",
      "metadata": {
        "id": "LzGi_lOklltN"
      },
      "source": [
        "#### Return random numbers from standard normal distribution"
      ]
    },
    {
      "cell_type": "code",
      "metadata": {
        "id": "aeCSczw7SRCl",
        "colab": {
          "base_uri": "https://localhost:8080/"
        },
        "outputId": "90a10e93-b79f-4117-a643-b1c93aca5301"
      },
      "source": [
        "np.random.randn(3,2)"
      ],
      "execution_count": 17,
      "outputs": [
        {
          "output_type": "execute_result",
          "data": {
            "text/plain": [
              "array([[-0.52817818, -0.26661227],\n",
              "       [ 1.25756702,  1.02702894],\n",
              "       [-0.76983935, -1.15031371]])"
            ]
          },
          "metadata": {
            "tags": []
          },
          "execution_count": 17
        }
      ]
    },
    {
      "cell_type": "markdown",
      "metadata": {
        "id": "Wv_Byt2mmD1C"
      },
      "source": [
        "#### Return random integers from low(inclusive) and high (exclusive)"
      ]
    },
    {
      "cell_type": "code",
      "metadata": {
        "colab": {
          "base_uri": "https://localhost:8080/"
        },
        "id": "l4pCCIQilH56",
        "outputId": "9c9e9e08-ff06-4152-ca42-540a75c33a4f"
      },
      "source": [
        "np.random.randint(4,15,10) # generate 10 random numbers between 4 and 15"
      ],
      "execution_count": 18,
      "outputs": [
        {
          "output_type": "execute_result",
          "data": {
            "text/plain": [
              "array([ 4,  6,  7,  5,  5, 11, 11,  9,  4,  6])"
            ]
          },
          "metadata": {
            "tags": []
          },
          "execution_count": 18
        }
      ]
    },
    {
      "cell_type": "markdown",
      "metadata": {
        "id": "nRfGgy-vm4ei"
      },
      "source": [
        "## Indexing and Slicing"
      ]
    },
    {
      "cell_type": "code",
      "metadata": {
        "colab": {
          "base_uri": "https://localhost:8080/"
        },
        "id": "OLJ5W36lmdJ-",
        "outputId": "2fb7a1d0-0de5-4fbc-daf0-bf9e6bee655e"
      },
      "source": [
        " mn = np.random.randint(4,15,100)\n",
        " print('Array',mn)\n",
        " print('Index 1',mn[1])\n",
        " print('Negative Index',mn[-4])\n",
        " print('Range',mn[3:6])\n",
        " print('Range from',mn[3:])\n",
        " print('Negative index in range',mn[3:-2])"
      ],
      "execution_count": 19,
      "outputs": [
        {
          "output_type": "stream",
          "text": [
            "Array [ 9 14 13  9  9  6  8  9  6  5  6  6  5 10 13  8  5  7  9  4 14 12  8 10\n",
            "  7 14  7 13 10 13 12 14 14  5  6  6  4 10 13 13  6  8  8  8 13 13  6  6\n",
            " 13  9  5 12 11  7  8 11  6  7 10  9 13 10 10  4 11  4 13  7  4 11 12  9\n",
            " 10 10 12  4 11 13 13 12  5  8  4  6 13 11 14  6  5  7  4 10 14  7  5  7\n",
            "  7 14 11  8]\n",
            "Index 1 14\n",
            "Negative Index 7\n",
            "Range [9 9 6]\n",
            "Range from [ 9  9  6  8  9  6  5  6  6  5 10 13  8  5  7  9  4 14 12  8 10  7 14  7\n",
            " 13 10 13 12 14 14  5  6  6  4 10 13 13  6  8  8  8 13 13  6  6 13  9  5\n",
            " 12 11  7  8 11  6  7 10  9 13 10 10  4 11  4 13  7  4 11 12  9 10 10 12\n",
            "  4 11 13 13 12  5  8  4  6 13 11 14  6  5  7  4 10 14  7  5  7  7 14 11\n",
            "  8]\n",
            "Negative index in range [ 9  9  6  8  9  6  5  6  6  5 10 13  8  5  7  9  4 14 12  8 10  7 14  7\n",
            " 13 10 13 12 14 14  5  6  6  4 10 13 13  6  8  8  8 13 13  6  6 13  9  5\n",
            " 12 11  7  8 11  6  7 10  9 13 10 10  4 11  4 13  7  4 11 12  9 10 10 12\n",
            "  4 11 13 13 12  5  8  4  6 13 11 14  6  5  7  4 10 14  7  5  7  7 14]\n"
          ],
          "name": "stdout"
        }
      ]
    },
    {
      "cell_type": "markdown",
      "metadata": {
        "id": "NPxnBXKMm70m"
      },
      "source": [
        "#### Indexing for multidimensional array"
      ]
    },
    {
      "cell_type": "code",
      "metadata": {
        "colab": {
          "base_uri": "https://localhost:8080/"
        },
        "id": "kAsgIPC3nPzr",
        "outputId": "fa12ee28-7bbd-42a7-d266-69547cbb2c1b"
      },
      "source": [
        "mn.resize(10,10)\n",
        "print(mn)\n",
        "print(mn[5,7])"
      ],
      "execution_count": 20,
      "outputs": [
        {
          "output_type": "stream",
          "text": [
            "[[ 9 14 13  9  9  6  8  9  6  5]\n",
            " [ 6  6  5 10 13  8  5  7  9  4]\n",
            " [14 12  8 10  7 14  7 13 10 13]\n",
            " [12 14 14  5  6  6  4 10 13 13]\n",
            " [ 6  8  8  8 13 13  6  6 13  9]\n",
            " [ 5 12 11  7  8 11  6  7 10  9]\n",
            " [13 10 10  4 11  4 13  7  4 11]\n",
            " [12  9 10 10 12  4 11 13 13 12]\n",
            " [ 5  8  4  6 13 11 14  6  5  7]\n",
            " [ 4 10 14  7  5  7  7 14 11  8]]\n",
            "7\n"
          ],
          "name": "stdout"
        }
      ]
    },
    {
      "cell_type": "markdown",
      "metadata": {
        "id": "nNC2qmYxnRYq"
      },
      "source": [
        "#### Slicing"
      ]
    },
    {
      "cell_type": "code",
      "metadata": {
        "id": "LNRgc0vP5JQl",
        "colab": {
          "base_uri": "https://localhost:8080/"
        },
        "outputId": "88e1cfca-bc72-4cf1-dac8-d6a99644782a"
      },
      "source": [
        "mn[3:,3:]"
      ],
      "execution_count": 21,
      "outputs": [
        {
          "output_type": "execute_result",
          "data": {
            "text/plain": [
              "array([[ 5,  6,  6,  4, 10, 13, 13],\n",
              "       [ 8, 13, 13,  6,  6, 13,  9],\n",
              "       [ 7,  8, 11,  6,  7, 10,  9],\n",
              "       [ 4, 11,  4, 13,  7,  4, 11],\n",
              "       [10, 12,  4, 11, 13, 13, 12],\n",
              "       [ 6, 13, 11, 14,  6,  5,  7],\n",
              "       [ 7,  5,  7,  7, 14, 11,  8]])"
            ]
          },
          "metadata": {
            "tags": []
          },
          "execution_count": 21
        }
      ]
    },
    {
      "cell_type": "markdown",
      "metadata": {
        "id": "KNUXsP4Wnh6a"
      },
      "source": [
        "#### Conditional Indexing"
      ]
    },
    {
      "cell_type": "code",
      "metadata": {
        "colab": {
          "base_uri": "https://localhost:8080/"
        },
        "id": "I796Nw19nKqd",
        "outputId": "ca3fd94d-878c-449b-cd54-48e7cb28cc13"
      },
      "source": [
        "mn[ mn > 8 ]"
      ],
      "execution_count": 22,
      "outputs": [
        {
          "output_type": "execute_result",
          "data": {
            "text/plain": [
              "array([ 9, 14, 13,  9,  9,  9, 10, 13,  9, 14, 12, 10, 14, 13, 10, 13, 12,\n",
              "       14, 14, 10, 13, 13, 13, 13, 13,  9, 12, 11, 11, 10,  9, 13, 10, 10,\n",
              "       11, 13, 11, 12,  9, 10, 10, 12, 11, 13, 13, 12, 13, 11, 14, 10, 14,\n",
              "       14, 11])"
            ]
          },
          "metadata": {
            "tags": []
          },
          "execution_count": 22
        }
      ]
    },
    {
      "cell_type": "markdown",
      "metadata": {
        "id": "dU7PoYJRn74k"
      },
      "source": [
        "#### Casting\n",
        "\n",
        "Cast all values to 10 where values are greater than 10"
      ]
    },
    {
      "cell_type": "code",
      "metadata": {
        "colab": {
          "base_uri": "https://localhost:8080/"
        },
        "id": "3rHpL-Scnea_",
        "outputId": "3fea1bf6-8d23-4839-fdce-221bdcb3004a"
      },
      "source": [
        "mn [ mn > 10 ]=10\n",
        "mn"
      ],
      "execution_count": 23,
      "outputs": [
        {
          "output_type": "execute_result",
          "data": {
            "text/plain": [
              "array([[ 9, 10, 10,  9,  9,  6,  8,  9,  6,  5],\n",
              "       [ 6,  6,  5, 10, 10,  8,  5,  7,  9,  4],\n",
              "       [10, 10,  8, 10,  7, 10,  7, 10, 10, 10],\n",
              "       [10, 10, 10,  5,  6,  6,  4, 10, 10, 10],\n",
              "       [ 6,  8,  8,  8, 10, 10,  6,  6, 10,  9],\n",
              "       [ 5, 10, 10,  7,  8, 10,  6,  7, 10,  9],\n",
              "       [10, 10, 10,  4, 10,  4, 10,  7,  4, 10],\n",
              "       [10,  9, 10, 10, 10,  4, 10, 10, 10, 10],\n",
              "       [ 5,  8,  4,  6, 10, 10, 10,  6,  5,  7],\n",
              "       [ 4, 10, 10,  7,  5,  7,  7, 10, 10,  8]])"
            ]
          },
          "metadata": {
            "tags": []
          },
          "execution_count": 23
        }
      ]
    },
    {
      "cell_type": "markdown",
      "metadata": {
        "id": "Qbi0AwcooXEc"
      },
      "source": [
        "#### Copy"
      ]
    },
    {
      "cell_type": "code",
      "metadata": {
        "colab": {
          "base_uri": "https://localhost:8080/"
        },
        "id": "CyP8IaFTn2jC",
        "outputId": "dd68af6e-2f0f-4c94-b97d-f103b7e674a5"
      },
      "source": [
        "mm_copy = mn.copy()\n",
        "mm_copy"
      ],
      "execution_count": 24,
      "outputs": [
        {
          "output_type": "execute_result",
          "data": {
            "text/plain": [
              "array([[ 9, 10, 10,  9,  9,  6,  8,  9,  6,  5],\n",
              "       [ 6,  6,  5, 10, 10,  8,  5,  7,  9,  4],\n",
              "       [10, 10,  8, 10,  7, 10,  7, 10, 10, 10],\n",
              "       [10, 10, 10,  5,  6,  6,  4, 10, 10, 10],\n",
              "       [ 6,  8,  8,  8, 10, 10,  6,  6, 10,  9],\n",
              "       [ 5, 10, 10,  7,  8, 10,  6,  7, 10,  9],\n",
              "       [10, 10, 10,  4, 10,  4, 10,  7,  4, 10],\n",
              "       [10,  9, 10, 10, 10,  4, 10, 10, 10, 10],\n",
              "       [ 5,  8,  4,  6, 10, 10, 10,  6,  5,  7],\n",
              "       [ 4, 10, 10,  7,  5,  7,  7, 10, 10,  8]])"
            ]
          },
          "metadata": {
            "tags": []
          },
          "execution_count": 24
        }
      ]
    },
    {
      "cell_type": "markdown",
      "metadata": {
        "id": "YZspzTJxrueQ"
      },
      "source": [
        "#### Mean of the array"
      ]
    },
    {
      "cell_type": "code",
      "metadata": {
        "colab": {
          "base_uri": "https://localhost:8080/"
        },
        "id": "E_EE60MjoUPK",
        "outputId": "47e3b940-2458-462f-99fb-5ee32a7222d5"
      },
      "source": [
        "mn.mean()"
      ],
      "execution_count": 25,
      "outputs": [
        {
          "output_type": "execute_result",
          "data": {
            "text/plain": [
              "8.08"
            ]
          },
          "metadata": {
            "tags": []
          },
          "execution_count": 25
        }
      ]
    },
    {
      "cell_type": "markdown",
      "metadata": {
        "id": "JuNXpCUgrzFX"
      },
      "source": [
        "#### Standard Deviation"
      ]
    },
    {
      "cell_type": "code",
      "metadata": {
        "colab": {
          "base_uri": "https://localhost:8080/"
        },
        "id": "MciWKK31rqAq",
        "outputId": "ec1347ea-1bf2-49e8-920e-3a6511de6924"
      },
      "source": [
        "mn.std()"
      ],
      "execution_count": 26,
      "outputs": [
        {
          "output_type": "execute_result",
          "data": {
            "text/plain": [
              "2.1103554203024664"
            ]
          },
          "metadata": {
            "tags": []
          },
          "execution_count": 26
        }
      ]
    },
    {
      "cell_type": "markdown",
      "metadata": {
        "id": "htcipyPLr5lr"
      },
      "source": [
        "#### Variance"
      ]
    },
    {
      "cell_type": "code",
      "metadata": {
        "colab": {
          "base_uri": "https://localhost:8080/"
        },
        "id": "JKC0XY8-rr7T",
        "outputId": "1b937e5c-473d-4677-9cbc-74d250b567ec"
      },
      "source": [
        "mn.var()"
      ],
      "execution_count": 27,
      "outputs": [
        {
          "output_type": "execute_result",
          "data": {
            "text/plain": [
              "4.4536"
            ]
          },
          "metadata": {
            "tags": []
          },
          "execution_count": 27
        }
      ]
    },
    {
      "cell_type": "markdown",
      "metadata": {
        "id": "mYVQ5yiJuXdJ"
      },
      "source": [
        "#### Array Difference"
      ]
    },
    {
      "cell_type": "code",
      "metadata": {
        "colab": {
          "base_uri": "https://localhost:8080/"
        },
        "id": "yr9HBqCrtQzc",
        "outputId": "bf7c2a74-87cd-42b9-c1ea-b7a77600a5fc"
      },
      "source": [
        "ab = np.arange(15,40)\n",
        "cd = np.arange(10,25)\n",
        "np.setdiff1d(cd,ab)"
      ],
      "execution_count": 28,
      "outputs": [
        {
          "output_type": "execute_result",
          "data": {
            "text/plain": [
              "array([10, 11, 12, 13, 14])"
            ]
          },
          "metadata": {
            "tags": []
          },
          "execution_count": 28
        }
      ]
    },
    {
      "cell_type": "markdown",
      "metadata": {
        "id": "vb64QhGZuzgi"
      },
      "source": [
        "#### Filtering an array\n",
        "\n",
        "An array can be easily filterd by passing the conditiom as follows"
      ]
    },
    {
      "cell_type": "code",
      "metadata": {
        "colab": {
          "base_uri": "https://localhost:8080/"
        },
        "id": "CVzv46B5tWP9",
        "outputId": "8d2f41b8-204c-46ba-dd4a-8fc5f21128d0"
      },
      "source": [
        "a = np.arange(1,20)\n",
        "a[a%2==0]"
      ],
      "execution_count": 29,
      "outputs": [
        {
          "output_type": "execute_result",
          "data": {
            "text/plain": [
              "array([ 2,  4,  6,  8, 10, 12, 14, 16, 18])"
            ]
          },
          "metadata": {
            "tags": []
          },
          "execution_count": 29
        }
      ]
    }
  ]
}