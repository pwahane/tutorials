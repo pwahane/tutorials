{
  "nbformat": 4,
  "nbformat_minor": 0,
  "metadata": {
    "colab": {
      "name": "pandas.ipynb",
      "provenance": []
    },
    "kernelspec": {
      "name": "python3",
      "display_name": "Python 3"
    },
    "language_info": {
      "name": "python"
    }
  },
  "cells": [
    {
      "cell_type": "markdown",
      "metadata": {
        "id": "IKt9_I36H1Q8"
      },
      "source": [
        "# Pandas\n",
        "\n",
        "One dimensional ndarray with axis labels"
      ]
    },
    {
      "cell_type": "markdown",
      "metadata": {
        "id": "zLMT3ZtQIOgY"
      },
      "source": [
        "#### Installation"
      ]
    },
    {
      "cell_type": "code",
      "metadata": {
        "colab": {
          "base_uri": "https://localhost:8080/"
        },
        "id": "je6oUaTNGgfe",
        "outputId": "2c2fcdc4-b0a2-4078-a12d-97d3a4029ed0"
      },
      "source": [
        "! pip install pandas"
      ],
      "execution_count": null,
      "outputs": [
        {
          "output_type": "stream",
          "text": [
            "Requirement already satisfied: pandas in /usr/local/lib/python3.7/dist-packages (1.1.5)\n",
            "Requirement already satisfied: numpy>=1.15.4 in /usr/local/lib/python3.7/dist-packages (from pandas) (1.19.5)\n",
            "Requirement already satisfied: pytz>=2017.2 in /usr/local/lib/python3.7/dist-packages (from pandas) (2018.9)\n",
            "Requirement already satisfied: python-dateutil>=2.7.3 in /usr/local/lib/python3.7/dist-packages (from pandas) (2.8.1)\n",
            "Requirement already satisfied: six>=1.5 in /usr/local/lib/python3.7/dist-packages (from python-dateutil>=2.7.3->pandas) (1.15.0)\n"
          ],
          "name": "stdout"
        }
      ]
    },
    {
      "cell_type": "markdown",
      "metadata": {
        "id": "HxVO_D3_etpD"
      },
      "source": [
        "#### Import the library"
      ]
    },
    {
      "cell_type": "code",
      "metadata": {
        "id": "BXk1HP0KIKWN"
      },
      "source": [
        "import pandas as pd"
      ],
      "execution_count": 2,
      "outputs": []
    },
    {
      "cell_type": "markdown",
      "metadata": {
        "id": "PdTcmDbseym9"
      },
      "source": [
        "#### Convert a list to Series"
      ]
    },
    {
      "cell_type": "code",
      "metadata": {
        "colab": {
          "base_uri": "https://localhost:8080/"
        },
        "id": "hWTcvDRXd2_N",
        "outputId": "7670b727-4b7d-451e-eb9e-e519ea9cb41a"
      },
      "source": [
        "my_pets = ['Lion','Cat','Birds','Fish']\n",
        "pd.Series(my_pets)"
      ],
      "execution_count": 5,
      "outputs": [
        {
          "output_type": "execute_result",
          "data": {
            "text/plain": [
              "0     Lion\n",
              "1      Cat\n",
              "2    Birds\n",
              "3     Fish\n",
              "dtype: object"
            ]
          },
          "metadata": {
            "tags": []
          },
          "execution_count": 5
        }
      ]
    },
    {
      "cell_type": "markdown",
      "metadata": {
        "id": "cfJPaNe5fgN3"
      },
      "source": [
        "#### Add index to series\n",
        "\n",
        "* Length of index list should be equal to length of values in series"
      ]
    },
    {
      "cell_type": "code",
      "metadata": {
        "colab": {
          "base_uri": "https://localhost:8080/"
        },
        "id": "owngFhAXeVaw",
        "outputId": "8d2ec721-95e5-454e-d892-7568d2a2085c"
      },
      "source": [
        "my_days = ['Monday','Tuesday','Wednesday','Thursday','Friday']\n",
        "my_courses = ['Economics','Geography','Finance','Mathametics','History']\n",
        "pd.Series(my_courses,index=my_days)"
      ],
      "execution_count": 8,
      "outputs": [
        {
          "output_type": "execute_result",
          "data": {
            "text/plain": [
              "Monday         Economics\n",
              "Tuesday        Geography\n",
              "Wednesday        Finance\n",
              "Thursday     Mathametics\n",
              "Friday           History\n",
              "dtype: object"
            ]
          },
          "metadata": {
            "tags": []
          },
          "execution_count": 8
        }
      ]
    },
    {
      "cell_type": "code",
      "metadata": {
        "id": "4udT_mCAeo8Q"
      },
      "source": [
        "days = pd.Series(my_days,index=\"Day1 Day2 Day3 Day4 Day5\".split())\n",
        "courses = pd.Series(my_courses,index=\"Day1 Day2 Day3 Day4 Day5\".split())"
      ],
      "execution_count": 10,
      "outputs": []
    },
    {
      "cell_type": "code",
      "metadata": {
        "colab": {
          "base_uri": "https://localhost:8080/",
          "height": 35
        },
        "id": "i_Myf4uviK7X",
        "outputId": "41731f2c-39ca-4952-f0c2-f72e025d3064"
      },
      "source": [
        "courses['Day5']"
      ],
      "execution_count": 13,
      "outputs": [
        {
          "output_type": "execute_result",
          "data": {
            "application/vnd.google.colaboratory.intrinsic+json": {
              "type": "string"
            },
            "text/plain": [
              "'History'"
            ]
          },
          "metadata": {
            "tags": []
          },
          "execution_count": 13
        }
      ]
    },
    {
      "cell_type": "code",
      "metadata": {
        "colab": {
          "base_uri": "https://localhost:8080/"
        },
        "id": "N_52gW8WjF1m",
        "outputId": "4992e95a-1ed9-40bf-c2d1-d1d6fd104a66"
      },
      "source": [
        "days + ':' + courses"
      ],
      "execution_count": 14,
      "outputs": [
        {
          "output_type": "execute_result",
          "data": {
            "text/plain": [
              "Day1        Monday:Economics\n",
              "Day2       Tuesday:Geography\n",
              "Day3       Wednesday:Finance\n",
              "Day4    Thursday:Mathametics\n",
              "Day5          Friday:History\n",
              "dtype: object"
            ]
          },
          "metadata": {
            "tags": []
          },
          "execution_count": 14
        }
      ]
    },
    {
      "cell_type": "markdown",
      "metadata": {
        "id": "J8j_eHb4QNNb"
      },
      "source": [
        "#### Series From Dictionary"
      ]
    },
    {
      "cell_type": "code",
      "metadata": {
        "colab": {
          "base_uri": "https://localhost:8080/"
        },
        "id": "tdFVp-o7iZhb",
        "outputId": "618f1852-1cdc-4758-c968-1a753623b80b"
      },
      "source": [
        "sports ={'Football':'Spain','NBA':'USA','Cricket':'India'}\n",
        "sports_series = pd.Series(sports)\n",
        "sports_series"
      ],
      "execution_count": 3,
      "outputs": [
        {
          "output_type": "execute_result",
          "data": {
            "text/plain": [
              "Football    Spain\n",
              "NBA           USA\n",
              "Cricket     India\n",
              "dtype: object"
            ]
          },
          "metadata": {
            "tags": []
          },
          "execution_count": 3
        }
      ]
    },
    {
      "cell_type": "markdown",
      "metadata": {
        "id": "rLTW23PvQZXI"
      },
      "source": [
        "#### Find value at location by index label"
      ]
    },
    {
      "cell_type": "code",
      "metadata": {
        "colab": {
          "base_uri": "https://localhost:8080/",
          "height": 35
        },
        "id": "62D-9Q6MMdnb",
        "outputId": "daaebbec-1998-430c-85ad-a20cb04ff3b3"
      },
      "source": [
        "sports_series.loc['Cricket']"
      ],
      "execution_count": 4,
      "outputs": [
        {
          "output_type": "execute_result",
          "data": {
            "application/vnd.google.colaboratory.intrinsic+json": {
              "type": "string"
            },
            "text/plain": [
              "'India'"
            ]
          },
          "metadata": {
            "tags": []
          },
          "execution_count": 4
        }
      ]
    },
    {
      "cell_type": "markdown",
      "metadata": {
        "id": "4NWr8ohAQjM8"
      },
      "source": [
        "#### Find Value at location by index number"
      ]
    },
    {
      "cell_type": "code",
      "metadata": {
        "colab": {
          "base_uri": "https://localhost:8080/",
          "height": 35
        },
        "id": "C9LMnDmoQGo8",
        "outputId": "334f3450-10b9-4a1b-afc2-87b12164a628"
      },
      "source": [
        "sports_series.iloc[2]"
      ],
      "execution_count": 5,
      "outputs": [
        {
          "output_type": "execute_result",
          "data": {
            "application/vnd.google.colaboratory.intrinsic+json": {
              "type": "string"
            },
            "text/plain": [
              "'India'"
            ]
          },
          "metadata": {
            "tags": []
          },
          "execution_count": 5
        }
      ]
    },
    {
      "cell_type": "code",
      "metadata": {
        "id": "NDQzVszIQLob"
      },
      "source": [
        ""
      ],
      "execution_count": null,
      "outputs": []
    }
  ]
}