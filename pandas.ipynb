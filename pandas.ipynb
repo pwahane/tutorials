{
  "nbformat": 4,
  "nbformat_minor": 0,
  "metadata": {
    "colab": {
      "name": "pandas.ipynb",
      "provenance": []
    },
    "kernelspec": {
      "name": "python3",
      "display_name": "Python 3",
      "language": "python"
    },
    "language_info": {
      "name": "python",
      "version": "3.8.5"
    }
  },
  "cells": [
    {
      "cell_type": "markdown",
      "metadata": {
        "id": "IKt9_I36H1Q8"
      },
      "source": [
        "# Pandas\n",
        "\n",
        "One dimensional ndarray with axis labels"
      ]
    },
    {
      "cell_type": "markdown",
      "metadata": {
        "id": "zLMT3ZtQIOgY"
      },
      "source": [
        "#### Installation"
      ]
    },
    {
      "cell_type": "code",
      "metadata": {
        "colab": {
          "base_uri": "https://localhost:8080/"
        },
        "id": "je6oUaTNGgfe",
        "outputId": "2c2fcdc4-b0a2-4078-a12d-97d3a4029ed0"
      },
      "source": [
        "! pip install pandas"
      ],
      "execution_count": 1,
      "outputs": [
        {
          "output_type": "stream",
          "name": "stdout",
          "text": [
            "zsh:1: command not found: pip\n"
          ]
        }
      ]
    },
    {
      "cell_type": "markdown",
      "metadata": {
        "id": "HxVO_D3_etpD"
      },
      "source": [
        "#### Import the library"
      ]
    },
    {
      "cell_type": "code",
      "metadata": {
        "id": "BXk1HP0KIKWN"
      },
      "source": [
        "import pandas as pd\n",
        "import numpy as np"
      ],
      "execution_count": 2,
      "outputs": []
    },
    {
      "cell_type": "markdown",
      "metadata": {
        "id": "PdTcmDbseym9"
      },
      "source": [
        "#### Convert a list to Series"
      ]
    },
    {
      "cell_type": "code",
      "metadata": {
        "colab": {
          "base_uri": "https://localhost:8080/"
        },
        "id": "hWTcvDRXd2_N",
        "outputId": "da784537-fbb4-42fc-885a-d71edca66779"
      },
      "source": [
        "my_pets = ['Lion','Cat','Birds','Fish']\n",
        "pd.Series(my_pets)"
      ],
      "execution_count": 3,
      "outputs": [
        {
          "output_type": "execute_result",
          "data": {
            "text/plain": [
              "0     Lion\n",
              "1      Cat\n",
              "2    Birds\n",
              "3     Fish\n",
              "dtype: object"
            ]
          },
          "metadata": {},
          "execution_count": 3
        }
      ]
    },
    {
      "cell_type": "markdown",
      "metadata": {
        "id": "cfJPaNe5fgN3"
      },
      "source": [
        "#### Add index to series\n",
        "\n",
        "* Length of index list should be equal to length of values in series"
      ]
    },
    {
      "cell_type": "code",
      "metadata": {
        "colab": {
          "base_uri": "https://localhost:8080/"
        },
        "id": "owngFhAXeVaw",
        "outputId": "d35e42f1-ef97-43f3-e21f-e57eca9c1d62"
      },
      "source": [
        "my_days = ['Monday','Tuesday','Wednesday','Thursday','Friday']\n",
        "my_courses = ['Economics','Geography','Finance','Mathametics','History']\n",
        "pd.Series(my_courses,index=my_days)"
      ],
      "execution_count": 4,
      "outputs": [
        {
          "output_type": "execute_result",
          "data": {
            "text/plain": [
              "Monday         Economics\n",
              "Tuesday        Geography\n",
              "Wednesday        Finance\n",
              "Thursday     Mathametics\n",
              "Friday           History\n",
              "dtype: object"
            ]
          },
          "metadata": {},
          "execution_count": 4
        }
      ]
    },
    {
      "cell_type": "code",
      "metadata": {
        "id": "4udT_mCAeo8Q"
      },
      "source": [
        "days = pd.Series(my_days,index=\"Day1 Day2 Day3 Day4 Day5\".split())\n",
        "courses = pd.Series(my_courses,index=\"Day1 Day2 Day3 Day4 Day5\".split())"
      ],
      "execution_count": 5,
      "outputs": []
    },
    {
      "cell_type": "code",
      "metadata": {
        "colab": {
          "base_uri": "https://localhost:8080/",
          "height": 35
        },
        "id": "i_Myf4uviK7X",
        "outputId": "5d8cb0c6-3f74-4f18-cf78-2f2139b11b47"
      },
      "source": [
        "courses['Day5']"
      ],
      "execution_count": 6,
      "outputs": [
        {
          "output_type": "execute_result",
          "data": {
            "text/plain": [
              "'History'"
            ]
          },
          "metadata": {},
          "execution_count": 6
        }
      ]
    },
    {
      "cell_type": "code",
      "metadata": {
        "colab": {
          "base_uri": "https://localhost:8080/"
        },
        "id": "N_52gW8WjF1m",
        "outputId": "605f46b0-67ea-44b7-98f1-7608bea6f423"
      },
      "source": [
        "days + ':' + courses"
      ],
      "execution_count": 7,
      "outputs": [
        {
          "output_type": "execute_result",
          "data": {
            "text/plain": [
              "Day1        Monday:Economics\n",
              "Day2       Tuesday:Geography\n",
              "Day3       Wednesday:Finance\n",
              "Day4    Thursday:Mathametics\n",
              "Day5          Friday:History\n",
              "dtype: object"
            ]
          },
          "metadata": {},
          "execution_count": 7
        }
      ]
    },
    {
      "cell_type": "markdown",
      "metadata": {
        "id": "J8j_eHb4QNNb"
      },
      "source": [
        "#### Series From Dictionary"
      ]
    },
    {
      "cell_type": "code",
      "metadata": {
        "colab": {
          "base_uri": "https://localhost:8080/"
        },
        "id": "tdFVp-o7iZhb",
        "outputId": "580105a8-9f77-43d4-b9b8-708ba4488628"
      },
      "source": [
        "sports ={'Football':'Spain','NBA':'USA','Cricket':'India'}\n",
        "sports_series = pd.Series(sports)\n",
        "sports_series"
      ],
      "execution_count": 8,
      "outputs": [
        {
          "output_type": "execute_result",
          "data": {
            "text/plain": [
              "Football    Spain\n",
              "NBA           USA\n",
              "Cricket     India\n",
              "dtype: object"
            ]
          },
          "metadata": {},
          "execution_count": 8
        }
      ]
    },
    {
      "cell_type": "markdown",
      "metadata": {
        "id": "rLTW23PvQZXI"
      },
      "source": [
        "#### Find value at location by index label"
      ]
    },
    {
      "cell_type": "code",
      "metadata": {
        "colab": {
          "base_uri": "https://localhost:8080/",
          "height": 35
        },
        "id": "62D-9Q6MMdnb",
        "outputId": "900bcf03-7815-412e-a1e8-7d001e2913ca"
      },
      "source": [
        "sports_series.loc['Cricket']"
      ],
      "execution_count": 9,
      "outputs": [
        {
          "output_type": "execute_result",
          "data": {
            "text/plain": [
              "'India'"
            ]
          },
          "metadata": {},
          "execution_count": 9
        }
      ]
    },
    {
      "cell_type": "markdown",
      "metadata": {
        "id": "4NWr8ohAQjM8"
      },
      "source": [
        "#### Find Value at location by index number"
      ]
    },
    {
      "cell_type": "code",
      "metadata": {
        "colab": {
          "base_uri": "https://localhost:8080/",
          "height": 35
        },
        "id": "C9LMnDmoQGo8",
        "outputId": "738f6b11-71e2-41d0-f17c-2512d39463ef"
      },
      "source": [
        "sports_series.iloc[2]"
      ],
      "execution_count": 10,
      "outputs": [
        {
          "output_type": "execute_result",
          "data": {
            "text/plain": [
              "'India'"
            ]
          },
          "metadata": {},
          "execution_count": 10
        }
      ]
    },
    {
      "cell_type": "markdown",
      "metadata": {
        "id": "kzcInVvEgwWV"
      },
      "source": [
        "#### DataFrame\n",
        "\n",
        "Two-Dimensional, size-mutable, potentially heterogenous tabular data"
      ]
    },
    {
      "cell_type": "markdown",
      "metadata": {
        "id": "al_0pKCOjzGZ"
      },
      "source": [
        "#### Create a dataframe from random numbers array"
      ]
    },
    {
      "cell_type": "code",
      "metadata": {
        "colab": {
          "base_uri": "https://localhost:8080/",
          "height": 359
        },
        "id": "XypfEt8SizgA",
        "outputId": "51148902-e5d3-48ab-e839-ff90efdcd766"
      },
      "source": [
        "my_dataframe = pd.DataFrame(np.random.randn(10,5),index='row1 row2 row3 row4 row5 row6 row7 row8 row9 row10'.split(),columns='column1 column2 column3 column4 column5'.split())\n",
        "my_dataframe"
      ],
      "execution_count": 11,
      "outputs": [
        {
          "output_type": "execute_result",
          "data": {
            "text/plain": [
              "        column1   column2   column3   column4   column5\n",
              "row1  -0.139347 -0.373430 -1.921363  0.432947  0.826339\n",
              "row2   0.286645 -0.873916  1.347885  0.682560  0.732028\n",
              "row3  -1.426505  0.346695  0.292484 -0.788040  0.267752\n",
              "row4   1.906606  0.427032 -0.917601 -0.593008 -0.909449\n",
              "row5  -0.051351  1.336648  1.244988 -1.525128 -0.754384\n",
              "row6   2.371287 -0.466116 -0.646073  0.685806  0.374711\n",
              "row7   2.749655  0.205904  0.453801 -0.220763  0.336647\n",
              "row8   0.149038 -1.199708 -1.656562  2.047832 -0.416109\n",
              "row9   0.425928  0.280945 -0.675718 -0.074607 -0.848821\n",
              "row10 -2.216378 -0.846389  2.685789 -0.312498 -1.343919"
            ],
            "text/html": "<div>\n<style scoped>\n    .dataframe tbody tr th:only-of-type {\n        vertical-align: middle;\n    }\n\n    .dataframe tbody tr th {\n        vertical-align: top;\n    }\n\n    .dataframe thead th {\n        text-align: right;\n    }\n</style>\n<table border=\"1\" class=\"dataframe\">\n  <thead>\n    <tr style=\"text-align: right;\">\n      <th></th>\n      <th>column1</th>\n      <th>column2</th>\n      <th>column3</th>\n      <th>column4</th>\n      <th>column5</th>\n    </tr>\n  </thead>\n  <tbody>\n    <tr>\n      <th>row1</th>\n      <td>-0.139347</td>\n      <td>-0.373430</td>\n      <td>-1.921363</td>\n      <td>0.432947</td>\n      <td>0.826339</td>\n    </tr>\n    <tr>\n      <th>row2</th>\n      <td>0.286645</td>\n      <td>-0.873916</td>\n      <td>1.347885</td>\n      <td>0.682560</td>\n      <td>0.732028</td>\n    </tr>\n    <tr>\n      <th>row3</th>\n      <td>-1.426505</td>\n      <td>0.346695</td>\n      <td>0.292484</td>\n      <td>-0.788040</td>\n      <td>0.267752</td>\n    </tr>\n    <tr>\n      <th>row4</th>\n      <td>1.906606</td>\n      <td>0.427032</td>\n      <td>-0.917601</td>\n      <td>-0.593008</td>\n      <td>-0.909449</td>\n    </tr>\n    <tr>\n      <th>row5</th>\n      <td>-0.051351</td>\n      <td>1.336648</td>\n      <td>1.244988</td>\n      <td>-1.525128</td>\n      <td>-0.754384</td>\n    </tr>\n    <tr>\n      <th>row6</th>\n      <td>2.371287</td>\n      <td>-0.466116</td>\n      <td>-0.646073</td>\n      <td>0.685806</td>\n      <td>0.374711</td>\n    </tr>\n    <tr>\n      <th>row7</th>\n      <td>2.749655</td>\n      <td>0.205904</td>\n      <td>0.453801</td>\n      <td>-0.220763</td>\n      <td>0.336647</td>\n    </tr>\n    <tr>\n      <th>row8</th>\n      <td>0.149038</td>\n      <td>-1.199708</td>\n      <td>-1.656562</td>\n      <td>2.047832</td>\n      <td>-0.416109</td>\n    </tr>\n    <tr>\n      <th>row9</th>\n      <td>0.425928</td>\n      <td>0.280945</td>\n      <td>-0.675718</td>\n      <td>-0.074607</td>\n      <td>-0.848821</td>\n    </tr>\n    <tr>\n      <th>row10</th>\n      <td>-2.216378</td>\n      <td>-0.846389</td>\n      <td>2.685789</td>\n      <td>-0.312498</td>\n      <td>-1.343919</td>\n    </tr>\n  </tbody>\n</table>\n</div>"
          },
          "metadata": {},
          "execution_count": 11
        }
      ]
    },
    {
      "cell_type": "markdown",
      "metadata": {
        "id": "VGHWcN3MkVwB"
      },
      "source": [
        "#### Selecting a single column"
      ]
    },
    {
      "cell_type": "code",
      "metadata": {
        "colab": {
          "base_uri": "https://localhost:8080/"
        },
        "id": "G-m7RX7NjtTP",
        "outputId": "f3cb738f-d7dd-451b-f86b-88a08262d59d"
      },
      "source": [
        "my_dataframe['column1']"
      ],
      "execution_count": 12,
      "outputs": [
        {
          "output_type": "execute_result",
          "data": {
            "text/plain": [
              "row1    -0.139347\n",
              "row2     0.286645\n",
              "row3    -1.426505\n",
              "row4     1.906606\n",
              "row5    -0.051351\n",
              "row6     2.371287\n",
              "row7     2.749655\n",
              "row8     0.149038\n",
              "row9     0.425928\n",
              "row10   -2.216378\n",
              "Name: column1, dtype: float64"
            ]
          },
          "metadata": {},
          "execution_count": 12
        }
      ]
    },
    {
      "cell_type": "markdown",
      "metadata": {
        "id": "Gmg_MgfTlYx-"
      },
      "source": [
        "#### Add a new column"
      ]
    },
    {
      "cell_type": "code",
      "metadata": {
        "colab": {
          "base_uri": "https://localhost:8080/",
          "height": 359
        },
        "id": "hpHY2xa7kOxL",
        "outputId": "fbe44723-d0de-4842-bbb6-baebfa55628d"
      },
      "source": [
        "my_dataframe['column6']=my_dataframe['column1']*2\n",
        "my_dataframe"
      ],
      "execution_count": 13,
      "outputs": [
        {
          "output_type": "execute_result",
          "data": {
            "text/plain": [
              "        column1   column2   column3   column4   column5   column6\n",
              "row1  -0.139347 -0.373430 -1.921363  0.432947  0.826339 -0.278694\n",
              "row2   0.286645 -0.873916  1.347885  0.682560  0.732028  0.573289\n",
              "row3  -1.426505  0.346695  0.292484 -0.788040  0.267752 -2.853011\n",
              "row4   1.906606  0.427032 -0.917601 -0.593008 -0.909449  3.813212\n",
              "row5  -0.051351  1.336648  1.244988 -1.525128 -0.754384 -0.102701\n",
              "row6   2.371287 -0.466116 -0.646073  0.685806  0.374711  4.742573\n",
              "row7   2.749655  0.205904  0.453801 -0.220763  0.336647  5.499309\n",
              "row8   0.149038 -1.199708 -1.656562  2.047832 -0.416109  0.298076\n",
              "row9   0.425928  0.280945 -0.675718 -0.074607 -0.848821  0.851857\n",
              "row10 -2.216378 -0.846389  2.685789 -0.312498 -1.343919 -4.432756"
            ],
            "text/html": "<div>\n<style scoped>\n    .dataframe tbody tr th:only-of-type {\n        vertical-align: middle;\n    }\n\n    .dataframe tbody tr th {\n        vertical-align: top;\n    }\n\n    .dataframe thead th {\n        text-align: right;\n    }\n</style>\n<table border=\"1\" class=\"dataframe\">\n  <thead>\n    <tr style=\"text-align: right;\">\n      <th></th>\n      <th>column1</th>\n      <th>column2</th>\n      <th>column3</th>\n      <th>column4</th>\n      <th>column5</th>\n      <th>column6</th>\n    </tr>\n  </thead>\n  <tbody>\n    <tr>\n      <th>row1</th>\n      <td>-0.139347</td>\n      <td>-0.373430</td>\n      <td>-1.921363</td>\n      <td>0.432947</td>\n      <td>0.826339</td>\n      <td>-0.278694</td>\n    </tr>\n    <tr>\n      <th>row2</th>\n      <td>0.286645</td>\n      <td>-0.873916</td>\n      <td>1.347885</td>\n      <td>0.682560</td>\n      <td>0.732028</td>\n      <td>0.573289</td>\n    </tr>\n    <tr>\n      <th>row3</th>\n      <td>-1.426505</td>\n      <td>0.346695</td>\n      <td>0.292484</td>\n      <td>-0.788040</td>\n      <td>0.267752</td>\n      <td>-2.853011</td>\n    </tr>\n    <tr>\n      <th>row4</th>\n      <td>1.906606</td>\n      <td>0.427032</td>\n      <td>-0.917601</td>\n      <td>-0.593008</td>\n      <td>-0.909449</td>\n      <td>3.813212</td>\n    </tr>\n    <tr>\n      <th>row5</th>\n      <td>-0.051351</td>\n      <td>1.336648</td>\n      <td>1.244988</td>\n      <td>-1.525128</td>\n      <td>-0.754384</td>\n      <td>-0.102701</td>\n    </tr>\n    <tr>\n      <th>row6</th>\n      <td>2.371287</td>\n      <td>-0.466116</td>\n      <td>-0.646073</td>\n      <td>0.685806</td>\n      <td>0.374711</td>\n      <td>4.742573</td>\n    </tr>\n    <tr>\n      <th>row7</th>\n      <td>2.749655</td>\n      <td>0.205904</td>\n      <td>0.453801</td>\n      <td>-0.220763</td>\n      <td>0.336647</td>\n      <td>5.499309</td>\n    </tr>\n    <tr>\n      <th>row8</th>\n      <td>0.149038</td>\n      <td>-1.199708</td>\n      <td>-1.656562</td>\n      <td>2.047832</td>\n      <td>-0.416109</td>\n      <td>0.298076</td>\n    </tr>\n    <tr>\n      <th>row9</th>\n      <td>0.425928</td>\n      <td>0.280945</td>\n      <td>-0.675718</td>\n      <td>-0.074607</td>\n      <td>-0.848821</td>\n      <td>0.851857</td>\n    </tr>\n    <tr>\n      <th>row10</th>\n      <td>-2.216378</td>\n      <td>-0.846389</td>\n      <td>2.685789</td>\n      <td>-0.312498</td>\n      <td>-1.343919</td>\n      <td>-4.432756</td>\n    </tr>\n  </tbody>\n</table>\n</div>"
          },
          "metadata": {},
          "execution_count": 13
        }
      ]
    },
    {
      "cell_type": "markdown",
      "metadata": {
        "id": "TXJhDw0slswD"
      },
      "source": [
        "#### Drop a column"
      ]
    },
    {
      "cell_type": "code",
      "metadata": {
        "colab": {
          "base_uri": "https://localhost:8080/",
          "height": 359
        },
        "id": "VUYJtq3OlU9s",
        "outputId": "e9fed00c-0782-4643-c764-88ae3123f491"
      },
      "source": [
        "my_dataframe.drop('column4',axis=1)"
      ],
      "execution_count": 14,
      "outputs": [
        {
          "output_type": "execute_result",
          "data": {
            "text/plain": [
              "        column1   column2   column3   column5   column6\n",
              "row1  -0.139347 -0.373430 -1.921363  0.826339 -0.278694\n",
              "row2   0.286645 -0.873916  1.347885  0.732028  0.573289\n",
              "row3  -1.426505  0.346695  0.292484  0.267752 -2.853011\n",
              "row4   1.906606  0.427032 -0.917601 -0.909449  3.813212\n",
              "row5  -0.051351  1.336648  1.244988 -0.754384 -0.102701\n",
              "row6   2.371287 -0.466116 -0.646073  0.374711  4.742573\n",
              "row7   2.749655  0.205904  0.453801  0.336647  5.499309\n",
              "row8   0.149038 -1.199708 -1.656562 -0.416109  0.298076\n",
              "row9   0.425928  0.280945 -0.675718 -0.848821  0.851857\n",
              "row10 -2.216378 -0.846389  2.685789 -1.343919 -4.432756"
            ],
            "text/html": "<div>\n<style scoped>\n    .dataframe tbody tr th:only-of-type {\n        vertical-align: middle;\n    }\n\n    .dataframe tbody tr th {\n        vertical-align: top;\n    }\n\n    .dataframe thead th {\n        text-align: right;\n    }\n</style>\n<table border=\"1\" class=\"dataframe\">\n  <thead>\n    <tr style=\"text-align: right;\">\n      <th></th>\n      <th>column1</th>\n      <th>column2</th>\n      <th>column3</th>\n      <th>column5</th>\n      <th>column6</th>\n    </tr>\n  </thead>\n  <tbody>\n    <tr>\n      <th>row1</th>\n      <td>-0.139347</td>\n      <td>-0.373430</td>\n      <td>-1.921363</td>\n      <td>0.826339</td>\n      <td>-0.278694</td>\n    </tr>\n    <tr>\n      <th>row2</th>\n      <td>0.286645</td>\n      <td>-0.873916</td>\n      <td>1.347885</td>\n      <td>0.732028</td>\n      <td>0.573289</td>\n    </tr>\n    <tr>\n      <th>row3</th>\n      <td>-1.426505</td>\n      <td>0.346695</td>\n      <td>0.292484</td>\n      <td>0.267752</td>\n      <td>-2.853011</td>\n    </tr>\n    <tr>\n      <th>row4</th>\n      <td>1.906606</td>\n      <td>0.427032</td>\n      <td>-0.917601</td>\n      <td>-0.909449</td>\n      <td>3.813212</td>\n    </tr>\n    <tr>\n      <th>row5</th>\n      <td>-0.051351</td>\n      <td>1.336648</td>\n      <td>1.244988</td>\n      <td>-0.754384</td>\n      <td>-0.102701</td>\n    </tr>\n    <tr>\n      <th>row6</th>\n      <td>2.371287</td>\n      <td>-0.466116</td>\n      <td>-0.646073</td>\n      <td>0.374711</td>\n      <td>4.742573</td>\n    </tr>\n    <tr>\n      <th>row7</th>\n      <td>2.749655</td>\n      <td>0.205904</td>\n      <td>0.453801</td>\n      <td>0.336647</td>\n      <td>5.499309</td>\n    </tr>\n    <tr>\n      <th>row8</th>\n      <td>0.149038</td>\n      <td>-1.199708</td>\n      <td>-1.656562</td>\n      <td>-0.416109</td>\n      <td>0.298076</td>\n    </tr>\n    <tr>\n      <th>row9</th>\n      <td>0.425928</td>\n      <td>0.280945</td>\n      <td>-0.675718</td>\n      <td>-0.848821</td>\n      <td>0.851857</td>\n    </tr>\n    <tr>\n      <th>row10</th>\n      <td>-2.216378</td>\n      <td>-0.846389</td>\n      <td>2.685789</td>\n      <td>-1.343919</td>\n      <td>-4.432756</td>\n    </tr>\n  </tbody>\n</table>\n</div>"
          },
          "metadata": {},
          "execution_count": 14
        }
      ]
    },
    {
      "cell_type": "code",
      "metadata": {
        "colab": {
          "base_uri": "https://localhost:8080/",
          "height": 359
        },
        "id": "YNKHcC69lqt6",
        "outputId": "1790743b-054c-4d7f-d30a-12a684240082"
      },
      "source": [
        "my_dataframe"
      ],
      "execution_count": 15,
      "outputs": [
        {
          "output_type": "execute_result",
          "data": {
            "text/plain": [
              "        column1   column2   column3   column4   column5   column6\n",
              "row1  -0.139347 -0.373430 -1.921363  0.432947  0.826339 -0.278694\n",
              "row2   0.286645 -0.873916  1.347885  0.682560  0.732028  0.573289\n",
              "row3  -1.426505  0.346695  0.292484 -0.788040  0.267752 -2.853011\n",
              "row4   1.906606  0.427032 -0.917601 -0.593008 -0.909449  3.813212\n",
              "row5  -0.051351  1.336648  1.244988 -1.525128 -0.754384 -0.102701\n",
              "row6   2.371287 -0.466116 -0.646073  0.685806  0.374711  4.742573\n",
              "row7   2.749655  0.205904  0.453801 -0.220763  0.336647  5.499309\n",
              "row8   0.149038 -1.199708 -1.656562  2.047832 -0.416109  0.298076\n",
              "row9   0.425928  0.280945 -0.675718 -0.074607 -0.848821  0.851857\n",
              "row10 -2.216378 -0.846389  2.685789 -0.312498 -1.343919 -4.432756"
            ],
            "text/html": "<div>\n<style scoped>\n    .dataframe tbody tr th:only-of-type {\n        vertical-align: middle;\n    }\n\n    .dataframe tbody tr th {\n        vertical-align: top;\n    }\n\n    .dataframe thead th {\n        text-align: right;\n    }\n</style>\n<table border=\"1\" class=\"dataframe\">\n  <thead>\n    <tr style=\"text-align: right;\">\n      <th></th>\n      <th>column1</th>\n      <th>column2</th>\n      <th>column3</th>\n      <th>column4</th>\n      <th>column5</th>\n      <th>column6</th>\n    </tr>\n  </thead>\n  <tbody>\n    <tr>\n      <th>row1</th>\n      <td>-0.139347</td>\n      <td>-0.373430</td>\n      <td>-1.921363</td>\n      <td>0.432947</td>\n      <td>0.826339</td>\n      <td>-0.278694</td>\n    </tr>\n    <tr>\n      <th>row2</th>\n      <td>0.286645</td>\n      <td>-0.873916</td>\n      <td>1.347885</td>\n      <td>0.682560</td>\n      <td>0.732028</td>\n      <td>0.573289</td>\n    </tr>\n    <tr>\n      <th>row3</th>\n      <td>-1.426505</td>\n      <td>0.346695</td>\n      <td>0.292484</td>\n      <td>-0.788040</td>\n      <td>0.267752</td>\n      <td>-2.853011</td>\n    </tr>\n    <tr>\n      <th>row4</th>\n      <td>1.906606</td>\n      <td>0.427032</td>\n      <td>-0.917601</td>\n      <td>-0.593008</td>\n      <td>-0.909449</td>\n      <td>3.813212</td>\n    </tr>\n    <tr>\n      <th>row5</th>\n      <td>-0.051351</td>\n      <td>1.336648</td>\n      <td>1.244988</td>\n      <td>-1.525128</td>\n      <td>-0.754384</td>\n      <td>-0.102701</td>\n    </tr>\n    <tr>\n      <th>row6</th>\n      <td>2.371287</td>\n      <td>-0.466116</td>\n      <td>-0.646073</td>\n      <td>0.685806</td>\n      <td>0.374711</td>\n      <td>4.742573</td>\n    </tr>\n    <tr>\n      <th>row7</th>\n      <td>2.749655</td>\n      <td>0.205904</td>\n      <td>0.453801</td>\n      <td>-0.220763</td>\n      <td>0.336647</td>\n      <td>5.499309</td>\n    </tr>\n    <tr>\n      <th>row8</th>\n      <td>0.149038</td>\n      <td>-1.199708</td>\n      <td>-1.656562</td>\n      <td>2.047832</td>\n      <td>-0.416109</td>\n      <td>0.298076</td>\n    </tr>\n    <tr>\n      <th>row9</th>\n      <td>0.425928</td>\n      <td>0.280945</td>\n      <td>-0.675718</td>\n      <td>-0.074607</td>\n      <td>-0.848821</td>\n      <td>0.851857</td>\n    </tr>\n    <tr>\n      <th>row10</th>\n      <td>-2.216378</td>\n      <td>-0.846389</td>\n      <td>2.685789</td>\n      <td>-0.312498</td>\n      <td>-1.343919</td>\n      <td>-4.432756</td>\n    </tr>\n  </tbody>\n</table>\n</div>"
          },
          "metadata": {},
          "execution_count": 15
        }
      ]
    },
    {
      "cell_type": "markdown",
      "metadata": {
        "id": "vl0nH3m5mkVB"
      },
      "source": [
        "#### Drop from orignal data"
      ]
    },
    {
      "cell_type": "code",
      "metadata": {
        "colab": {
          "base_uri": "https://localhost:8080/",
          "height": 359
        },
        "id": "ZOSMzWQlmZk9",
        "outputId": "f98fb8c2-98e1-4d6d-8835-0ce88b97ead5"
      },
      "source": [
        "my_dataframe.drop('column4',axis=1,inplace=True)\n",
        "my_dataframe"
      ],
      "execution_count": 16,
      "outputs": [
        {
          "output_type": "execute_result",
          "data": {
            "text/plain": [
              "        column1   column2   column3   column5   column6\n",
              "row1  -0.139347 -0.373430 -1.921363  0.826339 -0.278694\n",
              "row2   0.286645 -0.873916  1.347885  0.732028  0.573289\n",
              "row3  -1.426505  0.346695  0.292484  0.267752 -2.853011\n",
              "row4   1.906606  0.427032 -0.917601 -0.909449  3.813212\n",
              "row5  -0.051351  1.336648  1.244988 -0.754384 -0.102701\n",
              "row6   2.371287 -0.466116 -0.646073  0.374711  4.742573\n",
              "row7   2.749655  0.205904  0.453801  0.336647  5.499309\n",
              "row8   0.149038 -1.199708 -1.656562 -0.416109  0.298076\n",
              "row9   0.425928  0.280945 -0.675718 -0.848821  0.851857\n",
              "row10 -2.216378 -0.846389  2.685789 -1.343919 -4.432756"
            ],
            "text/html": "<div>\n<style scoped>\n    .dataframe tbody tr th:only-of-type {\n        vertical-align: middle;\n    }\n\n    .dataframe tbody tr th {\n        vertical-align: top;\n    }\n\n    .dataframe thead th {\n        text-align: right;\n    }\n</style>\n<table border=\"1\" class=\"dataframe\">\n  <thead>\n    <tr style=\"text-align: right;\">\n      <th></th>\n      <th>column1</th>\n      <th>column2</th>\n      <th>column3</th>\n      <th>column5</th>\n      <th>column6</th>\n    </tr>\n  </thead>\n  <tbody>\n    <tr>\n      <th>row1</th>\n      <td>-0.139347</td>\n      <td>-0.373430</td>\n      <td>-1.921363</td>\n      <td>0.826339</td>\n      <td>-0.278694</td>\n    </tr>\n    <tr>\n      <th>row2</th>\n      <td>0.286645</td>\n      <td>-0.873916</td>\n      <td>1.347885</td>\n      <td>0.732028</td>\n      <td>0.573289</td>\n    </tr>\n    <tr>\n      <th>row3</th>\n      <td>-1.426505</td>\n      <td>0.346695</td>\n      <td>0.292484</td>\n      <td>0.267752</td>\n      <td>-2.853011</td>\n    </tr>\n    <tr>\n      <th>row4</th>\n      <td>1.906606</td>\n      <td>0.427032</td>\n      <td>-0.917601</td>\n      <td>-0.909449</td>\n      <td>3.813212</td>\n    </tr>\n    <tr>\n      <th>row5</th>\n      <td>-0.051351</td>\n      <td>1.336648</td>\n      <td>1.244988</td>\n      <td>-0.754384</td>\n      <td>-0.102701</td>\n    </tr>\n    <tr>\n      <th>row6</th>\n      <td>2.371287</td>\n      <td>-0.466116</td>\n      <td>-0.646073</td>\n      <td>0.374711</td>\n      <td>4.742573</td>\n    </tr>\n    <tr>\n      <th>row7</th>\n      <td>2.749655</td>\n      <td>0.205904</td>\n      <td>0.453801</td>\n      <td>0.336647</td>\n      <td>5.499309</td>\n    </tr>\n    <tr>\n      <th>row8</th>\n      <td>0.149038</td>\n      <td>-1.199708</td>\n      <td>-1.656562</td>\n      <td>-0.416109</td>\n      <td>0.298076</td>\n    </tr>\n    <tr>\n      <th>row9</th>\n      <td>0.425928</td>\n      <td>0.280945</td>\n      <td>-0.675718</td>\n      <td>-0.848821</td>\n      <td>0.851857</td>\n    </tr>\n    <tr>\n      <th>row10</th>\n      <td>-2.216378</td>\n      <td>-0.846389</td>\n      <td>2.685789</td>\n      <td>-1.343919</td>\n      <td>-4.432756</td>\n    </tr>\n  </tbody>\n</table>\n</div>"
          },
          "metadata": {},
          "execution_count": 16
        }
      ]
    },
    {
      "cell_type": "markdown",
      "metadata": {
        "id": "H0jWWpRpm7PC"
      },
      "source": [
        "#### Use index to access row"
      ]
    },
    {
      "cell_type": "code",
      "metadata": {
        "colab": {
          "base_uri": "https://localhost:8080/"
        },
        "id": "ezFEflz5mi-g",
        "outputId": "78872bd9-0985-4917-f8b3-731e0d3e8017"
      },
      "source": [
        "my_dataframe.iloc[1]"
      ],
      "execution_count": 17,
      "outputs": [
        {
          "output_type": "execute_result",
          "data": {
            "text/plain": [
              "column1    0.286645\n",
              "column2   -0.873916\n",
              "column3    1.347885\n",
              "column5    0.732028\n",
              "column6    0.573289\n",
              "Name: row2, dtype: float64"
            ]
          },
          "metadata": {},
          "execution_count": 17
        }
      ]
    },
    {
      "cell_type": "markdown",
      "metadata": {
        "id": "q2anatGRnL9Z"
      },
      "source": [
        "#### Fnd a value using row and column index"
      ]
    },
    {
      "cell_type": "code",
      "metadata": {
        "colab": {
          "base_uri": "https://localhost:8080/"
        },
        "id": "j7xnB4Vtm5ox",
        "outputId": "db7a9520-fda0-4326-e9b6-e8f881498028"
      },
      "source": [
        "my_dataframe.loc['row7','column2']"
      ],
      "execution_count": 18,
      "outputs": [
        {
          "output_type": "execute_result",
          "data": {
            "text/plain": [
              "0.2059038970380228"
            ]
          },
          "metadata": {},
          "execution_count": 18
        }
      ]
    },
    {
      "cell_type": "code",
      "metadata": {
        "colab": {
          "base_uri": "https://localhost:8080/"
        },
        "id": "_Nt4NhrrnKcZ",
        "outputId": "3dcf94fe-1c6f-4724-d303-3d3a172020a2"
      },
      "source": [
        "my_dataframe.index"
      ],
      "execution_count": 19,
      "outputs": [
        {
          "output_type": "execute_result",
          "data": {
            "text/plain": [
              "Index(['row1', 'row2', 'row3', 'row4', 'row5', 'row6', 'row7', 'row8', 'row9',\n",
              "       'row10'],\n",
              "      dtype='object')"
            ]
          },
          "metadata": {},
          "execution_count": 19
        }
      ]
    },
    {
      "cell_type": "markdown",
      "metadata": {
        "id": "ppAKwJ_hn9LI"
      },
      "source": [
        "#### Add Series to DataFrame"
      ]
    },
    {
      "cell_type": "code",
      "metadata": {
        "colab": {
          "base_uri": "https://localhost:8080/",
          "height": 359
        },
        "id": "pWg2NEq-ndRz",
        "outputId": "9d84bc6c-3d19-4595-f781-c7bcc3efeaa3"
      },
      "source": [
        "my_dataframe['spin']=['sp1','sp2','sp3','sp4','sp5','sp6','sp7','sp8','sp9','sp10']\n",
        "my_dataframe"
      ],
      "execution_count": 20,
      "outputs": [
        {
          "output_type": "execute_result",
          "data": {
            "text/plain": [
              "        column1   column2   column3   column5   column6  spin\n",
              "row1  -0.139347 -0.373430 -1.921363  0.826339 -0.278694   sp1\n",
              "row2   0.286645 -0.873916  1.347885  0.732028  0.573289   sp2\n",
              "row3  -1.426505  0.346695  0.292484  0.267752 -2.853011   sp3\n",
              "row4   1.906606  0.427032 -0.917601 -0.909449  3.813212   sp4\n",
              "row5  -0.051351  1.336648  1.244988 -0.754384 -0.102701   sp5\n",
              "row6   2.371287 -0.466116 -0.646073  0.374711  4.742573   sp6\n",
              "row7   2.749655  0.205904  0.453801  0.336647  5.499309   sp7\n",
              "row8   0.149038 -1.199708 -1.656562 -0.416109  0.298076   sp8\n",
              "row9   0.425928  0.280945 -0.675718 -0.848821  0.851857   sp9\n",
              "row10 -2.216378 -0.846389  2.685789 -1.343919 -4.432756  sp10"
            ],
            "text/html": "<div>\n<style scoped>\n    .dataframe tbody tr th:only-of-type {\n        vertical-align: middle;\n    }\n\n    .dataframe tbody tr th {\n        vertical-align: top;\n    }\n\n    .dataframe thead th {\n        text-align: right;\n    }\n</style>\n<table border=\"1\" class=\"dataframe\">\n  <thead>\n    <tr style=\"text-align: right;\">\n      <th></th>\n      <th>column1</th>\n      <th>column2</th>\n      <th>column3</th>\n      <th>column5</th>\n      <th>column6</th>\n      <th>spin</th>\n    </tr>\n  </thead>\n  <tbody>\n    <tr>\n      <th>row1</th>\n      <td>-0.139347</td>\n      <td>-0.373430</td>\n      <td>-1.921363</td>\n      <td>0.826339</td>\n      <td>-0.278694</td>\n      <td>sp1</td>\n    </tr>\n    <tr>\n      <th>row2</th>\n      <td>0.286645</td>\n      <td>-0.873916</td>\n      <td>1.347885</td>\n      <td>0.732028</td>\n      <td>0.573289</td>\n      <td>sp2</td>\n    </tr>\n    <tr>\n      <th>row3</th>\n      <td>-1.426505</td>\n      <td>0.346695</td>\n      <td>0.292484</td>\n      <td>0.267752</td>\n      <td>-2.853011</td>\n      <td>sp3</td>\n    </tr>\n    <tr>\n      <th>row4</th>\n      <td>1.906606</td>\n      <td>0.427032</td>\n      <td>-0.917601</td>\n      <td>-0.909449</td>\n      <td>3.813212</td>\n      <td>sp4</td>\n    </tr>\n    <tr>\n      <th>row5</th>\n      <td>-0.051351</td>\n      <td>1.336648</td>\n      <td>1.244988</td>\n      <td>-0.754384</td>\n      <td>-0.102701</td>\n      <td>sp5</td>\n    </tr>\n    <tr>\n      <th>row6</th>\n      <td>2.371287</td>\n      <td>-0.466116</td>\n      <td>-0.646073</td>\n      <td>0.374711</td>\n      <td>4.742573</td>\n      <td>sp6</td>\n    </tr>\n    <tr>\n      <th>row7</th>\n      <td>2.749655</td>\n      <td>0.205904</td>\n      <td>0.453801</td>\n      <td>0.336647</td>\n      <td>5.499309</td>\n      <td>sp7</td>\n    </tr>\n    <tr>\n      <th>row8</th>\n      <td>0.149038</td>\n      <td>-1.199708</td>\n      <td>-1.656562</td>\n      <td>-0.416109</td>\n      <td>0.298076</td>\n      <td>sp8</td>\n    </tr>\n    <tr>\n      <th>row9</th>\n      <td>0.425928</td>\n      <td>0.280945</td>\n      <td>-0.675718</td>\n      <td>-0.848821</td>\n      <td>0.851857</td>\n      <td>sp9</td>\n    </tr>\n    <tr>\n      <th>row10</th>\n      <td>-2.216378</td>\n      <td>-0.846389</td>\n      <td>2.685789</td>\n      <td>-1.343919</td>\n      <td>-4.432756</td>\n      <td>sp10</td>\n    </tr>\n  </tbody>\n</table>\n</div>"
          },
          "metadata": {},
          "execution_count": 20
        }
      ]
    },
    {
      "cell_type": "markdown",
      "metadata": {
        "id": "A0bjQSnhoRnO"
      },
      "source": [
        "#### Rename the columns"
      ]
    },
    {
      "cell_type": "code",
      "metadata": {
        "colab": {
          "base_uri": "https://localhost:8080/",
          "height": 359
        },
        "id": "pWG0bwFwn6Z9",
        "outputId": "74b0d785-9a73-4007-a4ce-43f1cea41ce7"
      },
      "source": [
        "\n",
        "my_dataframe.rename(columns={\n",
        "    'column1':'first',\n",
        "    'column2':'second',\n",
        "    'column3':'third',\n",
        "    'column5':'fifth',\n",
        "    'column6':'sixth',\n",
        "    },inplace=True)\n",
        "my_dataframe"
      ],
      "execution_count": 21,
      "outputs": [
        {
          "output_type": "execute_result",
          "data": {
            "text/plain": [
              "          first    second     third     fifth     sixth  spin\n",
              "row1  -0.139347 -0.373430 -1.921363  0.826339 -0.278694   sp1\n",
              "row2   0.286645 -0.873916  1.347885  0.732028  0.573289   sp2\n",
              "row3  -1.426505  0.346695  0.292484  0.267752 -2.853011   sp3\n",
              "row4   1.906606  0.427032 -0.917601 -0.909449  3.813212   sp4\n",
              "row5  -0.051351  1.336648  1.244988 -0.754384 -0.102701   sp5\n",
              "row6   2.371287 -0.466116 -0.646073  0.374711  4.742573   sp6\n",
              "row7   2.749655  0.205904  0.453801  0.336647  5.499309   sp7\n",
              "row8   0.149038 -1.199708 -1.656562 -0.416109  0.298076   sp8\n",
              "row9   0.425928  0.280945 -0.675718 -0.848821  0.851857   sp9\n",
              "row10 -2.216378 -0.846389  2.685789 -1.343919 -4.432756  sp10"
            ],
            "text/html": "<div>\n<style scoped>\n    .dataframe tbody tr th:only-of-type {\n        vertical-align: middle;\n    }\n\n    .dataframe tbody tr th {\n        vertical-align: top;\n    }\n\n    .dataframe thead th {\n        text-align: right;\n    }\n</style>\n<table border=\"1\" class=\"dataframe\">\n  <thead>\n    <tr style=\"text-align: right;\">\n      <th></th>\n      <th>first</th>\n      <th>second</th>\n      <th>third</th>\n      <th>fifth</th>\n      <th>sixth</th>\n      <th>spin</th>\n    </tr>\n  </thead>\n  <tbody>\n    <tr>\n      <th>row1</th>\n      <td>-0.139347</td>\n      <td>-0.373430</td>\n      <td>-1.921363</td>\n      <td>0.826339</td>\n      <td>-0.278694</td>\n      <td>sp1</td>\n    </tr>\n    <tr>\n      <th>row2</th>\n      <td>0.286645</td>\n      <td>-0.873916</td>\n      <td>1.347885</td>\n      <td>0.732028</td>\n      <td>0.573289</td>\n      <td>sp2</td>\n    </tr>\n    <tr>\n      <th>row3</th>\n      <td>-1.426505</td>\n      <td>0.346695</td>\n      <td>0.292484</td>\n      <td>0.267752</td>\n      <td>-2.853011</td>\n      <td>sp3</td>\n    </tr>\n    <tr>\n      <th>row4</th>\n      <td>1.906606</td>\n      <td>0.427032</td>\n      <td>-0.917601</td>\n      <td>-0.909449</td>\n      <td>3.813212</td>\n      <td>sp4</td>\n    </tr>\n    <tr>\n      <th>row5</th>\n      <td>-0.051351</td>\n      <td>1.336648</td>\n      <td>1.244988</td>\n      <td>-0.754384</td>\n      <td>-0.102701</td>\n      <td>sp5</td>\n    </tr>\n    <tr>\n      <th>row6</th>\n      <td>2.371287</td>\n      <td>-0.466116</td>\n      <td>-0.646073</td>\n      <td>0.374711</td>\n      <td>4.742573</td>\n      <td>sp6</td>\n    </tr>\n    <tr>\n      <th>row7</th>\n      <td>2.749655</td>\n      <td>0.205904</td>\n      <td>0.453801</td>\n      <td>0.336647</td>\n      <td>5.499309</td>\n      <td>sp7</td>\n    </tr>\n    <tr>\n      <th>row8</th>\n      <td>0.149038</td>\n      <td>-1.199708</td>\n      <td>-1.656562</td>\n      <td>-0.416109</td>\n      <td>0.298076</td>\n      <td>sp8</td>\n    </tr>\n    <tr>\n      <th>row9</th>\n      <td>0.425928</td>\n      <td>0.280945</td>\n      <td>-0.675718</td>\n      <td>-0.848821</td>\n      <td>0.851857</td>\n      <td>sp9</td>\n    </tr>\n    <tr>\n      <th>row10</th>\n      <td>-2.216378</td>\n      <td>-0.846389</td>\n      <td>2.685789</td>\n      <td>-1.343919</td>\n      <td>-4.432756</td>\n      <td>sp10</td>\n    </tr>\n  </tbody>\n</table>\n</div>"
          },
          "metadata": {},
          "execution_count": 21
        }
      ]
    },
    {
      "cell_type": "markdown",
      "metadata": {
        "id": "tVtN7WVrrWkx"
      },
      "source": [
        "#### Read a csv file"
      ]
    },
    {
      "cell_type": "code",
      "metadata": {
        "colab": {
          "base_uri": "https://localhost:8080/",
          "height": 490
        },
        "id": "JLRT4wDDoPX1",
        "outputId": "8bf6f8a6-2c2a-4805-87da-bb72a4aa052a"
      },
      "source": [
        "data = pd.read_csv('data/Automobile.csv')\n",
        "data"
      ],
      "execution_count": 23,
      "outputs": [
        {
          "output_type": "execute_result",
          "data": {
            "text/plain": [
              "     symboling  normalized_losses         make fuel_type aspiration  \\\n",
              "0            3                168  alfa-romero       gas        std   \n",
              "1            3                168  alfa-romero       gas        std   \n",
              "2            1                168  alfa-romero       gas        std   \n",
              "3            2                164         audi       gas        std   \n",
              "4            2                164         audi       gas        std   \n",
              "..         ...                ...          ...       ...        ...   \n",
              "196         -1                 95        volvo       gas        std   \n",
              "197         -1                 95        volvo       gas      turbo   \n",
              "198         -1                 95        volvo       gas        std   \n",
              "199         -1                 95        volvo    diesel      turbo   \n",
              "200         -1                 95        volvo       gas      turbo   \n",
              "\n",
              "    number_of_doors   body_style drive_wheels engine_location  wheel_base  \\\n",
              "0               two  convertible          rwd           front        88.6   \n",
              "1               two  convertible          rwd           front        88.6   \n",
              "2               two    hatchback          rwd           front        94.5   \n",
              "3              four        sedan          fwd           front        99.8   \n",
              "4              four        sedan          4wd           front        99.4   \n",
              "..              ...          ...          ...             ...         ...   \n",
              "196            four        sedan          rwd           front       109.1   \n",
              "197            four        sedan          rwd           front       109.1   \n",
              "198            four        sedan          rwd           front       109.1   \n",
              "199            four        sedan          rwd           front       109.1   \n",
              "200            four        sedan          rwd           front       109.1   \n",
              "\n",
              "     ...  engine_size  fuel_system  bore  stroke compression_ratio horsepower  \\\n",
              "0    ...          130         mpfi  3.47    2.68               9.0        111   \n",
              "1    ...          130         mpfi  3.47    2.68               9.0        111   \n",
              "2    ...          152         mpfi  2.68    3.47               9.0        154   \n",
              "3    ...          109         mpfi  3.19    3.40              10.0        102   \n",
              "4    ...          136         mpfi  3.19    3.40               8.0        115   \n",
              "..   ...          ...          ...   ...     ...               ...        ...   \n",
              "196  ...          141         mpfi  3.78    3.15               9.5        114   \n",
              "197  ...          141         mpfi  3.78    3.15               8.7        160   \n",
              "198  ...          173         mpfi  3.58    2.87               8.8        134   \n",
              "199  ...          145          idi  3.01    3.40              23.0        106   \n",
              "200  ...          141         mpfi  3.78    3.15               9.5        114   \n",
              "\n",
              "     peak_rpm city_mpg  highway_mpg  price  \n",
              "0        5000       21           27  13495  \n",
              "1        5000       21           27  16500  \n",
              "2        5000       19           26  16500  \n",
              "3        5500       24           30  13950  \n",
              "4        5500       18           22  17450  \n",
              "..        ...      ...          ...    ...  \n",
              "196      5400       23           28  16845  \n",
              "197      5300       19           25  19045  \n",
              "198      5500       18           23  21485  \n",
              "199      4800       26           27  22470  \n",
              "200      5400       19           25  22625  \n",
              "\n",
              "[201 rows x 26 columns]"
            ],
            "text/html": "<div>\n<style scoped>\n    .dataframe tbody tr th:only-of-type {\n        vertical-align: middle;\n    }\n\n    .dataframe tbody tr th {\n        vertical-align: top;\n    }\n\n    .dataframe thead th {\n        text-align: right;\n    }\n</style>\n<table border=\"1\" class=\"dataframe\">\n  <thead>\n    <tr style=\"text-align: right;\">\n      <th></th>\n      <th>symboling</th>\n      <th>normalized_losses</th>\n      <th>make</th>\n      <th>fuel_type</th>\n      <th>aspiration</th>\n      <th>number_of_doors</th>\n      <th>body_style</th>\n      <th>drive_wheels</th>\n      <th>engine_location</th>\n      <th>wheel_base</th>\n      <th>...</th>\n      <th>engine_size</th>\n      <th>fuel_system</th>\n      <th>bore</th>\n      <th>stroke</th>\n      <th>compression_ratio</th>\n      <th>horsepower</th>\n      <th>peak_rpm</th>\n      <th>city_mpg</th>\n      <th>highway_mpg</th>\n      <th>price</th>\n    </tr>\n  </thead>\n  <tbody>\n    <tr>\n      <th>0</th>\n      <td>3</td>\n      <td>168</td>\n      <td>alfa-romero</td>\n      <td>gas</td>\n      <td>std</td>\n      <td>two</td>\n      <td>convertible</td>\n      <td>rwd</td>\n      <td>front</td>\n      <td>88.6</td>\n      <td>...</td>\n      <td>130</td>\n      <td>mpfi</td>\n      <td>3.47</td>\n      <td>2.68</td>\n      <td>9.0</td>\n      <td>111</td>\n      <td>5000</td>\n      <td>21</td>\n      <td>27</td>\n      <td>13495</td>\n    </tr>\n    <tr>\n      <th>1</th>\n      <td>3</td>\n      <td>168</td>\n      <td>alfa-romero</td>\n      <td>gas</td>\n      <td>std</td>\n      <td>two</td>\n      <td>convertible</td>\n      <td>rwd</td>\n      <td>front</td>\n      <td>88.6</td>\n      <td>...</td>\n      <td>130</td>\n      <td>mpfi</td>\n      <td>3.47</td>\n      <td>2.68</td>\n      <td>9.0</td>\n      <td>111</td>\n      <td>5000</td>\n      <td>21</td>\n      <td>27</td>\n      <td>16500</td>\n    </tr>\n    <tr>\n      <th>2</th>\n      <td>1</td>\n      <td>168</td>\n      <td>alfa-romero</td>\n      <td>gas</td>\n      <td>std</td>\n      <td>two</td>\n      <td>hatchback</td>\n      <td>rwd</td>\n      <td>front</td>\n      <td>94.5</td>\n      <td>...</td>\n      <td>152</td>\n      <td>mpfi</td>\n      <td>2.68</td>\n      <td>3.47</td>\n      <td>9.0</td>\n      <td>154</td>\n      <td>5000</td>\n      <td>19</td>\n      <td>26</td>\n      <td>16500</td>\n    </tr>\n    <tr>\n      <th>3</th>\n      <td>2</td>\n      <td>164</td>\n      <td>audi</td>\n      <td>gas</td>\n      <td>std</td>\n      <td>four</td>\n      <td>sedan</td>\n      <td>fwd</td>\n      <td>front</td>\n      <td>99.8</td>\n      <td>...</td>\n      <td>109</td>\n      <td>mpfi</td>\n      <td>3.19</td>\n      <td>3.40</td>\n      <td>10.0</td>\n      <td>102</td>\n      <td>5500</td>\n      <td>24</td>\n      <td>30</td>\n      <td>13950</td>\n    </tr>\n    <tr>\n      <th>4</th>\n      <td>2</td>\n      <td>164</td>\n      <td>audi</td>\n      <td>gas</td>\n      <td>std</td>\n      <td>four</td>\n      <td>sedan</td>\n      <td>4wd</td>\n      <td>front</td>\n      <td>99.4</td>\n      <td>...</td>\n      <td>136</td>\n      <td>mpfi</td>\n      <td>3.19</td>\n      <td>3.40</td>\n      <td>8.0</td>\n      <td>115</td>\n      <td>5500</td>\n      <td>18</td>\n      <td>22</td>\n      <td>17450</td>\n    </tr>\n    <tr>\n      <th>...</th>\n      <td>...</td>\n      <td>...</td>\n      <td>...</td>\n      <td>...</td>\n      <td>...</td>\n      <td>...</td>\n      <td>...</td>\n      <td>...</td>\n      <td>...</td>\n      <td>...</td>\n      <td>...</td>\n      <td>...</td>\n      <td>...</td>\n      <td>...</td>\n      <td>...</td>\n      <td>...</td>\n      <td>...</td>\n      <td>...</td>\n      <td>...</td>\n      <td>...</td>\n      <td>...</td>\n    </tr>\n    <tr>\n      <th>196</th>\n      <td>-1</td>\n      <td>95</td>\n      <td>volvo</td>\n      <td>gas</td>\n      <td>std</td>\n      <td>four</td>\n      <td>sedan</td>\n      <td>rwd</td>\n      <td>front</td>\n      <td>109.1</td>\n      <td>...</td>\n      <td>141</td>\n      <td>mpfi</td>\n      <td>3.78</td>\n      <td>3.15</td>\n      <td>9.5</td>\n      <td>114</td>\n      <td>5400</td>\n      <td>23</td>\n      <td>28</td>\n      <td>16845</td>\n    </tr>\n    <tr>\n      <th>197</th>\n      <td>-1</td>\n      <td>95</td>\n      <td>volvo</td>\n      <td>gas</td>\n      <td>turbo</td>\n      <td>four</td>\n      <td>sedan</td>\n      <td>rwd</td>\n      <td>front</td>\n      <td>109.1</td>\n      <td>...</td>\n      <td>141</td>\n      <td>mpfi</td>\n      <td>3.78</td>\n      <td>3.15</td>\n      <td>8.7</td>\n      <td>160</td>\n      <td>5300</td>\n      <td>19</td>\n      <td>25</td>\n      <td>19045</td>\n    </tr>\n    <tr>\n      <th>198</th>\n      <td>-1</td>\n      <td>95</td>\n      <td>volvo</td>\n      <td>gas</td>\n      <td>std</td>\n      <td>four</td>\n      <td>sedan</td>\n      <td>rwd</td>\n      <td>front</td>\n      <td>109.1</td>\n      <td>...</td>\n      <td>173</td>\n      <td>mpfi</td>\n      <td>3.58</td>\n      <td>2.87</td>\n      <td>8.8</td>\n      <td>134</td>\n      <td>5500</td>\n      <td>18</td>\n      <td>23</td>\n      <td>21485</td>\n    </tr>\n    <tr>\n      <th>199</th>\n      <td>-1</td>\n      <td>95</td>\n      <td>volvo</td>\n      <td>diesel</td>\n      <td>turbo</td>\n      <td>four</td>\n      <td>sedan</td>\n      <td>rwd</td>\n      <td>front</td>\n      <td>109.1</td>\n      <td>...</td>\n      <td>145</td>\n      <td>idi</td>\n      <td>3.01</td>\n      <td>3.40</td>\n      <td>23.0</td>\n      <td>106</td>\n      <td>4800</td>\n      <td>26</td>\n      <td>27</td>\n      <td>22470</td>\n    </tr>\n    <tr>\n      <th>200</th>\n      <td>-1</td>\n      <td>95</td>\n      <td>volvo</td>\n      <td>gas</td>\n      <td>turbo</td>\n      <td>four</td>\n      <td>sedan</td>\n      <td>rwd</td>\n      <td>front</td>\n      <td>109.1</td>\n      <td>...</td>\n      <td>141</td>\n      <td>mpfi</td>\n      <td>3.78</td>\n      <td>3.15</td>\n      <td>9.5</td>\n      <td>114</td>\n      <td>5400</td>\n      <td>19</td>\n      <td>25</td>\n      <td>22625</td>\n    </tr>\n  </tbody>\n</table>\n<p>201 rows × 26 columns</p>\n</div>"
          },
          "metadata": {},
          "execution_count": 23
        }
      ]
    },
    {
      "cell_type": "markdown",
      "metadata": {
        "id": "4_Z0Zjek1wer"
      },
      "source": [
        "#### Description of data inside DataFrame"
      ]
    },
    {
      "cell_type": "code",
      "metadata": {
        "colab": {
          "base_uri": "https://localhost:8080/",
          "height": 317
        },
        "id": "bxbg-USOrD6k",
        "outputId": "24840421-c49c-4f4b-f8fc-27a9795ee7d6"
      },
      "source": [
        "data.describe()"
      ],
      "execution_count": 24,
      "outputs": [
        {
          "output_type": "execute_result",
          "data": {
            "text/plain": [
              "        symboling  normalized_losses  wheel_base      length       width  \\\n",
              "count  201.000000         201.000000  201.000000  201.000000  201.000000   \n",
              "mean     0.840796         125.189055   98.797015  174.200995   65.889055   \n",
              "std      1.254802          33.572966    6.066366   12.322175    2.101471   \n",
              "min     -2.000000          65.000000   86.600000  141.100000   60.300000   \n",
              "25%      0.000000         101.000000   94.500000  166.800000   64.100000   \n",
              "50%      1.000000         122.000000   97.000000  173.200000   65.500000   \n",
              "75%      2.000000         150.000000  102.400000  183.500000   66.600000   \n",
              "max      3.000000         256.000000  120.900000  208.100000   72.000000   \n",
              "\n",
              "           height  curb_weight  engine_size        bore      stroke  \\\n",
              "count  201.000000   201.000000   201.000000  201.000000  201.000000   \n",
              "mean    53.766667  2555.666667   126.875622    3.329701    3.261741   \n",
              "std      2.447822   517.296727    41.546834    0.268166    0.317875   \n",
              "min     47.800000  1488.000000    61.000000    2.540000    2.070000   \n",
              "25%     52.000000  2169.000000    98.000000    3.150000    3.110000   \n",
              "50%     54.100000  2414.000000   120.000000    3.310000    3.290000   \n",
              "75%     55.500000  2926.000000   141.000000    3.580000    3.460000   \n",
              "max     59.800000  4066.000000   326.000000    3.940000    4.170000   \n",
              "\n",
              "       compression_ratio  horsepower     peak_rpm    city_mpg  highway_mpg  \\\n",
              "count         201.000000  201.000000   201.000000  201.000000   201.000000   \n",
              "mean           10.164279  103.263682  5121.393035   25.179104    30.686567   \n",
              "std             4.004965   37.389372   479.624905    6.423220     6.815150   \n",
              "min             7.000000   48.000000  4150.000000   13.000000    16.000000   \n",
              "25%             8.600000   70.000000  4800.000000   19.000000    25.000000   \n",
              "50%             9.000000   95.000000  5200.000000   24.000000    30.000000   \n",
              "75%             9.400000  116.000000  5500.000000   30.000000    34.000000   \n",
              "max            23.000000  262.000000  6600.000000   49.000000    54.000000   \n",
              "\n",
              "              price  \n",
              "count    201.000000  \n",
              "mean   13207.129353  \n",
              "std     7947.066342  \n",
              "min     5118.000000  \n",
              "25%     7775.000000  \n",
              "50%    10295.000000  \n",
              "75%    16500.000000  \n",
              "max    45400.000000  "
            ],
            "text/html": "<div>\n<style scoped>\n    .dataframe tbody tr th:only-of-type {\n        vertical-align: middle;\n    }\n\n    .dataframe tbody tr th {\n        vertical-align: top;\n    }\n\n    .dataframe thead th {\n        text-align: right;\n    }\n</style>\n<table border=\"1\" class=\"dataframe\">\n  <thead>\n    <tr style=\"text-align: right;\">\n      <th></th>\n      <th>symboling</th>\n      <th>normalized_losses</th>\n      <th>wheel_base</th>\n      <th>length</th>\n      <th>width</th>\n      <th>height</th>\n      <th>curb_weight</th>\n      <th>engine_size</th>\n      <th>bore</th>\n      <th>stroke</th>\n      <th>compression_ratio</th>\n      <th>horsepower</th>\n      <th>peak_rpm</th>\n      <th>city_mpg</th>\n      <th>highway_mpg</th>\n      <th>price</th>\n    </tr>\n  </thead>\n  <tbody>\n    <tr>\n      <th>count</th>\n      <td>201.000000</td>\n      <td>201.000000</td>\n      <td>201.000000</td>\n      <td>201.000000</td>\n      <td>201.000000</td>\n      <td>201.000000</td>\n      <td>201.000000</td>\n      <td>201.000000</td>\n      <td>201.000000</td>\n      <td>201.000000</td>\n      <td>201.000000</td>\n      <td>201.000000</td>\n      <td>201.000000</td>\n      <td>201.000000</td>\n      <td>201.000000</td>\n      <td>201.000000</td>\n    </tr>\n    <tr>\n      <th>mean</th>\n      <td>0.840796</td>\n      <td>125.189055</td>\n      <td>98.797015</td>\n      <td>174.200995</td>\n      <td>65.889055</td>\n      <td>53.766667</td>\n      <td>2555.666667</td>\n      <td>126.875622</td>\n      <td>3.329701</td>\n      <td>3.261741</td>\n      <td>10.164279</td>\n      <td>103.263682</td>\n      <td>5121.393035</td>\n      <td>25.179104</td>\n      <td>30.686567</td>\n      <td>13207.129353</td>\n    </tr>\n    <tr>\n      <th>std</th>\n      <td>1.254802</td>\n      <td>33.572966</td>\n      <td>6.066366</td>\n      <td>12.322175</td>\n      <td>2.101471</td>\n      <td>2.447822</td>\n      <td>517.296727</td>\n      <td>41.546834</td>\n      <td>0.268166</td>\n      <td>0.317875</td>\n      <td>4.004965</td>\n      <td>37.389372</td>\n      <td>479.624905</td>\n      <td>6.423220</td>\n      <td>6.815150</td>\n      <td>7947.066342</td>\n    </tr>\n    <tr>\n      <th>min</th>\n      <td>-2.000000</td>\n      <td>65.000000</td>\n      <td>86.600000</td>\n      <td>141.100000</td>\n      <td>60.300000</td>\n      <td>47.800000</td>\n      <td>1488.000000</td>\n      <td>61.000000</td>\n      <td>2.540000</td>\n      <td>2.070000</td>\n      <td>7.000000</td>\n      <td>48.000000</td>\n      <td>4150.000000</td>\n      <td>13.000000</td>\n      <td>16.000000</td>\n      <td>5118.000000</td>\n    </tr>\n    <tr>\n      <th>25%</th>\n      <td>0.000000</td>\n      <td>101.000000</td>\n      <td>94.500000</td>\n      <td>166.800000</td>\n      <td>64.100000</td>\n      <td>52.000000</td>\n      <td>2169.000000</td>\n      <td>98.000000</td>\n      <td>3.150000</td>\n      <td>3.110000</td>\n      <td>8.600000</td>\n      <td>70.000000</td>\n      <td>4800.000000</td>\n      <td>19.000000</td>\n      <td>25.000000</td>\n      <td>7775.000000</td>\n    </tr>\n    <tr>\n      <th>50%</th>\n      <td>1.000000</td>\n      <td>122.000000</td>\n      <td>97.000000</td>\n      <td>173.200000</td>\n      <td>65.500000</td>\n      <td>54.100000</td>\n      <td>2414.000000</td>\n      <td>120.000000</td>\n      <td>3.310000</td>\n      <td>3.290000</td>\n      <td>9.000000</td>\n      <td>95.000000</td>\n      <td>5200.000000</td>\n      <td>24.000000</td>\n      <td>30.000000</td>\n      <td>10295.000000</td>\n    </tr>\n    <tr>\n      <th>75%</th>\n      <td>2.000000</td>\n      <td>150.000000</td>\n      <td>102.400000</td>\n      <td>183.500000</td>\n      <td>66.600000</td>\n      <td>55.500000</td>\n      <td>2926.000000</td>\n      <td>141.000000</td>\n      <td>3.580000</td>\n      <td>3.460000</td>\n      <td>9.400000</td>\n      <td>116.000000</td>\n      <td>5500.000000</td>\n      <td>30.000000</td>\n      <td>34.000000</td>\n      <td>16500.000000</td>\n    </tr>\n    <tr>\n      <th>max</th>\n      <td>3.000000</td>\n      <td>256.000000</td>\n      <td>120.900000</td>\n      <td>208.100000</td>\n      <td>72.000000</td>\n      <td>59.800000</td>\n      <td>4066.000000</td>\n      <td>326.000000</td>\n      <td>3.940000</td>\n      <td>4.170000</td>\n      <td>23.000000</td>\n      <td>262.000000</td>\n      <td>6600.000000</td>\n      <td>49.000000</td>\n      <td>54.000000</td>\n      <td>45400.000000</td>\n    </tr>\n  </tbody>\n</table>\n</div>"
          },
          "metadata": {},
          "execution_count": 24
        }
      ]
    },
    {
      "cell_type": "markdown",
      "metadata": {
        "id": "ZxSIJgL813aO"
      },
      "source": [
        "#### Information on DataFrame\n",
        "\n",
        "provides inferred data types"
      ]
    },
    {
      "cell_type": "code",
      "metadata": {
        "colab": {
          "base_uri": "https://localhost:8080/"
        },
        "id": "tXLuA6G0rHPi",
        "outputId": "0a28bb9a-ed9c-4fe0-d502-75da715f1c10"
      },
      "source": [
        "data.info()"
      ],
      "execution_count": 25,
      "outputs": [
        {
          "output_type": "stream",
          "name": "stdout",
          "text": [
            "<class 'pandas.core.frame.DataFrame'>\nRangeIndex: 201 entries, 0 to 200\nData columns (total 26 columns):\n #   Column               Non-Null Count  Dtype  \n---  ------               --------------  -----  \n 0   symboling            201 non-null    int64  \n 1   normalized_losses    201 non-null    int64  \n 2   make                 201 non-null    object \n 3   fuel_type            201 non-null    object \n 4   aspiration           201 non-null    object \n 5   number_of_doors      201 non-null    object \n 6   body_style           201 non-null    object \n 7   drive_wheels         201 non-null    object \n 8   engine_location      201 non-null    object \n 9   wheel_base           201 non-null    float64\n 10  length               201 non-null    float64\n 11  width                201 non-null    float64\n 12  height               201 non-null    float64\n 13  curb_weight          201 non-null    int64  \n 14  engine_type          201 non-null    object \n 15  number_of_cylinders  201 non-null    object \n 16  engine_size          201 non-null    int64  \n 17  fuel_system          201 non-null    object \n 18  bore                 201 non-null    float64\n 19  stroke               201 non-null    float64\n 20  compression_ratio    201 non-null    float64\n 21  horsepower           201 non-null    int64  \n 22  peak_rpm             201 non-null    int64  \n 23  city_mpg             201 non-null    int64  \n 24  highway_mpg          201 non-null    int64  \n 25  price                201 non-null    int64  \ndtypes: float64(7), int64(9), object(10)\nmemory usage: 41.0+ KB\n"
          ]
        }
      ]
    },
    {
      "cell_type": "markdown",
      "metadata": {
        "id": "aFX3KM-b2MB2"
      },
      "source": [
        "#### Selecting a column"
      ]
    },
    {
      "cell_type": "code",
      "metadata": {
        "colab": {
          "base_uri": "https://localhost:8080/"
        },
        "id": "dN18h4k7ry2F",
        "outputId": "c4f8d65d-ea1e-4ab3-d73b-28fe0e70108d"
      },
      "source": [
        "data['make']"
      ],
      "execution_count": 26,
      "outputs": [
        {
          "output_type": "execute_result",
          "data": {
            "text/plain": [
              "0      alfa-romero\n",
              "1      alfa-romero\n",
              "2      alfa-romero\n",
              "3             audi\n",
              "4             audi\n",
              "          ...     \n",
              "196          volvo\n",
              "197          volvo\n",
              "198          volvo\n",
              "199          volvo\n",
              "200          volvo\n",
              "Name: make, Length: 201, dtype: object"
            ]
          },
          "metadata": {},
          "execution_count": 26
        }
      ]
    },
    {
      "cell_type": "markdown",
      "metadata": {
        "id": "PjZXRzfQ2SVp"
      },
      "source": [
        "#### Indexes on dataset"
      ]
    },
    {
      "cell_type": "code",
      "metadata": {
        "colab": {
          "base_uri": "https://localhost:8080/"
        },
        "id": "jmoOZfOir7zA",
        "outputId": "1525fbd2-c3d3-475b-ae58-c10ca3c4bb1a"
      },
      "source": [
        "data.index"
      ],
      "execution_count": 27,
      "outputs": [
        {
          "output_type": "execute_result",
          "data": {
            "text/plain": [
              "RangeIndex(start=0, stop=201, step=1)"
            ]
          },
          "metadata": {},
          "execution_count": 27
        }
      ]
    },
    {
      "cell_type": "markdown",
      "metadata": {
        "id": "DPPlcT6v2gO_"
      },
      "source": [
        "#### Find Null Values"
      ]
    },
    {
      "cell_type": "code",
      "metadata": {
        "colab": {
          "base_uri": "https://localhost:8080/",
          "height": 439
        },
        "id": "XiNJvTxzsArL",
        "outputId": "5b895a40-956e-4155-a67b-fddcb29ee339"
      },
      "source": [
        "data.isnull()"
      ],
      "execution_count": 28,
      "outputs": [
        {
          "output_type": "execute_result",
          "data": {
            "text/plain": [
              "     symboling  normalized_losses   make  fuel_type  aspiration  \\\n",
              "0        False              False  False      False       False   \n",
              "1        False              False  False      False       False   \n",
              "2        False              False  False      False       False   \n",
              "3        False              False  False      False       False   \n",
              "4        False              False  False      False       False   \n",
              "..         ...                ...    ...        ...         ...   \n",
              "196      False              False  False      False       False   \n",
              "197      False              False  False      False       False   \n",
              "198      False              False  False      False       False   \n",
              "199      False              False  False      False       False   \n",
              "200      False              False  False      False       False   \n",
              "\n",
              "     number_of_doors  body_style  drive_wheels  engine_location  wheel_base  \\\n",
              "0              False       False         False            False       False   \n",
              "1              False       False         False            False       False   \n",
              "2              False       False         False            False       False   \n",
              "3              False       False         False            False       False   \n",
              "4              False       False         False            False       False   \n",
              "..               ...         ...           ...              ...         ...   \n",
              "196            False       False         False            False       False   \n",
              "197            False       False         False            False       False   \n",
              "198            False       False         False            False       False   \n",
              "199            False       False         False            False       False   \n",
              "200            False       False         False            False       False   \n",
              "\n",
              "     ...  engine_size  fuel_system   bore  stroke  compression_ratio  \\\n",
              "0    ...        False        False  False   False              False   \n",
              "1    ...        False        False  False   False              False   \n",
              "2    ...        False        False  False   False              False   \n",
              "3    ...        False        False  False   False              False   \n",
              "4    ...        False        False  False   False              False   \n",
              "..   ...          ...          ...    ...     ...                ...   \n",
              "196  ...        False        False  False   False              False   \n",
              "197  ...        False        False  False   False              False   \n",
              "198  ...        False        False  False   False              False   \n",
              "199  ...        False        False  False   False              False   \n",
              "200  ...        False        False  False   False              False   \n",
              "\n",
              "     horsepower  peak_rpm  city_mpg  highway_mpg  price  \n",
              "0         False     False     False        False  False  \n",
              "1         False     False     False        False  False  \n",
              "2         False     False     False        False  False  \n",
              "3         False     False     False        False  False  \n",
              "4         False     False     False        False  False  \n",
              "..          ...       ...       ...          ...    ...  \n",
              "196       False     False     False        False  False  \n",
              "197       False     False     False        False  False  \n",
              "198       False     False     False        False  False  \n",
              "199       False     False     False        False  False  \n",
              "200       False     False     False        False  False  \n",
              "\n",
              "[201 rows x 26 columns]"
            ],
            "text/html": "<div>\n<style scoped>\n    .dataframe tbody tr th:only-of-type {\n        vertical-align: middle;\n    }\n\n    .dataframe tbody tr th {\n        vertical-align: top;\n    }\n\n    .dataframe thead th {\n        text-align: right;\n    }\n</style>\n<table border=\"1\" class=\"dataframe\">\n  <thead>\n    <tr style=\"text-align: right;\">\n      <th></th>\n      <th>symboling</th>\n      <th>normalized_losses</th>\n      <th>make</th>\n      <th>fuel_type</th>\n      <th>aspiration</th>\n      <th>number_of_doors</th>\n      <th>body_style</th>\n      <th>drive_wheels</th>\n      <th>engine_location</th>\n      <th>wheel_base</th>\n      <th>...</th>\n      <th>engine_size</th>\n      <th>fuel_system</th>\n      <th>bore</th>\n      <th>stroke</th>\n      <th>compression_ratio</th>\n      <th>horsepower</th>\n      <th>peak_rpm</th>\n      <th>city_mpg</th>\n      <th>highway_mpg</th>\n      <th>price</th>\n    </tr>\n  </thead>\n  <tbody>\n    <tr>\n      <th>0</th>\n      <td>False</td>\n      <td>False</td>\n      <td>False</td>\n      <td>False</td>\n      <td>False</td>\n      <td>False</td>\n      <td>False</td>\n      <td>False</td>\n      <td>False</td>\n      <td>False</td>\n      <td>...</td>\n      <td>False</td>\n      <td>False</td>\n      <td>False</td>\n      <td>False</td>\n      <td>False</td>\n      <td>False</td>\n      <td>False</td>\n      <td>False</td>\n      <td>False</td>\n      <td>False</td>\n    </tr>\n    <tr>\n      <th>1</th>\n      <td>False</td>\n      <td>False</td>\n      <td>False</td>\n      <td>False</td>\n      <td>False</td>\n      <td>False</td>\n      <td>False</td>\n      <td>False</td>\n      <td>False</td>\n      <td>False</td>\n      <td>...</td>\n      <td>False</td>\n      <td>False</td>\n      <td>False</td>\n      <td>False</td>\n      <td>False</td>\n      <td>False</td>\n      <td>False</td>\n      <td>False</td>\n      <td>False</td>\n      <td>False</td>\n    </tr>\n    <tr>\n      <th>2</th>\n      <td>False</td>\n      <td>False</td>\n      <td>False</td>\n      <td>False</td>\n      <td>False</td>\n      <td>False</td>\n      <td>False</td>\n      <td>False</td>\n      <td>False</td>\n      <td>False</td>\n      <td>...</td>\n      <td>False</td>\n      <td>False</td>\n      <td>False</td>\n      <td>False</td>\n      <td>False</td>\n      <td>False</td>\n      <td>False</td>\n      <td>False</td>\n      <td>False</td>\n      <td>False</td>\n    </tr>\n    <tr>\n      <th>3</th>\n      <td>False</td>\n      <td>False</td>\n      <td>False</td>\n      <td>False</td>\n      <td>False</td>\n      <td>False</td>\n      <td>False</td>\n      <td>False</td>\n      <td>False</td>\n      <td>False</td>\n      <td>...</td>\n      <td>False</td>\n      <td>False</td>\n      <td>False</td>\n      <td>False</td>\n      <td>False</td>\n      <td>False</td>\n      <td>False</td>\n      <td>False</td>\n      <td>False</td>\n      <td>False</td>\n    </tr>\n    <tr>\n      <th>4</th>\n      <td>False</td>\n      <td>False</td>\n      <td>False</td>\n      <td>False</td>\n      <td>False</td>\n      <td>False</td>\n      <td>False</td>\n      <td>False</td>\n      <td>False</td>\n      <td>False</td>\n      <td>...</td>\n      <td>False</td>\n      <td>False</td>\n      <td>False</td>\n      <td>False</td>\n      <td>False</td>\n      <td>False</td>\n      <td>False</td>\n      <td>False</td>\n      <td>False</td>\n      <td>False</td>\n    </tr>\n    <tr>\n      <th>...</th>\n      <td>...</td>\n      <td>...</td>\n      <td>...</td>\n      <td>...</td>\n      <td>...</td>\n      <td>...</td>\n      <td>...</td>\n      <td>...</td>\n      <td>...</td>\n      <td>...</td>\n      <td>...</td>\n      <td>...</td>\n      <td>...</td>\n      <td>...</td>\n      <td>...</td>\n      <td>...</td>\n      <td>...</td>\n      <td>...</td>\n      <td>...</td>\n      <td>...</td>\n      <td>...</td>\n    </tr>\n    <tr>\n      <th>196</th>\n      <td>False</td>\n      <td>False</td>\n      <td>False</td>\n      <td>False</td>\n      <td>False</td>\n      <td>False</td>\n      <td>False</td>\n      <td>False</td>\n      <td>False</td>\n      <td>False</td>\n      <td>...</td>\n      <td>False</td>\n      <td>False</td>\n      <td>False</td>\n      <td>False</td>\n      <td>False</td>\n      <td>False</td>\n      <td>False</td>\n      <td>False</td>\n      <td>False</td>\n      <td>False</td>\n    </tr>\n    <tr>\n      <th>197</th>\n      <td>False</td>\n      <td>False</td>\n      <td>False</td>\n      <td>False</td>\n      <td>False</td>\n      <td>False</td>\n      <td>False</td>\n      <td>False</td>\n      <td>False</td>\n      <td>False</td>\n      <td>...</td>\n      <td>False</td>\n      <td>False</td>\n      <td>False</td>\n      <td>False</td>\n      <td>False</td>\n      <td>False</td>\n      <td>False</td>\n      <td>False</td>\n      <td>False</td>\n      <td>False</td>\n    </tr>\n    <tr>\n      <th>198</th>\n      <td>False</td>\n      <td>False</td>\n      <td>False</td>\n      <td>False</td>\n      <td>False</td>\n      <td>False</td>\n      <td>False</td>\n      <td>False</td>\n      <td>False</td>\n      <td>False</td>\n      <td>...</td>\n      <td>False</td>\n      <td>False</td>\n      <td>False</td>\n      <td>False</td>\n      <td>False</td>\n      <td>False</td>\n      <td>False</td>\n      <td>False</td>\n      <td>False</td>\n      <td>False</td>\n    </tr>\n    <tr>\n      <th>199</th>\n      <td>False</td>\n      <td>False</td>\n      <td>False</td>\n      <td>False</td>\n      <td>False</td>\n      <td>False</td>\n      <td>False</td>\n      <td>False</td>\n      <td>False</td>\n      <td>False</td>\n      <td>...</td>\n      <td>False</td>\n      <td>False</td>\n      <td>False</td>\n      <td>False</td>\n      <td>False</td>\n      <td>False</td>\n      <td>False</td>\n      <td>False</td>\n      <td>False</td>\n      <td>False</td>\n    </tr>\n    <tr>\n      <th>200</th>\n      <td>False</td>\n      <td>False</td>\n      <td>False</td>\n      <td>False</td>\n      <td>False</td>\n      <td>False</td>\n      <td>False</td>\n      <td>False</td>\n      <td>False</td>\n      <td>False</td>\n      <td>...</td>\n      <td>False</td>\n      <td>False</td>\n      <td>False</td>\n      <td>False</td>\n      <td>False</td>\n      <td>False</td>\n      <td>False</td>\n      <td>False</td>\n      <td>False</td>\n      <td>False</td>\n    </tr>\n  </tbody>\n</table>\n<p>201 rows × 26 columns</p>\n</div>"
          },
          "metadata": {},
          "execution_count": 28
        }
      ]
    },
    {
      "cell_type": "code",
      "metadata": {
        "colab": {
          "base_uri": "https://localhost:8080/"
        },
        "id": "qYwuCqaOsESc",
        "outputId": "6a3de4f7-b90b-4813-d3bf-051df863722f"
      },
      "source": [
        "data.isnull().sum()"
      ],
      "execution_count": 29,
      "outputs": [
        {
          "output_type": "execute_result",
          "data": {
            "text/plain": [
              "symboling              0\n",
              "normalized_losses      0\n",
              "make                   0\n",
              "fuel_type              0\n",
              "aspiration             0\n",
              "number_of_doors        0\n",
              "body_style             0\n",
              "drive_wheels           0\n",
              "engine_location        0\n",
              "wheel_base             0\n",
              "length                 0\n",
              "width                  0\n",
              "height                 0\n",
              "curb_weight            0\n",
              "engine_type            0\n",
              "number_of_cylinders    0\n",
              "engine_size            0\n",
              "fuel_system            0\n",
              "bore                   0\n",
              "stroke                 0\n",
              "compression_ratio      0\n",
              "horsepower             0\n",
              "peak_rpm               0\n",
              "city_mpg               0\n",
              "highway_mpg            0\n",
              "price                  0\n",
              "dtype: int64"
            ]
          },
          "metadata": {},
          "execution_count": 29
        }
      ]
    },
    {
      "cell_type": "markdown",
      "metadata": {
        "id": "KWPqgela2qvT"
      },
      "source": [
        "#### Find the percentile (quartile) values for DataFrame"
      ]
    },
    {
      "cell_type": "code",
      "metadata": {
        "colab": {
          "base_uri": "https://localhost:8080/",
          "height": 565
        },
        "id": "8gaGPq0ytBUN",
        "outputId": "fe6ebb6a-f31b-4ee8-f730-20143f7f05b0"
      },
      "source": [
        "data.describe().T\n"
      ],
      "execution_count": 30,
      "outputs": [
        {
          "output_type": "execute_result",
          "data": {
            "text/plain": [
              "                   count          mean          std      min      25%  \\\n",
              "symboling          201.0      0.840796     1.254802    -2.00     0.00   \n",
              "normalized_losses  201.0    125.189055    33.572966    65.00   101.00   \n",
              "wheel_base         201.0     98.797015     6.066366    86.60    94.50   \n",
              "length             201.0    174.200995    12.322175   141.10   166.80   \n",
              "width              201.0     65.889055     2.101471    60.30    64.10   \n",
              "height             201.0     53.766667     2.447822    47.80    52.00   \n",
              "curb_weight        201.0   2555.666667   517.296727  1488.00  2169.00   \n",
              "engine_size        201.0    126.875622    41.546834    61.00    98.00   \n",
              "bore               201.0      3.329701     0.268166     2.54     3.15   \n",
              "stroke             201.0      3.261741     0.317875     2.07     3.11   \n",
              "compression_ratio  201.0     10.164279     4.004965     7.00     8.60   \n",
              "horsepower         201.0    103.263682    37.389372    48.00    70.00   \n",
              "peak_rpm           201.0   5121.393035   479.624905  4150.00  4800.00   \n",
              "city_mpg           201.0     25.179104     6.423220    13.00    19.00   \n",
              "highway_mpg        201.0     30.686567     6.815150    16.00    25.00   \n",
              "price              201.0  13207.129353  7947.066342  5118.00  7775.00   \n",
              "\n",
              "                        50%       75%       max  \n",
              "symboling              1.00      2.00      3.00  \n",
              "normalized_losses    122.00    150.00    256.00  \n",
              "wheel_base            97.00    102.40    120.90  \n",
              "length               173.20    183.50    208.10  \n",
              "width                 65.50     66.60     72.00  \n",
              "height                54.10     55.50     59.80  \n",
              "curb_weight         2414.00   2926.00   4066.00  \n",
              "engine_size          120.00    141.00    326.00  \n",
              "bore                   3.31      3.58      3.94  \n",
              "stroke                 3.29      3.46      4.17  \n",
              "compression_ratio      9.00      9.40     23.00  \n",
              "horsepower            95.00    116.00    262.00  \n",
              "peak_rpm            5200.00   5500.00   6600.00  \n",
              "city_mpg              24.00     30.00     49.00  \n",
              "highway_mpg           30.00     34.00     54.00  \n",
              "price              10295.00  16500.00  45400.00  "
            ],
            "text/html": "<div>\n<style scoped>\n    .dataframe tbody tr th:only-of-type {\n        vertical-align: middle;\n    }\n\n    .dataframe tbody tr th {\n        vertical-align: top;\n    }\n\n    .dataframe thead th {\n        text-align: right;\n    }\n</style>\n<table border=\"1\" class=\"dataframe\">\n  <thead>\n    <tr style=\"text-align: right;\">\n      <th></th>\n      <th>count</th>\n      <th>mean</th>\n      <th>std</th>\n      <th>min</th>\n      <th>25%</th>\n      <th>50%</th>\n      <th>75%</th>\n      <th>max</th>\n    </tr>\n  </thead>\n  <tbody>\n    <tr>\n      <th>symboling</th>\n      <td>201.0</td>\n      <td>0.840796</td>\n      <td>1.254802</td>\n      <td>-2.00</td>\n      <td>0.00</td>\n      <td>1.00</td>\n      <td>2.00</td>\n      <td>3.00</td>\n    </tr>\n    <tr>\n      <th>normalized_losses</th>\n      <td>201.0</td>\n      <td>125.189055</td>\n      <td>33.572966</td>\n      <td>65.00</td>\n      <td>101.00</td>\n      <td>122.00</td>\n      <td>150.00</td>\n      <td>256.00</td>\n    </tr>\n    <tr>\n      <th>wheel_base</th>\n      <td>201.0</td>\n      <td>98.797015</td>\n      <td>6.066366</td>\n      <td>86.60</td>\n      <td>94.50</td>\n      <td>97.00</td>\n      <td>102.40</td>\n      <td>120.90</td>\n    </tr>\n    <tr>\n      <th>length</th>\n      <td>201.0</td>\n      <td>174.200995</td>\n      <td>12.322175</td>\n      <td>141.10</td>\n      <td>166.80</td>\n      <td>173.20</td>\n      <td>183.50</td>\n      <td>208.10</td>\n    </tr>\n    <tr>\n      <th>width</th>\n      <td>201.0</td>\n      <td>65.889055</td>\n      <td>2.101471</td>\n      <td>60.30</td>\n      <td>64.10</td>\n      <td>65.50</td>\n      <td>66.60</td>\n      <td>72.00</td>\n    </tr>\n    <tr>\n      <th>height</th>\n      <td>201.0</td>\n      <td>53.766667</td>\n      <td>2.447822</td>\n      <td>47.80</td>\n      <td>52.00</td>\n      <td>54.10</td>\n      <td>55.50</td>\n      <td>59.80</td>\n    </tr>\n    <tr>\n      <th>curb_weight</th>\n      <td>201.0</td>\n      <td>2555.666667</td>\n      <td>517.296727</td>\n      <td>1488.00</td>\n      <td>2169.00</td>\n      <td>2414.00</td>\n      <td>2926.00</td>\n      <td>4066.00</td>\n    </tr>\n    <tr>\n      <th>engine_size</th>\n      <td>201.0</td>\n      <td>126.875622</td>\n      <td>41.546834</td>\n      <td>61.00</td>\n      <td>98.00</td>\n      <td>120.00</td>\n      <td>141.00</td>\n      <td>326.00</td>\n    </tr>\n    <tr>\n      <th>bore</th>\n      <td>201.0</td>\n      <td>3.329701</td>\n      <td>0.268166</td>\n      <td>2.54</td>\n      <td>3.15</td>\n      <td>3.31</td>\n      <td>3.58</td>\n      <td>3.94</td>\n    </tr>\n    <tr>\n      <th>stroke</th>\n      <td>201.0</td>\n      <td>3.261741</td>\n      <td>0.317875</td>\n      <td>2.07</td>\n      <td>3.11</td>\n      <td>3.29</td>\n      <td>3.46</td>\n      <td>4.17</td>\n    </tr>\n    <tr>\n      <th>compression_ratio</th>\n      <td>201.0</td>\n      <td>10.164279</td>\n      <td>4.004965</td>\n      <td>7.00</td>\n      <td>8.60</td>\n      <td>9.00</td>\n      <td>9.40</td>\n      <td>23.00</td>\n    </tr>\n    <tr>\n      <th>horsepower</th>\n      <td>201.0</td>\n      <td>103.263682</td>\n      <td>37.389372</td>\n      <td>48.00</td>\n      <td>70.00</td>\n      <td>95.00</td>\n      <td>116.00</td>\n      <td>262.00</td>\n    </tr>\n    <tr>\n      <th>peak_rpm</th>\n      <td>201.0</td>\n      <td>5121.393035</td>\n      <td>479.624905</td>\n      <td>4150.00</td>\n      <td>4800.00</td>\n      <td>5200.00</td>\n      <td>5500.00</td>\n      <td>6600.00</td>\n    </tr>\n    <tr>\n      <th>city_mpg</th>\n      <td>201.0</td>\n      <td>25.179104</td>\n      <td>6.423220</td>\n      <td>13.00</td>\n      <td>19.00</td>\n      <td>24.00</td>\n      <td>30.00</td>\n      <td>49.00</td>\n    </tr>\n    <tr>\n      <th>highway_mpg</th>\n      <td>201.0</td>\n      <td>30.686567</td>\n      <td>6.815150</td>\n      <td>16.00</td>\n      <td>25.00</td>\n      <td>30.00</td>\n      <td>34.00</td>\n      <td>54.00</td>\n    </tr>\n    <tr>\n      <th>price</th>\n      <td>201.0</td>\n      <td>13207.129353</td>\n      <td>7947.066342</td>\n      <td>5118.00</td>\n      <td>7775.00</td>\n      <td>10295.00</td>\n      <td>16500.00</td>\n      <td>45400.00</td>\n    </tr>\n  </tbody>\n</table>\n</div>"
          },
          "metadata": {},
          "execution_count": 30
        }
      ]
    },
    {
      "cell_type": "markdown",
      "metadata": {
        "id": "oXJQEp3M26GK"
      },
      "source": [
        "#### Conditional Query and display selectd columns "
      ]
    },
    {
      "cell_type": "code",
      "metadata": {
        "colab": {
          "base_uri": "https://localhost:8080/",
          "height": 824
        },
        "id": "HCk7IKy6tp04",
        "outputId": "863f6bb3-da1f-401e-ca31-a097ee7fd694"
      },
      "source": [
        "data[data['price']>20000][['make','price']]"
      ],
      "execution_count": 31,
      "outputs": [
        {
          "output_type": "execute_result",
          "data": {
            "text/plain": [
              "              make  price\n",
              "8             audi  23875\n",
              "11             bmw  20970\n",
              "12             bmw  21105\n",
              "13             bmw  24565\n",
              "14             bmw  30760\n",
              "15             bmw  41315\n",
              "16             bmw  36880\n",
              "44          jaguar  32250\n",
              "45          jaguar  35550\n",
              "46          jaguar  36000\n",
              "64   mercedes-benz  25552\n",
              "65   mercedes-benz  28248\n",
              "66   mercedes-benz  28176\n",
              "67   mercedes-benz  31600\n",
              "68   mercedes-benz  34184\n",
              "69   mercedes-benz  35056\n",
              "70   mercedes-benz  40960\n",
              "71   mercedes-benz  45400\n",
              "122        porsche  22018\n",
              "123        porsche  32528\n",
              "124        porsche  34028\n",
              "125        porsche  37028\n",
              "198          volvo  21485\n",
              "199          volvo  22470\n",
              "200          volvo  22625"
            ],
            "text/html": "<div>\n<style scoped>\n    .dataframe tbody tr th:only-of-type {\n        vertical-align: middle;\n    }\n\n    .dataframe tbody tr th {\n        vertical-align: top;\n    }\n\n    .dataframe thead th {\n        text-align: right;\n    }\n</style>\n<table border=\"1\" class=\"dataframe\">\n  <thead>\n    <tr style=\"text-align: right;\">\n      <th></th>\n      <th>make</th>\n      <th>price</th>\n    </tr>\n  </thead>\n  <tbody>\n    <tr>\n      <th>8</th>\n      <td>audi</td>\n      <td>23875</td>\n    </tr>\n    <tr>\n      <th>11</th>\n      <td>bmw</td>\n      <td>20970</td>\n    </tr>\n    <tr>\n      <th>12</th>\n      <td>bmw</td>\n      <td>21105</td>\n    </tr>\n    <tr>\n      <th>13</th>\n      <td>bmw</td>\n      <td>24565</td>\n    </tr>\n    <tr>\n      <th>14</th>\n      <td>bmw</td>\n      <td>30760</td>\n    </tr>\n    <tr>\n      <th>15</th>\n      <td>bmw</td>\n      <td>41315</td>\n    </tr>\n    <tr>\n      <th>16</th>\n      <td>bmw</td>\n      <td>36880</td>\n    </tr>\n    <tr>\n      <th>44</th>\n      <td>jaguar</td>\n      <td>32250</td>\n    </tr>\n    <tr>\n      <th>45</th>\n      <td>jaguar</td>\n      <td>35550</td>\n    </tr>\n    <tr>\n      <th>46</th>\n      <td>jaguar</td>\n      <td>36000</td>\n    </tr>\n    <tr>\n      <th>64</th>\n      <td>mercedes-benz</td>\n      <td>25552</td>\n    </tr>\n    <tr>\n      <th>65</th>\n      <td>mercedes-benz</td>\n      <td>28248</td>\n    </tr>\n    <tr>\n      <th>66</th>\n      <td>mercedes-benz</td>\n      <td>28176</td>\n    </tr>\n    <tr>\n      <th>67</th>\n      <td>mercedes-benz</td>\n      <td>31600</td>\n    </tr>\n    <tr>\n      <th>68</th>\n      <td>mercedes-benz</td>\n      <td>34184</td>\n    </tr>\n    <tr>\n      <th>69</th>\n      <td>mercedes-benz</td>\n      <td>35056</td>\n    </tr>\n    <tr>\n      <th>70</th>\n      <td>mercedes-benz</td>\n      <td>40960</td>\n    </tr>\n    <tr>\n      <th>71</th>\n      <td>mercedes-benz</td>\n      <td>45400</td>\n    </tr>\n    <tr>\n      <th>122</th>\n      <td>porsche</td>\n      <td>22018</td>\n    </tr>\n    <tr>\n      <th>123</th>\n      <td>porsche</td>\n      <td>32528</td>\n    </tr>\n    <tr>\n      <th>124</th>\n      <td>porsche</td>\n      <td>34028</td>\n    </tr>\n    <tr>\n      <th>125</th>\n      <td>porsche</td>\n      <td>37028</td>\n    </tr>\n    <tr>\n      <th>198</th>\n      <td>volvo</td>\n      <td>21485</td>\n    </tr>\n    <tr>\n      <th>199</th>\n      <td>volvo</td>\n      <td>22470</td>\n    </tr>\n    <tr>\n      <th>200</th>\n      <td>volvo</td>\n      <td>22625</td>\n    </tr>\n  </tbody>\n</table>\n</div>"
          },
          "metadata": {},
          "execution_count": 31
        }
      ]
    },
    {
      "cell_type": "markdown",
      "metadata": {
        "id": "DzDm3msp3GvH"
      },
      "source": [
        "#### Multiple coditions for filtering"
      ]
    },
    {
      "cell_type": "code",
      "metadata": {
        "colab": {
          "base_uri": "https://localhost:8080/",
          "height": 410
        },
        "id": "fBxZ0raduV8E",
        "outputId": "3381ab0a-b1cd-4fb0-a5f1-6ee86eef5473"
      },
      "source": [
        "data[(data['make']=='volvo')&(data['price']<50000)]"
      ],
      "execution_count": 32,
      "outputs": [
        {
          "output_type": "execute_result",
          "data": {
            "text/plain": [
              "     symboling  normalized_losses   make fuel_type aspiration number_of_doors  \\\n",
              "190         -2                103  volvo       gas        std            four   \n",
              "191         -1                 74  volvo       gas        std            four   \n",
              "192         -2                103  volvo       gas        std            four   \n",
              "193         -1                 74  volvo       gas        std            four   \n",
              "194         -2                103  volvo       gas      turbo            four   \n",
              "195         -1                 74  volvo       gas      turbo            four   \n",
              "196         -1                 95  volvo       gas        std            four   \n",
              "197         -1                 95  volvo       gas      turbo            four   \n",
              "198         -1                 95  volvo       gas        std            four   \n",
              "199         -1                 95  volvo    diesel      turbo            four   \n",
              "200         -1                 95  volvo       gas      turbo            four   \n",
              "\n",
              "    body_style drive_wheels engine_location  wheel_base  ...  engine_size  \\\n",
              "190      sedan          rwd           front       104.3  ...          141   \n",
              "191      wagon          rwd           front       104.3  ...          141   \n",
              "192      sedan          rwd           front       104.3  ...          141   \n",
              "193      wagon          rwd           front       104.3  ...          141   \n",
              "194      sedan          rwd           front       104.3  ...          130   \n",
              "195      wagon          rwd           front       104.3  ...          130   \n",
              "196      sedan          rwd           front       109.1  ...          141   \n",
              "197      sedan          rwd           front       109.1  ...          141   \n",
              "198      sedan          rwd           front       109.1  ...          173   \n",
              "199      sedan          rwd           front       109.1  ...          145   \n",
              "200      sedan          rwd           front       109.1  ...          141   \n",
              "\n",
              "     fuel_system  bore  stroke compression_ratio horsepower  peak_rpm  \\\n",
              "190         mpfi  3.78    3.15               9.5        114      5400   \n",
              "191         mpfi  3.78    3.15               9.5        114      5400   \n",
              "192         mpfi  3.78    3.15               9.5        114      5400   \n",
              "193         mpfi  3.78    3.15               9.5        114      5400   \n",
              "194         mpfi  3.62    3.15               7.5        162      5100   \n",
              "195         mpfi  3.62    3.15               7.5        162      5100   \n",
              "196         mpfi  3.78    3.15               9.5        114      5400   \n",
              "197         mpfi  3.78    3.15               8.7        160      5300   \n",
              "198         mpfi  3.58    2.87               8.8        134      5500   \n",
              "199          idi  3.01    3.40              23.0        106      4800   \n",
              "200         mpfi  3.78    3.15               9.5        114      5400   \n",
              "\n",
              "    city_mpg  highway_mpg  price  \n",
              "190       23           28  12940  \n",
              "191       23           28  13415  \n",
              "192       24           28  15985  \n",
              "193       24           28  16515  \n",
              "194       17           22  18420  \n",
              "195       17           22  18950  \n",
              "196       23           28  16845  \n",
              "197       19           25  19045  \n",
              "198       18           23  21485  \n",
              "199       26           27  22470  \n",
              "200       19           25  22625  \n",
              "\n",
              "[11 rows x 26 columns]"
            ],
            "text/html": "<div>\n<style scoped>\n    .dataframe tbody tr th:only-of-type {\n        vertical-align: middle;\n    }\n\n    .dataframe tbody tr th {\n        vertical-align: top;\n    }\n\n    .dataframe thead th {\n        text-align: right;\n    }\n</style>\n<table border=\"1\" class=\"dataframe\">\n  <thead>\n    <tr style=\"text-align: right;\">\n      <th></th>\n      <th>symboling</th>\n      <th>normalized_losses</th>\n      <th>make</th>\n      <th>fuel_type</th>\n      <th>aspiration</th>\n      <th>number_of_doors</th>\n      <th>body_style</th>\n      <th>drive_wheels</th>\n      <th>engine_location</th>\n      <th>wheel_base</th>\n      <th>...</th>\n      <th>engine_size</th>\n      <th>fuel_system</th>\n      <th>bore</th>\n      <th>stroke</th>\n      <th>compression_ratio</th>\n      <th>horsepower</th>\n      <th>peak_rpm</th>\n      <th>city_mpg</th>\n      <th>highway_mpg</th>\n      <th>price</th>\n    </tr>\n  </thead>\n  <tbody>\n    <tr>\n      <th>190</th>\n      <td>-2</td>\n      <td>103</td>\n      <td>volvo</td>\n      <td>gas</td>\n      <td>std</td>\n      <td>four</td>\n      <td>sedan</td>\n      <td>rwd</td>\n      <td>front</td>\n      <td>104.3</td>\n      <td>...</td>\n      <td>141</td>\n      <td>mpfi</td>\n      <td>3.78</td>\n      <td>3.15</td>\n      <td>9.5</td>\n      <td>114</td>\n      <td>5400</td>\n      <td>23</td>\n      <td>28</td>\n      <td>12940</td>\n    </tr>\n    <tr>\n      <th>191</th>\n      <td>-1</td>\n      <td>74</td>\n      <td>volvo</td>\n      <td>gas</td>\n      <td>std</td>\n      <td>four</td>\n      <td>wagon</td>\n      <td>rwd</td>\n      <td>front</td>\n      <td>104.3</td>\n      <td>...</td>\n      <td>141</td>\n      <td>mpfi</td>\n      <td>3.78</td>\n      <td>3.15</td>\n      <td>9.5</td>\n      <td>114</td>\n      <td>5400</td>\n      <td>23</td>\n      <td>28</td>\n      <td>13415</td>\n    </tr>\n    <tr>\n      <th>192</th>\n      <td>-2</td>\n      <td>103</td>\n      <td>volvo</td>\n      <td>gas</td>\n      <td>std</td>\n      <td>four</td>\n      <td>sedan</td>\n      <td>rwd</td>\n      <td>front</td>\n      <td>104.3</td>\n      <td>...</td>\n      <td>141</td>\n      <td>mpfi</td>\n      <td>3.78</td>\n      <td>3.15</td>\n      <td>9.5</td>\n      <td>114</td>\n      <td>5400</td>\n      <td>24</td>\n      <td>28</td>\n      <td>15985</td>\n    </tr>\n    <tr>\n      <th>193</th>\n      <td>-1</td>\n      <td>74</td>\n      <td>volvo</td>\n      <td>gas</td>\n      <td>std</td>\n      <td>four</td>\n      <td>wagon</td>\n      <td>rwd</td>\n      <td>front</td>\n      <td>104.3</td>\n      <td>...</td>\n      <td>141</td>\n      <td>mpfi</td>\n      <td>3.78</td>\n      <td>3.15</td>\n      <td>9.5</td>\n      <td>114</td>\n      <td>5400</td>\n      <td>24</td>\n      <td>28</td>\n      <td>16515</td>\n    </tr>\n    <tr>\n      <th>194</th>\n      <td>-2</td>\n      <td>103</td>\n      <td>volvo</td>\n      <td>gas</td>\n      <td>turbo</td>\n      <td>four</td>\n      <td>sedan</td>\n      <td>rwd</td>\n      <td>front</td>\n      <td>104.3</td>\n      <td>...</td>\n      <td>130</td>\n      <td>mpfi</td>\n      <td>3.62</td>\n      <td>3.15</td>\n      <td>7.5</td>\n      <td>162</td>\n      <td>5100</td>\n      <td>17</td>\n      <td>22</td>\n      <td>18420</td>\n    </tr>\n    <tr>\n      <th>195</th>\n      <td>-1</td>\n      <td>74</td>\n      <td>volvo</td>\n      <td>gas</td>\n      <td>turbo</td>\n      <td>four</td>\n      <td>wagon</td>\n      <td>rwd</td>\n      <td>front</td>\n      <td>104.3</td>\n      <td>...</td>\n      <td>130</td>\n      <td>mpfi</td>\n      <td>3.62</td>\n      <td>3.15</td>\n      <td>7.5</td>\n      <td>162</td>\n      <td>5100</td>\n      <td>17</td>\n      <td>22</td>\n      <td>18950</td>\n    </tr>\n    <tr>\n      <th>196</th>\n      <td>-1</td>\n      <td>95</td>\n      <td>volvo</td>\n      <td>gas</td>\n      <td>std</td>\n      <td>four</td>\n      <td>sedan</td>\n      <td>rwd</td>\n      <td>front</td>\n      <td>109.1</td>\n      <td>...</td>\n      <td>141</td>\n      <td>mpfi</td>\n      <td>3.78</td>\n      <td>3.15</td>\n      <td>9.5</td>\n      <td>114</td>\n      <td>5400</td>\n      <td>23</td>\n      <td>28</td>\n      <td>16845</td>\n    </tr>\n    <tr>\n      <th>197</th>\n      <td>-1</td>\n      <td>95</td>\n      <td>volvo</td>\n      <td>gas</td>\n      <td>turbo</td>\n      <td>four</td>\n      <td>sedan</td>\n      <td>rwd</td>\n      <td>front</td>\n      <td>109.1</td>\n      <td>...</td>\n      <td>141</td>\n      <td>mpfi</td>\n      <td>3.78</td>\n      <td>3.15</td>\n      <td>8.7</td>\n      <td>160</td>\n      <td>5300</td>\n      <td>19</td>\n      <td>25</td>\n      <td>19045</td>\n    </tr>\n    <tr>\n      <th>198</th>\n      <td>-1</td>\n      <td>95</td>\n      <td>volvo</td>\n      <td>gas</td>\n      <td>std</td>\n      <td>four</td>\n      <td>sedan</td>\n      <td>rwd</td>\n      <td>front</td>\n      <td>109.1</td>\n      <td>...</td>\n      <td>173</td>\n      <td>mpfi</td>\n      <td>3.58</td>\n      <td>2.87</td>\n      <td>8.8</td>\n      <td>134</td>\n      <td>5500</td>\n      <td>18</td>\n      <td>23</td>\n      <td>21485</td>\n    </tr>\n    <tr>\n      <th>199</th>\n      <td>-1</td>\n      <td>95</td>\n      <td>volvo</td>\n      <td>diesel</td>\n      <td>turbo</td>\n      <td>four</td>\n      <td>sedan</td>\n      <td>rwd</td>\n      <td>front</td>\n      <td>109.1</td>\n      <td>...</td>\n      <td>145</td>\n      <td>idi</td>\n      <td>3.01</td>\n      <td>3.40</td>\n      <td>23.0</td>\n      <td>106</td>\n      <td>4800</td>\n      <td>26</td>\n      <td>27</td>\n      <td>22470</td>\n    </tr>\n    <tr>\n      <th>200</th>\n      <td>-1</td>\n      <td>95</td>\n      <td>volvo</td>\n      <td>gas</td>\n      <td>turbo</td>\n      <td>four</td>\n      <td>sedan</td>\n      <td>rwd</td>\n      <td>front</td>\n      <td>109.1</td>\n      <td>...</td>\n      <td>141</td>\n      <td>mpfi</td>\n      <td>3.78</td>\n      <td>3.15</td>\n      <td>9.5</td>\n      <td>114</td>\n      <td>5400</td>\n      <td>19</td>\n      <td>25</td>\n      <td>22625</td>\n    </tr>\n  </tbody>\n</table>\n<p>11 rows × 26 columns</p>\n</div>"
          },
          "metadata": {},
          "execution_count": 32
        }
      ]
    },
    {
      "cell_type": "code",
      "metadata": {
        "colab": {
          "base_uri": "https://localhost:8080/",
          "height": 390
        },
        "id": "ez-PPn3-vHI7",
        "outputId": "11d44bd5-d937-4aec-c96b-cbd0c6195c61"
      },
      "source": [
        "data[(data['make']=='volvo')&(data['price']<50000)][['make','price']]"
      ],
      "execution_count": 33,
      "outputs": [
        {
          "output_type": "execute_result",
          "data": {
            "text/plain": [
              "      make  price\n",
              "190  volvo  12940\n",
              "191  volvo  13415\n",
              "192  volvo  15985\n",
              "193  volvo  16515\n",
              "194  volvo  18420\n",
              "195  volvo  18950\n",
              "196  volvo  16845\n",
              "197  volvo  19045\n",
              "198  volvo  21485\n",
              "199  volvo  22470\n",
              "200  volvo  22625"
            ],
            "text/html": "<div>\n<style scoped>\n    .dataframe tbody tr th:only-of-type {\n        vertical-align: middle;\n    }\n\n    .dataframe tbody tr th {\n        vertical-align: top;\n    }\n\n    .dataframe thead th {\n        text-align: right;\n    }\n</style>\n<table border=\"1\" class=\"dataframe\">\n  <thead>\n    <tr style=\"text-align: right;\">\n      <th></th>\n      <th>make</th>\n      <th>price</th>\n    </tr>\n  </thead>\n  <tbody>\n    <tr>\n      <th>190</th>\n      <td>volvo</td>\n      <td>12940</td>\n    </tr>\n    <tr>\n      <th>191</th>\n      <td>volvo</td>\n      <td>13415</td>\n    </tr>\n    <tr>\n      <th>192</th>\n      <td>volvo</td>\n      <td>15985</td>\n    </tr>\n    <tr>\n      <th>193</th>\n      <td>volvo</td>\n      <td>16515</td>\n    </tr>\n    <tr>\n      <th>194</th>\n      <td>volvo</td>\n      <td>18420</td>\n    </tr>\n    <tr>\n      <th>195</th>\n      <td>volvo</td>\n      <td>18950</td>\n    </tr>\n    <tr>\n      <th>196</th>\n      <td>volvo</td>\n      <td>16845</td>\n    </tr>\n    <tr>\n      <th>197</th>\n      <td>volvo</td>\n      <td>19045</td>\n    </tr>\n    <tr>\n      <th>198</th>\n      <td>volvo</td>\n      <td>21485</td>\n    </tr>\n    <tr>\n      <th>199</th>\n      <td>volvo</td>\n      <td>22470</td>\n    </tr>\n    <tr>\n      <th>200</th>\n      <td>volvo</td>\n      <td>22625</td>\n    </tr>\n  </tbody>\n</table>\n</div>"
          },
          "metadata": {},
          "execution_count": 33
        }
      ]
    },
    {
      "cell_type": "markdown",
      "metadata": {
        "id": "ZGNFDHxK3PMj"
      },
      "source": [
        "#### Dealing with null values in data"
      ]
    },
    {
      "cell_type": "code",
      "metadata": {
        "colab": {
          "base_uri": "https://localhost:8080/",
          "height": 173
        },
        "id": "EetVnchtvorq",
        "outputId": "a435b345-520e-4fff-d755-fb1b02bebc8e"
      },
      "source": [
        "df = pd.DataFrame({'value1':[100,np.nan,234,np.nan],\n",
        "                   'value2':[300,121,np.nan,np.nan],\n",
        "                   'value3':['XUI','VYU','NMA','IUY']})\n",
        "df.head()"
      ],
      "execution_count": 34,
      "outputs": [
        {
          "output_type": "execute_result",
          "data": {
            "text/plain": [
              "   value1  value2 value3\n",
              "0   100.0   300.0    XUI\n",
              "1     NaN   121.0    VYU\n",
              "2   234.0     NaN    NMA\n",
              "3     NaN     NaN    IUY"
            ],
            "text/html": "<div>\n<style scoped>\n    .dataframe tbody tr th:only-of-type {\n        vertical-align: middle;\n    }\n\n    .dataframe tbody tr th {\n        vertical-align: top;\n    }\n\n    .dataframe thead th {\n        text-align: right;\n    }\n</style>\n<table border=\"1\" class=\"dataframe\">\n  <thead>\n    <tr style=\"text-align: right;\">\n      <th></th>\n      <th>value1</th>\n      <th>value2</th>\n      <th>value3</th>\n    </tr>\n  </thead>\n  <tbody>\n    <tr>\n      <th>0</th>\n      <td>100.0</td>\n      <td>300.0</td>\n      <td>XUI</td>\n    </tr>\n    <tr>\n      <th>1</th>\n      <td>NaN</td>\n      <td>121.0</td>\n      <td>VYU</td>\n    </tr>\n    <tr>\n      <th>2</th>\n      <td>234.0</td>\n      <td>NaN</td>\n      <td>NMA</td>\n    </tr>\n    <tr>\n      <th>3</th>\n      <td>NaN</td>\n      <td>NaN</td>\n      <td>IUY</td>\n    </tr>\n  </tbody>\n</table>\n</div>"
          },
          "metadata": {},
          "execution_count": 34
        }
      ]
    },
    {
      "cell_type": "code",
      "metadata": {
        "colab": {
          "base_uri": "https://localhost:8080/",
          "height": 173
        },
        "id": "zB2bnNVz1DuC",
        "outputId": "b6b89cff-e660-4e4e-9b01-4265fdd482a5"
      },
      "source": [
        "df.isnull()"
      ],
      "execution_count": 35,
      "outputs": [
        {
          "output_type": "execute_result",
          "data": {
            "text/plain": [
              "   value1  value2  value3\n",
              "0   False   False   False\n",
              "1    True   False   False\n",
              "2   False    True   False\n",
              "3    True    True   False"
            ],
            "text/html": "<div>\n<style scoped>\n    .dataframe tbody tr th:only-of-type {\n        vertical-align: middle;\n    }\n\n    .dataframe tbody tr th {\n        vertical-align: top;\n    }\n\n    .dataframe thead th {\n        text-align: right;\n    }\n</style>\n<table border=\"1\" class=\"dataframe\">\n  <thead>\n    <tr style=\"text-align: right;\">\n      <th></th>\n      <th>value1</th>\n      <th>value2</th>\n      <th>value3</th>\n    </tr>\n  </thead>\n  <tbody>\n    <tr>\n      <th>0</th>\n      <td>False</td>\n      <td>False</td>\n      <td>False</td>\n    </tr>\n    <tr>\n      <th>1</th>\n      <td>True</td>\n      <td>False</td>\n      <td>False</td>\n    </tr>\n    <tr>\n      <th>2</th>\n      <td>False</td>\n      <td>True</td>\n      <td>False</td>\n    </tr>\n    <tr>\n      <th>3</th>\n      <td>True</td>\n      <td>True</td>\n      <td>False</td>\n    </tr>\n  </tbody>\n</table>\n</div>"
          },
          "metadata": {},
          "execution_count": 35
        }
      ]
    },
    {
      "cell_type": "code",
      "metadata": {
        "colab": {
          "base_uri": "https://localhost:8080/",
          "height": 173
        },
        "id": "Qnp8-SM-1Jia",
        "outputId": "5564406f-59f9-400b-8969-aaf4f8033c9d"
      },
      "source": [
        "df.isna()"
      ],
      "execution_count": 36,
      "outputs": [
        {
          "output_type": "execute_result",
          "data": {
            "text/plain": [
              "   value1  value2  value3\n",
              "0   False   False   False\n",
              "1    True   False   False\n",
              "2   False    True   False\n",
              "3    True    True   False"
            ],
            "text/html": "<div>\n<style scoped>\n    .dataframe tbody tr th:only-of-type {\n        vertical-align: middle;\n    }\n\n    .dataframe tbody tr th {\n        vertical-align: top;\n    }\n\n    .dataframe thead th {\n        text-align: right;\n    }\n</style>\n<table border=\"1\" class=\"dataframe\">\n  <thead>\n    <tr style=\"text-align: right;\">\n      <th></th>\n      <th>value1</th>\n      <th>value2</th>\n      <th>value3</th>\n    </tr>\n  </thead>\n  <tbody>\n    <tr>\n      <th>0</th>\n      <td>False</td>\n      <td>False</td>\n      <td>False</td>\n    </tr>\n    <tr>\n      <th>1</th>\n      <td>True</td>\n      <td>False</td>\n      <td>False</td>\n    </tr>\n    <tr>\n      <th>2</th>\n      <td>False</td>\n      <td>True</td>\n      <td>False</td>\n    </tr>\n    <tr>\n      <th>3</th>\n      <td>True</td>\n      <td>True</td>\n      <td>False</td>\n    </tr>\n  </tbody>\n</table>\n</div>"
          },
          "metadata": {},
          "execution_count": 36
        }
      ]
    },
    {
      "cell_type": "code",
      "metadata": {
        "colab": {
          "base_uri": "https://localhost:8080/"
        },
        "id": "Q4PahOyV1NcF",
        "outputId": "8370ac58-7334-472e-9a56-fa15278e499f"
      },
      "source": [
        "df.isna().sum()"
      ],
      "execution_count": 37,
      "outputs": [
        {
          "output_type": "execute_result",
          "data": {
            "text/plain": [
              "value1    2\n",
              "value2    2\n",
              "value3    0\n",
              "dtype: int64"
            ]
          },
          "metadata": {},
          "execution_count": 37
        }
      ]
    },
    {
      "cell_type": "markdown",
      "metadata": {
        "id": "oKpGjP483WUn"
      },
      "source": [
        "#### Filling null values with mean"
      ]
    },
    {
      "cell_type": "code",
      "metadata": {
        "colab": {
          "base_uri": "https://localhost:8080/",
          "height": 173
        },
        "id": "uiu8zawU1TQv",
        "outputId": "64949893-0f8f-4cf1-9836-25193940a111"
      },
      "source": [
        "df.fillna(df.mean(),inplace=True)\n",
        "df"
      ],
      "execution_count": 38,
      "outputs": [
        {
          "output_type": "execute_result",
          "data": {
            "text/plain": [
              "   value1  value2 value3\n",
              "0   100.0   300.0    XUI\n",
              "1   167.0   121.0    VYU\n",
              "2   234.0   210.5    NMA\n",
              "3   167.0   210.5    IUY"
            ],
            "text/html": "<div>\n<style scoped>\n    .dataframe tbody tr th:only-of-type {\n        vertical-align: middle;\n    }\n\n    .dataframe tbody tr th {\n        vertical-align: top;\n    }\n\n    .dataframe thead th {\n        text-align: right;\n    }\n</style>\n<table border=\"1\" class=\"dataframe\">\n  <thead>\n    <tr style=\"text-align: right;\">\n      <th></th>\n      <th>value1</th>\n      <th>value2</th>\n      <th>value3</th>\n    </tr>\n  </thead>\n  <tbody>\n    <tr>\n      <th>0</th>\n      <td>100.0</td>\n      <td>300.0</td>\n      <td>XUI</td>\n    </tr>\n    <tr>\n      <th>1</th>\n      <td>167.0</td>\n      <td>121.0</td>\n      <td>VYU</td>\n    </tr>\n    <tr>\n      <th>2</th>\n      <td>234.0</td>\n      <td>210.5</td>\n      <td>NMA</td>\n    </tr>\n    <tr>\n      <th>3</th>\n      <td>167.0</td>\n      <td>210.5</td>\n      <td>IUY</td>\n    </tr>\n  </tbody>\n</table>\n</div>"
          },
          "metadata": {},
          "execution_count": 38
        }
      ]
    },
    {
      "cell_type": "markdown",
      "metadata": {
        "id": "hMUrx9ix4wuc"
      },
      "source": [
        "#### Sorting"
      ]
    },
    {
      "cell_type": "code",
      "metadata": {
        "colab": {
          "base_uri": "https://localhost:8080/",
          "height": 173
        },
        "id": "V9tf1XxC1gOR",
        "outputId": "342736b0-5161-4343-e100-3b40912214c1"
      },
      "source": [
        "df.sort_values(by='value2',ascending=True)"
      ],
      "execution_count": 39,
      "outputs": [
        {
          "output_type": "execute_result",
          "data": {
            "text/plain": [
              "   value1  value2 value3\n",
              "1   167.0   121.0    VYU\n",
              "2   234.0   210.5    NMA\n",
              "3   167.0   210.5    IUY\n",
              "0   100.0   300.0    XUI"
            ],
            "text/html": "<div>\n<style scoped>\n    .dataframe tbody tr th:only-of-type {\n        vertical-align: middle;\n    }\n\n    .dataframe tbody tr th {\n        vertical-align: top;\n    }\n\n    .dataframe thead th {\n        text-align: right;\n    }\n</style>\n<table border=\"1\" class=\"dataframe\">\n  <thead>\n    <tr style=\"text-align: right;\">\n      <th></th>\n      <th>value1</th>\n      <th>value2</th>\n      <th>value3</th>\n    </tr>\n  </thead>\n  <tbody>\n    <tr>\n      <th>1</th>\n      <td>167.0</td>\n      <td>121.0</td>\n      <td>VYU</td>\n    </tr>\n    <tr>\n      <th>2</th>\n      <td>234.0</td>\n      <td>210.5</td>\n      <td>NMA</td>\n    </tr>\n    <tr>\n      <th>3</th>\n      <td>167.0</td>\n      <td>210.5</td>\n      <td>IUY</td>\n    </tr>\n    <tr>\n      <th>0</th>\n      <td>100.0</td>\n      <td>300.0</td>\n      <td>XUI</td>\n    </tr>\n  </tbody>\n</table>\n</div>"
          },
          "metadata": {},
          "execution_count": 39
        }
      ]
    },
    {
      "cell_type": "code",
      "metadata": {
        "colab": {
          "base_uri": "https://localhost:8080/",
          "height": 258
        },
        "id": "tgxguqF14EXL",
        "outputId": "90fa60d8-9254-433d-bbfd-492dda8f9cbc"
      },
      "source": [
        "data.sort_values(by='price',ascending=False).head()"
      ],
      "execution_count": 40,
      "outputs": [
        {
          "output_type": "execute_result",
          "data": {
            "text/plain": [
              "     symboling  normalized_losses           make fuel_type aspiration  \\\n",
              "71           1                140  mercedes-benz       gas        std   \n",
              "15           0                149            bmw       gas        std   \n",
              "70           0                140  mercedes-benz       gas        std   \n",
              "125          3                128        porsche       gas        std   \n",
              "16           0                149            bmw       gas        std   \n",
              "\n",
              "    number_of_doors   body_style drive_wheels engine_location  wheel_base  \\\n",
              "71              two      hardtop          rwd           front       112.0   \n",
              "15              two        sedan          rwd           front       103.5   \n",
              "70             four        sedan          rwd           front       120.9   \n",
              "125             two  convertible          rwd            rear        89.5   \n",
              "16             four        sedan          rwd           front       110.0   \n",
              "\n",
              "     ...  engine_size  fuel_system  bore  stroke compression_ratio horsepower  \\\n",
              "71   ...          304         mpfi  3.80    3.35               8.0        184   \n",
              "15   ...          209         mpfi  3.62    3.39               8.0        182   \n",
              "70   ...          308         mpfi  3.80    3.35               8.0        184   \n",
              "125  ...          194         mpfi  3.74    2.90               9.5        207   \n",
              "16   ...          209         mpfi  3.62    3.39               8.0        182   \n",
              "\n",
              "     peak_rpm city_mpg  highway_mpg  price  \n",
              "71       4500       14           16  45400  \n",
              "15       5400       16           22  41315  \n",
              "70       4500       14           16  40960  \n",
              "125      5900       17           25  37028  \n",
              "16       5400       15           20  36880  \n",
              "\n",
              "[5 rows x 26 columns]"
            ],
            "text/html": "<div>\n<style scoped>\n    .dataframe tbody tr th:only-of-type {\n        vertical-align: middle;\n    }\n\n    .dataframe tbody tr th {\n        vertical-align: top;\n    }\n\n    .dataframe thead th {\n        text-align: right;\n    }\n</style>\n<table border=\"1\" class=\"dataframe\">\n  <thead>\n    <tr style=\"text-align: right;\">\n      <th></th>\n      <th>symboling</th>\n      <th>normalized_losses</th>\n      <th>make</th>\n      <th>fuel_type</th>\n      <th>aspiration</th>\n      <th>number_of_doors</th>\n      <th>body_style</th>\n      <th>drive_wheels</th>\n      <th>engine_location</th>\n      <th>wheel_base</th>\n      <th>...</th>\n      <th>engine_size</th>\n      <th>fuel_system</th>\n      <th>bore</th>\n      <th>stroke</th>\n      <th>compression_ratio</th>\n      <th>horsepower</th>\n      <th>peak_rpm</th>\n      <th>city_mpg</th>\n      <th>highway_mpg</th>\n      <th>price</th>\n    </tr>\n  </thead>\n  <tbody>\n    <tr>\n      <th>71</th>\n      <td>1</td>\n      <td>140</td>\n      <td>mercedes-benz</td>\n      <td>gas</td>\n      <td>std</td>\n      <td>two</td>\n      <td>hardtop</td>\n      <td>rwd</td>\n      <td>front</td>\n      <td>112.0</td>\n      <td>...</td>\n      <td>304</td>\n      <td>mpfi</td>\n      <td>3.80</td>\n      <td>3.35</td>\n      <td>8.0</td>\n      <td>184</td>\n      <td>4500</td>\n      <td>14</td>\n      <td>16</td>\n      <td>45400</td>\n    </tr>\n    <tr>\n      <th>15</th>\n      <td>0</td>\n      <td>149</td>\n      <td>bmw</td>\n      <td>gas</td>\n      <td>std</td>\n      <td>two</td>\n      <td>sedan</td>\n      <td>rwd</td>\n      <td>front</td>\n      <td>103.5</td>\n      <td>...</td>\n      <td>209</td>\n      <td>mpfi</td>\n      <td>3.62</td>\n      <td>3.39</td>\n      <td>8.0</td>\n      <td>182</td>\n      <td>5400</td>\n      <td>16</td>\n      <td>22</td>\n      <td>41315</td>\n    </tr>\n    <tr>\n      <th>70</th>\n      <td>0</td>\n      <td>140</td>\n      <td>mercedes-benz</td>\n      <td>gas</td>\n      <td>std</td>\n      <td>four</td>\n      <td>sedan</td>\n      <td>rwd</td>\n      <td>front</td>\n      <td>120.9</td>\n      <td>...</td>\n      <td>308</td>\n      <td>mpfi</td>\n      <td>3.80</td>\n      <td>3.35</td>\n      <td>8.0</td>\n      <td>184</td>\n      <td>4500</td>\n      <td>14</td>\n      <td>16</td>\n      <td>40960</td>\n    </tr>\n    <tr>\n      <th>125</th>\n      <td>3</td>\n      <td>128</td>\n      <td>porsche</td>\n      <td>gas</td>\n      <td>std</td>\n      <td>two</td>\n      <td>convertible</td>\n      <td>rwd</td>\n      <td>rear</td>\n      <td>89.5</td>\n      <td>...</td>\n      <td>194</td>\n      <td>mpfi</td>\n      <td>3.74</td>\n      <td>2.90</td>\n      <td>9.5</td>\n      <td>207</td>\n      <td>5900</td>\n      <td>17</td>\n      <td>25</td>\n      <td>37028</td>\n    </tr>\n    <tr>\n      <th>16</th>\n      <td>0</td>\n      <td>149</td>\n      <td>bmw</td>\n      <td>gas</td>\n      <td>std</td>\n      <td>four</td>\n      <td>sedan</td>\n      <td>rwd</td>\n      <td>front</td>\n      <td>110.0</td>\n      <td>...</td>\n      <td>209</td>\n      <td>mpfi</td>\n      <td>3.62</td>\n      <td>3.39</td>\n      <td>8.0</td>\n      <td>182</td>\n      <td>5400</td>\n      <td>15</td>\n      <td>20</td>\n      <td>36880</td>\n    </tr>\n  </tbody>\n</table>\n<p>5 rows × 26 columns</p>\n</div>"
          },
          "metadata": {},
          "execution_count": 40
        }
      ]
    },
    {
      "cell_type": "markdown",
      "metadata": {
        "id": "vv-udVbX40Wl"
      },
      "source": [
        "#### Group By and Count"
      ]
    },
    {
      "cell_type": "code",
      "metadata": {
        "colab": {
          "base_uri": "https://localhost:8080/"
        },
        "id": "-w_66-s54TaA",
        "outputId": "5cf6ab72-eaa8-4661-b219-4311cc6da79b"
      },
      "source": [
        "data['make'].value_counts()"
      ],
      "execution_count": 41,
      "outputs": [
        {
          "output_type": "execute_result",
          "data": {
            "text/plain": [
              "toyota           32\n",
              "nissan           18\n",
              "mazda            17\n",
              "mitsubishi       13\n",
              "honda            13\n",
              "subaru           12\n",
              "volkswagen       12\n",
              "peugot           11\n",
              "volvo            11\n",
              "dodge             9\n",
              "bmw               8\n",
              "mercedes-benz     8\n",
              "plymouth          7\n",
              "saab              6\n",
              "audi              6\n",
              "porsche           4\n",
              "chevrolet         3\n",
              "jaguar            3\n",
              "alfa-romero       3\n",
              "renault           2\n",
              "isuzu             2\n",
              "mercury           1\n",
              "Name: make, dtype: int64"
            ]
          },
          "metadata": {},
          "execution_count": 41
        }
      ]
    },
    {
      "cell_type": "markdown",
      "metadata": {
        "id": "CTMTCMcLWJQ7"
      },
      "source": [
        "#### Concatenate dataframes"
      ]
    },
    {
      "cell_type": "code",
      "metadata": {
        "id": "9Gq0jDXy4pVp",
        "colab": {
          "base_uri": "https://localhost:8080/",
          "height": 204
        },
        "outputId": "ff6e67a1-d87a-4178-92f6-18d6612727b5"
      },
      "source": [
        "mm = {'one':[2,3,1,4,5],\n",
        "      'two':[5,4,3,2,1],\n",
        "      'letter':['a','a','b','b','c']}\n",
        "mm1 = pd.DataFrame(mm)\n",
        "mm1"
      ],
      "execution_count": 42,
      "outputs": [
        {
          "output_type": "execute_result",
          "data": {
            "text/plain": [
              "   one  two letter\n",
              "0    2    5      a\n",
              "1    3    4      a\n",
              "2    1    3      b\n",
              "3    4    2      b\n",
              "4    5    1      c"
            ],
            "text/html": "<div>\n<style scoped>\n    .dataframe tbody tr th:only-of-type {\n        vertical-align: middle;\n    }\n\n    .dataframe tbody tr th {\n        vertical-align: top;\n    }\n\n    .dataframe thead th {\n        text-align: right;\n    }\n</style>\n<table border=\"1\" class=\"dataframe\">\n  <thead>\n    <tr style=\"text-align: right;\">\n      <th></th>\n      <th>one</th>\n      <th>two</th>\n      <th>letter</th>\n    </tr>\n  </thead>\n  <tbody>\n    <tr>\n      <th>0</th>\n      <td>2</td>\n      <td>5</td>\n      <td>a</td>\n    </tr>\n    <tr>\n      <th>1</th>\n      <td>3</td>\n      <td>4</td>\n      <td>a</td>\n    </tr>\n    <tr>\n      <th>2</th>\n      <td>1</td>\n      <td>3</td>\n      <td>b</td>\n    </tr>\n    <tr>\n      <th>3</th>\n      <td>4</td>\n      <td>2</td>\n      <td>b</td>\n    </tr>\n    <tr>\n      <th>4</th>\n      <td>5</td>\n      <td>1</td>\n      <td>c</td>\n    </tr>\n  </tbody>\n</table>\n</div>"
          },
          "metadata": {},
          "execution_count": 42
        }
      ]
    },
    {
      "cell_type": "code",
      "metadata": {
        "colab": {
          "base_uri": "https://localhost:8080/",
          "height": 173
        },
        "id": "mhm0GNl-VtRf",
        "outputId": "01a074c2-2b40-413b-ecaf-fc23bf572ac8"
      },
      "source": [
        "df"
      ],
      "execution_count": 43,
      "outputs": [
        {
          "output_type": "execute_result",
          "data": {
            "text/plain": [
              "   value1  value2 value3\n",
              "0   100.0   300.0    XUI\n",
              "1   167.0   121.0    VYU\n",
              "2   234.0   210.5    NMA\n",
              "3   167.0   210.5    IUY"
            ],
            "text/html": "<div>\n<style scoped>\n    .dataframe tbody tr th:only-of-type {\n        vertical-align: middle;\n    }\n\n    .dataframe tbody tr th {\n        vertical-align: top;\n    }\n\n    .dataframe thead th {\n        text-align: right;\n    }\n</style>\n<table border=\"1\" class=\"dataframe\">\n  <thead>\n    <tr style=\"text-align: right;\">\n      <th></th>\n      <th>value1</th>\n      <th>value2</th>\n      <th>value3</th>\n    </tr>\n  </thead>\n  <tbody>\n    <tr>\n      <th>0</th>\n      <td>100.0</td>\n      <td>300.0</td>\n      <td>XUI</td>\n    </tr>\n    <tr>\n      <th>1</th>\n      <td>167.0</td>\n      <td>121.0</td>\n      <td>VYU</td>\n    </tr>\n    <tr>\n      <th>2</th>\n      <td>234.0</td>\n      <td>210.5</td>\n      <td>NMA</td>\n    </tr>\n    <tr>\n      <th>3</th>\n      <td>167.0</td>\n      <td>210.5</td>\n      <td>IUY</td>\n    </tr>\n  </tbody>\n</table>\n</div>"
          },
          "metadata": {},
          "execution_count": 43
        }
      ]
    },
    {
      "cell_type": "code",
      "metadata": {
        "colab": {
          "base_uri": "https://localhost:8080/",
          "height": 328
        },
        "id": "BiffRRAoV00J",
        "outputId": "c30f6a71-afa6-4382-84cd-c90dfea499d7"
      },
      "source": [
        "new_df=pd.concat([df,mm1])\n",
        "new_df"
      ],
      "execution_count": 44,
      "outputs": [
        {
          "output_type": "execute_result",
          "data": {
            "text/plain": [
              "   value1  value2 value3  one  two letter\n",
              "0   100.0   300.0    XUI  NaN  NaN    NaN\n",
              "1   167.0   121.0    VYU  NaN  NaN    NaN\n",
              "2   234.0   210.5    NMA  NaN  NaN    NaN\n",
              "3   167.0   210.5    IUY  NaN  NaN    NaN\n",
              "0     NaN     NaN    NaN  2.0  5.0      a\n",
              "1     NaN     NaN    NaN  3.0  4.0      a\n",
              "2     NaN     NaN    NaN  1.0  3.0      b\n",
              "3     NaN     NaN    NaN  4.0  2.0      b\n",
              "4     NaN     NaN    NaN  5.0  1.0      c"
            ],
            "text/html": "<div>\n<style scoped>\n    .dataframe tbody tr th:only-of-type {\n        vertical-align: middle;\n    }\n\n    .dataframe tbody tr th {\n        vertical-align: top;\n    }\n\n    .dataframe thead th {\n        text-align: right;\n    }\n</style>\n<table border=\"1\" class=\"dataframe\">\n  <thead>\n    <tr style=\"text-align: right;\">\n      <th></th>\n      <th>value1</th>\n      <th>value2</th>\n      <th>value3</th>\n      <th>one</th>\n      <th>two</th>\n      <th>letter</th>\n    </tr>\n  </thead>\n  <tbody>\n    <tr>\n      <th>0</th>\n      <td>100.0</td>\n      <td>300.0</td>\n      <td>XUI</td>\n      <td>NaN</td>\n      <td>NaN</td>\n      <td>NaN</td>\n    </tr>\n    <tr>\n      <th>1</th>\n      <td>167.0</td>\n      <td>121.0</td>\n      <td>VYU</td>\n      <td>NaN</td>\n      <td>NaN</td>\n      <td>NaN</td>\n    </tr>\n    <tr>\n      <th>2</th>\n      <td>234.0</td>\n      <td>210.5</td>\n      <td>NMA</td>\n      <td>NaN</td>\n      <td>NaN</td>\n      <td>NaN</td>\n    </tr>\n    <tr>\n      <th>3</th>\n      <td>167.0</td>\n      <td>210.5</td>\n      <td>IUY</td>\n      <td>NaN</td>\n      <td>NaN</td>\n      <td>NaN</td>\n    </tr>\n    <tr>\n      <th>0</th>\n      <td>NaN</td>\n      <td>NaN</td>\n      <td>NaN</td>\n      <td>2.0</td>\n      <td>5.0</td>\n      <td>a</td>\n    </tr>\n    <tr>\n      <th>1</th>\n      <td>NaN</td>\n      <td>NaN</td>\n      <td>NaN</td>\n      <td>3.0</td>\n      <td>4.0</td>\n      <td>a</td>\n    </tr>\n    <tr>\n      <th>2</th>\n      <td>NaN</td>\n      <td>NaN</td>\n      <td>NaN</td>\n      <td>1.0</td>\n      <td>3.0</td>\n      <td>b</td>\n    </tr>\n    <tr>\n      <th>3</th>\n      <td>NaN</td>\n      <td>NaN</td>\n      <td>NaN</td>\n      <td>4.0</td>\n      <td>2.0</td>\n      <td>b</td>\n    </tr>\n    <tr>\n      <th>4</th>\n      <td>NaN</td>\n      <td>NaN</td>\n      <td>NaN</td>\n      <td>5.0</td>\n      <td>1.0</td>\n      <td>c</td>\n    </tr>\n  </tbody>\n</table>\n</div>"
          },
          "metadata": {},
          "execution_count": 44
        }
      ]
    },
    {
      "cell_type": "code",
      "metadata": {
        "colab": {
          "base_uri": "https://localhost:8080/",
          "height": 204
        },
        "id": "RB-Lkw2hWBem",
        "outputId": "3f5ccb91-5713-40c3-ad69-1733bdd18ca9"
      },
      "source": [
        "new_df1=pd.concat([df,mm1],axis=1)\n",
        "new_df1"
      ],
      "execution_count": 45,
      "outputs": [
        {
          "output_type": "execute_result",
          "data": {
            "text/plain": [
              "   value1  value2 value3  one  two letter\n",
              "0   100.0   300.0    XUI    2    5      a\n",
              "1   167.0   121.0    VYU    3    4      a\n",
              "2   234.0   210.5    NMA    1    3      b\n",
              "3   167.0   210.5    IUY    4    2      b\n",
              "4     NaN     NaN    NaN    5    1      c"
            ],
            "text/html": "<div>\n<style scoped>\n    .dataframe tbody tr th:only-of-type {\n        vertical-align: middle;\n    }\n\n    .dataframe tbody tr th {\n        vertical-align: top;\n    }\n\n    .dataframe thead th {\n        text-align: right;\n    }\n</style>\n<table border=\"1\" class=\"dataframe\">\n  <thead>\n    <tr style=\"text-align: right;\">\n      <th></th>\n      <th>value1</th>\n      <th>value2</th>\n      <th>value3</th>\n      <th>one</th>\n      <th>two</th>\n      <th>letter</th>\n    </tr>\n  </thead>\n  <tbody>\n    <tr>\n      <th>0</th>\n      <td>100.0</td>\n      <td>300.0</td>\n      <td>XUI</td>\n      <td>2</td>\n      <td>5</td>\n      <td>a</td>\n    </tr>\n    <tr>\n      <th>1</th>\n      <td>167.0</td>\n      <td>121.0</td>\n      <td>VYU</td>\n      <td>3</td>\n      <td>4</td>\n      <td>a</td>\n    </tr>\n    <tr>\n      <th>2</th>\n      <td>234.0</td>\n      <td>210.5</td>\n      <td>NMA</td>\n      <td>1</td>\n      <td>3</td>\n      <td>b</td>\n    </tr>\n    <tr>\n      <th>3</th>\n      <td>167.0</td>\n      <td>210.5</td>\n      <td>IUY</td>\n      <td>4</td>\n      <td>2</td>\n      <td>b</td>\n    </tr>\n    <tr>\n      <th>4</th>\n      <td>NaN</td>\n      <td>NaN</td>\n      <td>NaN</td>\n      <td>5</td>\n      <td>1</td>\n      <td>c</td>\n    </tr>\n  </tbody>\n</table>\n</div>"
          },
          "metadata": {},
          "execution_count": 45
        }
      ]
    },
    {
      "cell_type": "markdown",
      "metadata": {
        "id": "CXKsO4dsX7KB"
      },
      "source": [
        "#### Join and merge"
      ]
    },
    {
      "cell_type": "code",
      "metadata": {
        "id": "lchtSIgpWdVp"
      },
      "source": [
        "sales = {\n",
        "    'Jones':10000,\n",
        "    'Chris':5000,\n",
        "    'Piyush':440,\n",
        "    'Meera':6700,\n",
        "    'Rahul':300\n",
        "}\n",
        "region = {\n",
        "    'Jones':'West',\n",
        "    'Chris':np.nan,\n",
        "    'Piyush':'West',\n",
        "    'Meera':np.nan,\n",
        "    'Anthony':'East',\n",
        "    'Ellen':'South',\n",
        "    'Josh': 'West',\n",
        "    'Simran': 'East',\n",
        "    'Oscar':'North'\n",
        "}"
      ],
      "execution_count": 46,
      "outputs": []
    },
    {
      "cell_type": "code",
      "metadata": {
        "id": "x7bxkRthX5pL",
        "colab": {
          "base_uri": "https://localhost:8080/",
          "height": 204
        },
        "outputId": "b0f1e817-df3d-450b-fbfb-1cd0bf17de97"
      },
      "source": [
        "sales_df = pd.DataFrame.from_dict(sales,orient='index',columns=['sales'])\n",
        "sales_df"
      ],
      "execution_count": 47,
      "outputs": [
        {
          "output_type": "execute_result",
          "data": {
            "text/plain": [
              "        sales\n",
              "Jones   10000\n",
              "Chris    5000\n",
              "Piyush    440\n",
              "Meera    6700\n",
              "Rahul     300"
            ],
            "text/html": "<div>\n<style scoped>\n    .dataframe tbody tr th:only-of-type {\n        vertical-align: middle;\n    }\n\n    .dataframe tbody tr th {\n        vertical-align: top;\n    }\n\n    .dataframe thead th {\n        text-align: right;\n    }\n</style>\n<table border=\"1\" class=\"dataframe\">\n  <thead>\n    <tr style=\"text-align: right;\">\n      <th></th>\n      <th>sales</th>\n    </tr>\n  </thead>\n  <tbody>\n    <tr>\n      <th>Jones</th>\n      <td>10000</td>\n    </tr>\n    <tr>\n      <th>Chris</th>\n      <td>5000</td>\n    </tr>\n    <tr>\n      <th>Piyush</th>\n      <td>440</td>\n    </tr>\n    <tr>\n      <th>Meera</th>\n      <td>6700</td>\n    </tr>\n    <tr>\n      <th>Rahul</th>\n      <td>300</td>\n    </tr>\n  </tbody>\n</table>\n</div>"
          },
          "metadata": {},
          "execution_count": 47
        }
      ]
    },
    {
      "cell_type": "code",
      "metadata": {
        "colab": {
          "base_uri": "https://localhost:8080/",
          "height": 328
        },
        "id": "VaakGiYLdf3l",
        "outputId": "cc9b6523-aecc-4beb-e552-eb8a54a781ee"
      },
      "source": [
        "region_df = pd.DataFrame.from_dict(region,orient='index',columns=['region'])\n",
        "region_df"
      ],
      "execution_count": 48,
      "outputs": [
        {
          "output_type": "execute_result",
          "data": {
            "text/plain": [
              "        region\n",
              "Jones     West\n",
              "Chris      NaN\n",
              "Piyush    West\n",
              "Meera      NaN\n",
              "Anthony   East\n",
              "Ellen    South\n",
              "Josh      West\n",
              "Simran    East\n",
              "Oscar    North"
            ],
            "text/html": "<div>\n<style scoped>\n    .dataframe tbody tr th:only-of-type {\n        vertical-align: middle;\n    }\n\n    .dataframe tbody tr th {\n        vertical-align: top;\n    }\n\n    .dataframe thead th {\n        text-align: right;\n    }\n</style>\n<table border=\"1\" class=\"dataframe\">\n  <thead>\n    <tr style=\"text-align: right;\">\n      <th></th>\n      <th>region</th>\n    </tr>\n  </thead>\n  <tbody>\n    <tr>\n      <th>Jones</th>\n      <td>West</td>\n    </tr>\n    <tr>\n      <th>Chris</th>\n      <td>NaN</td>\n    </tr>\n    <tr>\n      <th>Piyush</th>\n      <td>West</td>\n    </tr>\n    <tr>\n      <th>Meera</th>\n      <td>NaN</td>\n    </tr>\n    <tr>\n      <th>Anthony</th>\n      <td>East</td>\n    </tr>\n    <tr>\n      <th>Ellen</th>\n      <td>South</td>\n    </tr>\n    <tr>\n      <th>Josh</th>\n      <td>West</td>\n    </tr>\n    <tr>\n      <th>Simran</th>\n      <td>East</td>\n    </tr>\n    <tr>\n      <th>Oscar</th>\n      <td>North</td>\n    </tr>\n  </tbody>\n</table>\n</div>"
          },
          "metadata": {},
          "execution_count": 48
        }
      ]
    },
    {
      "cell_type": "markdown",
      "metadata": {
        "id": "OXt5Tqzhfhyz"
      },
      "source": [
        "#### Left Join"
      ]
    },
    {
      "cell_type": "code",
      "metadata": {
        "colab": {
          "base_uri": "https://localhost:8080/",
          "height": 328
        },
        "id": "Y6dt7EG4dwAT",
        "outputId": "467b2c3f-1e42-439b-beba-71de748a6f1e"
      },
      "source": [
        "joined_df = region_df.join(sales_df,how='left')\n",
        "joined_df"
      ],
      "execution_count": 49,
      "outputs": [
        {
          "output_type": "execute_result",
          "data": {
            "text/plain": [
              "        region    sales\n",
              "Jones     West  10000.0\n",
              "Chris      NaN   5000.0\n",
              "Piyush    West    440.0\n",
              "Meera      NaN   6700.0\n",
              "Anthony   East      NaN\n",
              "Ellen    South      NaN\n",
              "Josh      West      NaN\n",
              "Simran    East      NaN\n",
              "Oscar    North      NaN"
            ],
            "text/html": "<div>\n<style scoped>\n    .dataframe tbody tr th:only-of-type {\n        vertical-align: middle;\n    }\n\n    .dataframe tbody tr th {\n        vertical-align: top;\n    }\n\n    .dataframe thead th {\n        text-align: right;\n    }\n</style>\n<table border=\"1\" class=\"dataframe\">\n  <thead>\n    <tr style=\"text-align: right;\">\n      <th></th>\n      <th>region</th>\n      <th>sales</th>\n    </tr>\n  </thead>\n  <tbody>\n    <tr>\n      <th>Jones</th>\n      <td>West</td>\n      <td>10000.0</td>\n    </tr>\n    <tr>\n      <th>Chris</th>\n      <td>NaN</td>\n      <td>5000.0</td>\n    </tr>\n    <tr>\n      <th>Piyush</th>\n      <td>West</td>\n      <td>440.0</td>\n    </tr>\n    <tr>\n      <th>Meera</th>\n      <td>NaN</td>\n      <td>6700.0</td>\n    </tr>\n    <tr>\n      <th>Anthony</th>\n      <td>East</td>\n      <td>NaN</td>\n    </tr>\n    <tr>\n      <th>Ellen</th>\n      <td>South</td>\n      <td>NaN</td>\n    </tr>\n    <tr>\n      <th>Josh</th>\n      <td>West</td>\n      <td>NaN</td>\n    </tr>\n    <tr>\n      <th>Simran</th>\n      <td>East</td>\n      <td>NaN</td>\n    </tr>\n    <tr>\n      <th>Oscar</th>\n      <td>North</td>\n      <td>NaN</td>\n    </tr>\n  </tbody>\n</table>\n</div>"
          },
          "metadata": {},
          "execution_count": 49
        }
      ]
    },
    {
      "cell_type": "markdown",
      "metadata": {
        "id": "jyAX9Rx5fqEe"
      },
      "source": [
        "#### Right Join"
      ]
    },
    {
      "cell_type": "code",
      "metadata": {
        "colab": {
          "base_uri": "https://localhost:8080/",
          "height": 204
        },
        "id": "lbD8Ax7ze0zf",
        "outputId": "298e721a-d10c-485f-c6a7-0e868e20a42b"
      },
      "source": [
        "joined_df = region_df.join(sales_df,how='right')\n",
        "joined_df"
      ],
      "execution_count": 50,
      "outputs": [
        {
          "output_type": "execute_result",
          "data": {
            "text/plain": [
              "       region  sales\n",
              "Jones    West  10000\n",
              "Chris     NaN   5000\n",
              "Piyush   West    440\n",
              "Meera     NaN   6700\n",
              "Rahul     NaN    300"
            ],
            "text/html": "<div>\n<style scoped>\n    .dataframe tbody tr th:only-of-type {\n        vertical-align: middle;\n    }\n\n    .dataframe tbody tr th {\n        vertical-align: top;\n    }\n\n    .dataframe thead th {\n        text-align: right;\n    }\n</style>\n<table border=\"1\" class=\"dataframe\">\n  <thead>\n    <tr style=\"text-align: right;\">\n      <th></th>\n      <th>region</th>\n      <th>sales</th>\n    </tr>\n  </thead>\n  <tbody>\n    <tr>\n      <th>Jones</th>\n      <td>West</td>\n      <td>10000</td>\n    </tr>\n    <tr>\n      <th>Chris</th>\n      <td>NaN</td>\n      <td>5000</td>\n    </tr>\n    <tr>\n      <th>Piyush</th>\n      <td>West</td>\n      <td>440</td>\n    </tr>\n    <tr>\n      <th>Meera</th>\n      <td>NaN</td>\n      <td>6700</td>\n    </tr>\n    <tr>\n      <th>Rahul</th>\n      <td>NaN</td>\n      <td>300</td>\n    </tr>\n  </tbody>\n</table>\n</div>"
          },
          "metadata": {},
          "execution_count": 50
        }
      ]
    },
    {
      "cell_type": "markdown",
      "metadata": {
        "id": "XaUTBZgEfs9f"
      },
      "source": [
        "#### Inner Join"
      ]
    },
    {
      "cell_type": "code",
      "metadata": {
        "colab": {
          "base_uri": "https://localhost:8080/",
          "height": 173
        },
        "id": "W-g7lBw3fAwV",
        "outputId": "7556b050-2ce8-4ff4-ee50-423d04627465"
      },
      "source": [
        "joined_df = region_df.join(sales_df,how='inner')\n",
        "joined_df"
      ],
      "execution_count": 51,
      "outputs": [
        {
          "output_type": "execute_result",
          "data": {
            "text/plain": [
              "       region  sales\n",
              "Jones    West  10000\n",
              "Chris     NaN   5000\n",
              "Piyush   West    440\n",
              "Meera     NaN   6700"
            ],
            "text/html": "<div>\n<style scoped>\n    .dataframe tbody tr th:only-of-type {\n        vertical-align: middle;\n    }\n\n    .dataframe tbody tr th {\n        vertical-align: top;\n    }\n\n    .dataframe thead th {\n        text-align: right;\n    }\n</style>\n<table border=\"1\" class=\"dataframe\">\n  <thead>\n    <tr style=\"text-align: right;\">\n      <th></th>\n      <th>region</th>\n      <th>sales</th>\n    </tr>\n  </thead>\n  <tbody>\n    <tr>\n      <th>Jones</th>\n      <td>West</td>\n      <td>10000</td>\n    </tr>\n    <tr>\n      <th>Chris</th>\n      <td>NaN</td>\n      <td>5000</td>\n    </tr>\n    <tr>\n      <th>Piyush</th>\n      <td>West</td>\n      <td>440</td>\n    </tr>\n    <tr>\n      <th>Meera</th>\n      <td>NaN</td>\n      <td>6700</td>\n    </tr>\n  </tbody>\n</table>\n</div>"
          },
          "metadata": {},
          "execution_count": 51
        }
      ]
    },
    {
      "cell_type": "markdown",
      "metadata": {
        "id": "EWDZn5awfxt6"
      },
      "source": [
        "#### Outer Join"
      ]
    },
    {
      "cell_type": "code",
      "metadata": {
        "colab": {
          "base_uri": "https://localhost:8080/",
          "height": 359
        },
        "id": "Nihm6_dWfRil",
        "outputId": "d94156b8-d6ea-4efa-d117-f562b6341f23"
      },
      "source": [
        "joined_df = region_df.join(sales_df,how='outer')\n",
        "joined_df"
      ],
      "execution_count": 52,
      "outputs": [
        {
          "output_type": "execute_result",
          "data": {
            "text/plain": [
              "        region    sales\n",
              "Anthony   East      NaN\n",
              "Chris      NaN   5000.0\n",
              "Ellen    South      NaN\n",
              "Jones     West  10000.0\n",
              "Josh      West      NaN\n",
              "Meera      NaN   6700.0\n",
              "Oscar    North      NaN\n",
              "Piyush    West    440.0\n",
              "Rahul      NaN    300.0\n",
              "Simran    East      NaN"
            ],
            "text/html": "<div>\n<style scoped>\n    .dataframe tbody tr th:only-of-type {\n        vertical-align: middle;\n    }\n\n    .dataframe tbody tr th {\n        vertical-align: top;\n    }\n\n    .dataframe thead th {\n        text-align: right;\n    }\n</style>\n<table border=\"1\" class=\"dataframe\">\n  <thead>\n    <tr style=\"text-align: right;\">\n      <th></th>\n      <th>region</th>\n      <th>sales</th>\n    </tr>\n  </thead>\n  <tbody>\n    <tr>\n      <th>Anthony</th>\n      <td>East</td>\n      <td>NaN</td>\n    </tr>\n    <tr>\n      <th>Chris</th>\n      <td>NaN</td>\n      <td>5000.0</td>\n    </tr>\n    <tr>\n      <th>Ellen</th>\n      <td>South</td>\n      <td>NaN</td>\n    </tr>\n    <tr>\n      <th>Jones</th>\n      <td>West</td>\n      <td>10000.0</td>\n    </tr>\n    <tr>\n      <th>Josh</th>\n      <td>West</td>\n      <td>NaN</td>\n    </tr>\n    <tr>\n      <th>Meera</th>\n      <td>NaN</td>\n      <td>6700.0</td>\n    </tr>\n    <tr>\n      <th>Oscar</th>\n      <td>North</td>\n      <td>NaN</td>\n    </tr>\n    <tr>\n      <th>Piyush</th>\n      <td>West</td>\n      <td>440.0</td>\n    </tr>\n    <tr>\n      <th>Rahul</th>\n      <td>NaN</td>\n      <td>300.0</td>\n    </tr>\n    <tr>\n      <th>Simran</th>\n      <td>East</td>\n      <td>NaN</td>\n    </tr>\n  </tbody>\n</table>\n</div>"
          },
          "metadata": {},
          "execution_count": 52
        }
      ]
    },
    {
      "cell_type": "code",
      "metadata": {
        "id": "vOiTxOm5fWz-"
      },
      "source": [
        "region_df.index.name='names'\n",
        "sales_df.index.name='names'"
      ],
      "execution_count": 53,
      "outputs": []
    },
    {
      "cell_type": "markdown",
      "metadata": {
        "id": "2i3B58H9g8CC"
      },
      "source": [
        "#### Merge"
      ]
    },
    {
      "cell_type": "code",
      "metadata": {
        "colab": {
          "base_uri": "https://localhost:8080/",
          "height": 359
        },
        "id": "ws8FrX6hgBv7",
        "outputId": "e6765373-74f4-4ba3-bc50-f5d139c6e1dd"
      },
      "source": [
        "pd.merge(region_df,sales_df,on='names',how='left')"
      ],
      "execution_count": 54,
      "outputs": [
        {
          "output_type": "execute_result",
          "data": {
            "text/plain": [
              "        region    sales\n",
              "names                  \n",
              "Jones     West  10000.0\n",
              "Chris      NaN   5000.0\n",
              "Piyush    West    440.0\n",
              "Meera      NaN   6700.0\n",
              "Anthony   East      NaN\n",
              "Ellen    South      NaN\n",
              "Josh      West      NaN\n",
              "Simran    East      NaN\n",
              "Oscar    North      NaN"
            ],
            "text/html": "<div>\n<style scoped>\n    .dataframe tbody tr th:only-of-type {\n        vertical-align: middle;\n    }\n\n    .dataframe tbody tr th {\n        vertical-align: top;\n    }\n\n    .dataframe thead th {\n        text-align: right;\n    }\n</style>\n<table border=\"1\" class=\"dataframe\">\n  <thead>\n    <tr style=\"text-align: right;\">\n      <th></th>\n      <th>region</th>\n      <th>sales</th>\n    </tr>\n    <tr>\n      <th>names</th>\n      <th></th>\n      <th></th>\n    </tr>\n  </thead>\n  <tbody>\n    <tr>\n      <th>Jones</th>\n      <td>West</td>\n      <td>10000.0</td>\n    </tr>\n    <tr>\n      <th>Chris</th>\n      <td>NaN</td>\n      <td>5000.0</td>\n    </tr>\n    <tr>\n      <th>Piyush</th>\n      <td>West</td>\n      <td>440.0</td>\n    </tr>\n    <tr>\n      <th>Meera</th>\n      <td>NaN</td>\n      <td>6700.0</td>\n    </tr>\n    <tr>\n      <th>Anthony</th>\n      <td>East</td>\n      <td>NaN</td>\n    </tr>\n    <tr>\n      <th>Ellen</th>\n      <td>South</td>\n      <td>NaN</td>\n    </tr>\n    <tr>\n      <th>Josh</th>\n      <td>West</td>\n      <td>NaN</td>\n    </tr>\n    <tr>\n      <th>Simran</th>\n      <td>East</td>\n      <td>NaN</td>\n    </tr>\n    <tr>\n      <th>Oscar</th>\n      <td>North</td>\n      <td>NaN</td>\n    </tr>\n  </tbody>\n</table>\n</div>"
          },
          "metadata": {},
          "execution_count": 54
        }
      ]
    },
    {
      "cell_type": "code",
      "metadata": {
        "id": "j0CvVl5qgqBh"
      },
      "source": [],
      "execution_count": null,
      "outputs": []
    }
  ]
}